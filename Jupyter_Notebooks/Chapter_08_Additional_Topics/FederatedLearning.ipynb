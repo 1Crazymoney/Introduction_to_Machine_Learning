{
 "cells": [
  {
   "attachments": {},
   "cell_type": "markdown",
   "metadata": {},
   "source": [
    "<div dir=\"rtl\" align=\"center\">\n",
    "<font face=\"XB Zar\" size=5>\n",
    "    <font face=\"IranNastaliq\" size=5>\n",
    "      به نام خدا\n",
    "    </font>\n",
    "    <br>\n",
    "    <font size=3>\n",
    "      دانشگاه صنعتی شریف - دانشکده مهندسی کامپیوتر\n",
    "    </font>\n",
    "    <br>\n",
    "    <font color=blue size=5>\n",
    "      مقدمه‌ای بر یادگیری ماشین\n",
    "    </font>\n",
    "    <br>\n",
    "    <hr/>\n",
    "    <font color=red size=6>\n",
    "      مباحث تکمیلی:‌ Federated Learning\n",
    "    </font>\n",
    "    <br>\n",
    "      نویسندگان:‌ آرین احدی نیا\n",
    "    <hr>\n",
    "<br>\n",
    "  <div align=\"right\">\n",
    "\n",
    "  <div>\n",
    "</div>"
   ]
  },
  {
   "attachments": {},
   "cell_type": "markdown",
   "metadata": {},
   "source": [
    "<div dir=rtl id=\"\">\n",
    "<font face=\"XB Zar\" size=4>\n",
    "<font color=\"red\" size=5>\n",
    "مقدمه\n",
    "</font>\n",
    "<hr />\n",
    "\n",
    "Federated Learning که از این پس برای اختصار آن را FL خواهیم نامید، راهکاری برای یادگیری توزیع شده بدون به اشتراک گذاشته شدن داده ها است. در این روش به جای آنکه مستقیما داده را به اشتراک بگذاریم،‌ بردار گرادیانی به سرور ارسال می‌کنیم که سرور بر اساس آن بردار گرادیانی، مدل را به روز می‌کند. این روش به دلیل اینکه داده ها را به اشتراک نمی‌گذارد، می‌تواند برای داده های حساس مانند داده های پزشکی و داده های مربوط به اطلاعات شخصی مفید باشد. این روش در این دفترچه به صورت مختصر بررسی خواهد شد و در نهایت چالش‌ها و مشکلات آنها و برخی از راهکار‌های برای فائق آمدن بر این مشکلات ارائه خواهد شد.\n",
    "\n",
    "</font>\n",
    "</div>"
   ]
  },
  {
   "attachments": {},
   "cell_type": "markdown",
   "metadata": {},
   "source": [
    "<div dir=rtl id=\"\">\n",
    "<font face=\"XB Zar\" size=4>\n",
    "<font color=\"red\" size=5>\n",
    "ساختار مدل\n",
    "</font>\n",
    "<hr />\n",
    "\n",
    "ایده FL اولین بار توسط McMahan در سال ۲۰‍۱۷ مطرح شد. در ابتدا لازم است که برای معرفی FL بر روی برخی تعاریف با هم به توافق برسیم.\n",
    "\n",
    "- کاربر یا Client که مدل مدل را از سرور دریافت می‌کند، آن را به روز رسانی می‌کند و بروز رسانی خود را به سرور ارسال می‌کند.\n",
    "\n",
    "- Server که مدل را در خود نگه‌داری می‌کند و با جمع‌آوری بروزرسانی ارسال شده توسط کاربران مدل را به روز می‌کند.\n",
    "\n",
    "- بردار گرادیان: در این‌جا منظور از بردار گرادیان،‌ بردار بروزرسانی‌ای است که وزن‌های مدل را بروزرسانی می‌کند.\n",
    "\n",
    "شکل زیر شمای کلی این سیستم را نشان می‌دهد.\n",
    "\n",
    "<center><img src=\"./img1.png\"></img></center>\n",
    "\n",
    "الگوریتم اولیه‌ای که برای FL ارائه شده است، FedAvg نام دارد. این الگوریتم به در هر مرحله به این صورت کار می‌کند.\n",
    "\n",
    "- سرور گروهی از کاربران را انتخاب می‌کند.\n",
    "\n",
    "- سرور مدل را به گروهی از کاربران ارسال می‌کند.\n",
    "\n",
    "- کاربران با استفاده از داده‌های خودشان مدل را آموزش می‌دهند و بروز‌رسانی اعمال شده بر روی مدل را در قالب یک بردار گرادیان به سرور ارسال می‌کنند.\n",
    "\n",
    "- سرور بردار‌های گرادیان را میانگین می‌گیرد.\n",
    "\n",
    "- سرور مدل اصلی را بروز می‌کند.\n",
    "\n",
    "</font>\n",
    "</div>"
   ]
  },
  {
   "attachments": {},
   "cell_type": "markdown",
   "metadata": {},
   "source": [
    "<div dir=rtl id=\"\">\n",
    "<font face=\"XB Zar\" size=4>\n",
    "<font color=\"red\" size=5>\n",
    "\n",
    "پیاده‌سازی و ریاضیات\n",
    "\n",
    "</font>\n",
    "<hr />\n",
    "\n",
    "در این قسمت به پیاده‌سازی FL از پایه و توضیح قسمت‌های مختلف آن پرداخته می‌شود. این پیاده‌سازی تماما مبتنی بر PyTorch است و از هیچ کتابخانه‌ دیگری در آن استفاده نشده است.\n",
    "\n",
    "</font>\n",
    "</div>"
   ]
  },
  {
   "cell_type": "code",
   "execution_count": 69,
   "metadata": {},
   "outputs": [],
   "source": [
    "import torch\n",
    "import torchvision\n",
    "import tqdm\n",
    "import numpy as np\n"
   ]
  },
  {
   "attachments": {},
   "cell_type": "markdown",
   "metadata": {},
   "source": [
    "<div dir=rtl id=\"\">\n",
    "<font face=\"XB Zar\" size=4>\n",
    "\n",
    "تنظیمات سیستم ما به این صورت خواهد بود که ۸ کاربر خواهیم داشت که در ۳۰ راند مدل را Train خواهند کرد. هر یک از کاربران در سه ایپاک مدل را ترین خواهند کرد و نرخ یادگیری آنها برابر 0.02 خواهد بود.\n",
    "\n",
    "</font>\n",
    "</div>"
   ]
  },
  {
   "cell_type": "code",
   "execution_count": 2,
   "metadata": {},
   "outputs": [],
   "source": [
    "num_clients = 8\n",
    "rounds = 30\n",
    "epochs_per_client = 3\n",
    "learning_rate = 2e-2\n"
   ]
  },
  {
   "attachments": {},
   "cell_type": "markdown",
   "metadata": {},
   "source": [
    "<div dir=rtl id=\"\">\n",
    "<font face=\"XB Zar\" size=4>\n",
    "<font color=\"red\" size=5>\n",
    "\n",
    "دادگان مورد استفاده\n",
    "\n",
    "</font>\n",
    "<hr />\n",
    "\n",
    "در این نوت‌بوک ما به پیاده‌سازی یک مدل برای طبقه‌بندی دادگان MNIST می‌پردازیم. در سلول زیر به بارگیری دادگان این مجموعه داده می‌پردازیم.\n",
    "\n",
    "</font>\n",
    "</div>"
   ]
  },
  {
   "cell_type": "code",
   "execution_count": 133,
   "metadata": {},
   "outputs": [],
   "source": [
    "train_dataset = torchvision.datasets.MNIST(\n",
    "    \"./working\",\n",
    "    train=True,\n",
    "    download=True,\n",
    "    transform=torchvision.transforms.transforms.ToTensor(),\n",
    ")\n",
    "test_dataset = torchvision.datasets.MNIST(\n",
    "    \"./working\",\n",
    "    train=False,\n",
    "    download=True,\n",
    "    transform=torchvision.transforms.transforms.ToTensor(),\n",
    ")\n"
   ]
  },
  {
   "attachments": {},
   "cell_type": "markdown",
   "metadata": {},
   "source": [
    "<div dir=rtl id=\"\">\n",
    "<font face=\"XB Zar\" size=4>\n",
    "\n",
    "حال مجموعه داده آموزش را به نسبت ۴ به ۱ به داده آموزش و داده صحت‌سنجی برای تنظیم ابرپارامتر‌ها تقسیم می‌کنیم.\n",
    "\n",
    "</font>\n",
    "</div>"
   ]
  },
  {
   "cell_type": "code",
   "execution_count": 134,
   "metadata": {},
   "outputs": [],
   "source": [
    "train_dataset, val_dataset = torch.utils.data.random_split(\n",
    "    train_dataset,\n",
    "    [\n",
    "        int(len(train_dataset) * 0.80),\n",
    "        int(len(train_dataset) * 0.20),\n",
    "    ],\n",
    ")\n"
   ]
  },
  {
   "cell_type": "code",
   "execution_count": 135,
   "metadata": {},
   "outputs": [
    {
     "data": {
      "text/plain": [
       "(48000, 12000, 10000)"
      ]
     },
     "execution_count": 135,
     "metadata": {},
     "output_type": "execute_result"
    }
   ],
   "source": [
    "total_train_size = len(train_dataset)\n",
    "total_test_size = len(test_dataset)\n",
    "total_val_size = len(val_dataset)\n",
    "\n",
    "total_train_size, total_val_size, total_test_size\n"
   ]
  },
  {
   "attachments": {},
   "cell_type": "markdown",
   "metadata": {},
   "source": [
    "<div dir=rtl id=\"\">\n",
    "<font face=\"XB Zar\" size=4>\n",
    "\n",
    "لطفا توجه بفرمایید که دادگان MNIST از ۱۰ کلاس هستند که هر یک از آنها عکسی به ابعاد ۲۸ در ۲۸ پیکسل است. هر یک از batchهای مورد استفاده شامل ۱۲۸ داده خواهد بود.\n",
    "\n",
    "</font>\n",
    "</div>"
   ]
  },
  {
   "cell_type": "code",
   "execution_count": 136,
   "metadata": {},
   "outputs": [],
   "source": [
    "classes = 10\n",
    "input_dim = 784\n",
    "batch_size = 128\n"
   ]
  },
  {
   "attachments": {},
   "cell_type": "markdown",
   "metadata": {},
   "source": [
    "<div dir=rtl id=\"\">\n",
    "<font face=\"XB Zar\" size=4>\n",
    "<font color=\"red\" size=5>\n",
    "\n",
    "استفاده از سخت‌افزار مناسب\n",
    "\n",
    "</font>\n",
    "<hr />\n",
    "\n",
    "از آنجایی که مدل مورد استفاده یک مدل عمیق است، ترجیح می‌دهیم که از GPU برای آموزش مدل استفاده کنیم. بنابرین در سلول زیر بررسی می‌کنیم که اگر GPU در دسترس باشد، از آن و اگر نباشد از CPU استفاده کنیم.\n",
    "\n",
    "</font>\n",
    "</div>"
   ]
  },
  {
   "cell_type": "code",
   "execution_count": 137,
   "metadata": {},
   "outputs": [
    {
     "data": {
      "text/plain": [
       "device(type='cuda')"
      ]
     },
     "execution_count": 137,
     "metadata": {},
     "output_type": "execute_result"
    }
   ],
   "source": [
    "def get_device():\n",
    "    return torch.device(\"cuda\") if torch.cuda.is_available() else torch.device(\"cpu\")\n",
    "\n",
    "\n",
    "def to_device(object, device):\n",
    "    if isinstance(object, (list, tuple)):\n",
    "        return [to_device(x, device) for x in object]\n",
    "    return object.to(device, non_blocking=True)\n",
    "\n",
    "\n",
    "device = get_device()\n",
    "device\n"
   ]
  },
  {
   "attachments": {},
   "cell_type": "markdown",
   "metadata": {},
   "source": [
    "<div dir=rtl id=\"\">\n",
    "<font face=\"XB Zar\" size=4>\n",
    "\n",
    "حال DataLoader زیر را به عنوان یک Wrapper برای دیتاست‌های عادی تولید می‌کنیم که داده را به دستگاه مورد نظر انتقال دهد.\n",
    "\n",
    "</font>\n",
    "</div>"
   ]
  },
  {
   "cell_type": "code",
   "execution_count": 138,
   "metadata": {},
   "outputs": [],
   "source": [
    "class DeviceDataLoader(torch.utils.data.DataLoader):\n",
    "    def __init__(self, dl, device):\n",
    "        self.dl = dl\n",
    "        self.device = device\n",
    "\n",
    "    def __iter__(self):\n",
    "        for batch in self.dl:\n",
    "            yield to_device(batch, self.device)\n",
    "\n",
    "    def __len__(self):\n",
    "        return len(self.dl)\n"
   ]
  },
  {
   "attachments": {},
   "cell_type": "markdown",
   "metadata": {},
   "source": [
    "<div dir=rtl id=\"\">\n",
    "<font face=\"XB Zar\" size=4>\n",
    "\n",
    "تابع زیر برای این منظور است که دقت خروجی بر روی یک batch محاسبه شود.\n",
    "\n",
    "</font>\n",
    "</div>"
   ]
  },
  {
   "cell_type": "code",
   "execution_count": 139,
   "metadata": {},
   "outputs": [],
   "source": [
    "def batch_accuracy(outputs, labels):\n",
    "    with torch.no_grad():\n",
    "        _, predictions = torch.max(outputs, dim=1)\n",
    "        return torch.tensor(torch.sum(predictions == labels).item() / len(predictions))\n"
   ]
  },
  {
   "attachments": {},
   "cell_type": "markdown",
   "metadata": {},
   "source": [
    "<div dir=rtl id=\"\">\n",
    "<font face=\"XB Zar\" size=4>\n",
    "<font color=\"red\" size=5>\n",
    "\n",
    "طراحی مدل\n",
    "\n",
    "</font>\n",
    "<hr />\n",
    "\n",
    "طراحی مدل برای FL هیج تفاوتی با طراحی مدل عادی ندارد. در این مساله ما یک مدل Feed Forward ساده تعریف می‌کنیم. تنها تغییری که در این مدل ایجاد کرده‌ایم، این است که ما تعدادی از لایه‌ها را به اصطلاح ترک‌ می‌کنیم تا تغییرات آنها را برای ارسال به سرور داشته باشیم.\n",
    "\n",
    "</font>\n",
    "</div>"
   ]
  },
  {
   "cell_type": "code",
   "execution_count": 140,
   "metadata": {},
   "outputs": [],
   "source": [
    "class FederatedNet(torch.nn.Module):\n",
    "    def __init__(self):\n",
    "        super().__init__()\n",
    "        self.conv1 = torch.nn.Conv2d(1, 20, 7)\n",
    "        self.conv2 = torch.nn.Conv2d(20, 40, 7)\n",
    "        self.maxpool = torch.nn.MaxPool2d(2, 2)\n",
    "        self.flatten = torch.nn.Flatten()\n",
    "        self.linear = torch.nn.Linear(2560, 10)\n",
    "        self.non_linearity = torch.nn.ReLU()\n",
    "        self.track_layers = {\n",
    "            \"conv1\": self.conv1,\n",
    "            \"conv2\": self.conv2,\n",
    "            \"linear\": self.linear,\n",
    "        }\n",
    "\n",
    "    def forward(self, x_batch):\n",
    "        return torch.nn.Sequential(\n",
    "            self.conv1,\n",
    "            self.non_linearity,\n",
    "            self.conv2,\n",
    "            self.non_linearity,\n",
    "            self.maxpool,\n",
    "            self.flatten,\n",
    "            self.linear,\n",
    "        )(x_batch)\n",
    "\n",
    "    def get_track_layers(self):\n",
    "        return self.track_layers\n"
   ]
  },
  {
   "attachments": {},
   "cell_type": "markdown",
   "metadata": {},
   "source": [
    "<div dir=rtl id=\"\">\n",
    "<font face=\"XB Zar\" size=4>\n",
    "\n",
    "تابع زیر یک batch را به عنوان ورودی به مدل می‌دهد و دقت و loss را بر روی آن محاسبه می‌کند.\n",
    "</font>\n",
    "</div>"
   ]
  },
  {
   "cell_type": "code",
   "execution_count": 141,
   "metadata": {},
   "outputs": [],
   "source": [
    "def process_batch(model, batch):\n",
    "    images, labels = batch\n",
    "    outputs = model(images)\n",
    "    loss = torch.nn.functional.cross_entropy(outputs, labels)\n",
    "    accuracy = batch_accuracy(outputs, labels)\n",
    "    return (loss, accuracy)\n"
   ]
  },
  {
   "attachments": {},
   "cell_type": "markdown",
   "metadata": {},
   "source": [
    "<div dir=rtl id=\"\">\n",
    "<font face=\"XB Zar\" size=4>\n",
    "\n",
    "تابع زیر وظیفه آموزش مدل بر روی یک مجموعه داده را دارد. این تابع با آموزش عادی مدل عمیق تفاوتی ندارد.\n",
    "\n",
    "</font>\n",
    "</div>"
   ]
  },
  {
   "cell_type": "code",
   "execution_count": 142,
   "metadata": {},
   "outputs": [],
   "source": [
    "def fit(model, dataset, epochs, lr, batch_size=batch_size, opt=torch.optim.SGD):\n",
    "    dataloader = DeviceDataLoader(\n",
    "        torch.utils.data.DataLoader(dataset, batch_size, shuffle=True), device\n",
    "    )\n",
    "    optimizer = opt(model.parameters(), lr)\n",
    "    history = []\n",
    "    for epoch in range(epochs):\n",
    "        losses = []\n",
    "        accs = []\n",
    "        for batch in dataloader:\n",
    "            loss, acc = process_batch(model, batch)\n",
    "            loss.backward()\n",
    "            optimizer.step()\n",
    "            optimizer.zero_grad()\n",
    "            loss.detach()\n",
    "            losses.append(loss)\n",
    "            accs.append(acc)\n",
    "        avg_loss = torch.stack(losses).mean().item()\n",
    "        avg_acc = torch.stack(accs).mean().item()\n",
    "        history.append((avg_loss, avg_acc))\n",
    "    return history\n"
   ]
  },
  {
   "attachments": {},
   "cell_type": "markdown",
   "metadata": {},
   "source": [
    "<div dir=rtl id=\"\">\n",
    "<font face=\"XB Zar\" size=4>\n",
    "\n",
    "همان‌گونه که می‌دانید در FL کاربران در هر مرحله مدل را از سرور دریافت می‌کنند و آن مدل را آموزش می‌دهد. تابع زیر برای این منظور است. این تابع با دریافت پارامتر‌های یک مدل، آن ها را با پارامتر‌های فعلی مدل جایگزین می‌کند.\n",
    "\n",
    "</font>\n",
    "</div>"
   ]
  },
  {
   "cell_type": "code",
   "execution_count": 143,
   "metadata": {},
   "outputs": [],
   "source": [
    "def apply_parameters(model, parameters_dict):\n",
    "    with torch.no_grad():\n",
    "        for layer_name in parameters_dict:\n",
    "            model.track_layers[layer_name].weight.data *= 0\n",
    "            model.track_layers[layer_name].bias.data *= 0\n",
    "            model.track_layers[layer_name].weight.data += parameters_dict[layer_name][\n",
    "                \"weight\"\n",
    "            ]\n",
    "            model.track_layers[layer_name].bias.data += parameters_dict[layer_name][\n",
    "                \"bias\"\n",
    "            ]\n"
   ]
  },
  {
   "attachments": {},
   "cell_type": "markdown",
   "metadata": {},
   "source": [
    "<div dir=rtl id=\"\">\n",
    "<font face=\"XB Zar\" size=4>\n",
    "\n",
    "تابع زیر به این منظور است که پارامتر‌های مدل را استخراج کند و آنها را در قالب یک دیکشنری در بیاورد که بتوان آنها بین کاربر و سرور جابجا کرد.\n",
    "\n",
    "</font>\n",
    "</div>"
   ]
  },
  {
   "cell_type": "code",
   "execution_count": 144,
   "metadata": {},
   "outputs": [],
   "source": [
    "def get_parameters(model):\n",
    "    parameters_dict = dict()\n",
    "    for layer_name in model.track_layers:\n",
    "        parameters_dict[layer_name] = {\n",
    "            \"weight\": model.track_layers[layer_name].weight.data,\n",
    "            \"bias\": model.track_layers[layer_name].bias.data,\n",
    "        }\n",
    "    return parameters_dict\n"
   ]
  },
  {
   "attachments": {},
   "cell_type": "markdown",
   "metadata": {},
   "source": [
    "<div dir=rtl id=\"\">\n",
    "<font face=\"XB Zar\" size=4>\n",
    "\n",
    "این تابع برای بررسی دقت مدل است که به عنوان خروجی loss و دقت مدل را بر روی داده تست بر‌میگرداند.\n",
    "\n",
    "</font>\n",
    "</div>"
   ]
  },
  {
   "cell_type": "code",
   "execution_count": 152,
   "metadata": {},
   "outputs": [],
   "source": [
    "def evaluate(model, dataset, batch_size=batch_size):\n",
    "    dataloader = DeviceDataLoader(\n",
    "        torch.utils.data.DataLoader(dataset, batch_size), device\n",
    "    )\n",
    "    losses = []\n",
    "    accs = []\n",
    "    with torch.no_grad():\n",
    "        for batch in dataloader:\n",
    "            loss, acc = process_batch(model, batch)\n",
    "            losses.append(loss)\n",
    "            accs.append(acc)\n",
    "    avg_loss = torch.stack(losses).mean().item()\n",
    "    avg_acc = torch.stack(accs).mean().item()\n",
    "    return (avg_loss, avg_acc)\n"
   ]
  },
  {
   "attachments": {},
   "cell_type": "markdown",
   "metadata": {},
   "source": [
    "<div dir=rtl id=\"\">\n",
    "<font face=\"XB Zar\" size=4>\n",
    "<font color=\"red\" size=5>\n",
    "\n",
    "مدل کاربر\n",
    "\n",
    "</font>\n",
    "<hr />\n",
    "\n",
    "حال مدل مورد استفاده برای هر کاربر را پیاده‌سازی می‌کنیم. هر کاربر یک مدل و یک مجموعه داده دارد. فرآیند آموزش هر کاربر به این صورت است که ابتدا وزن‌ها را به عنوان ورودی از سرور دریافت می‌کند، سپس این وزن‌ها به بر روی شبکه اعمال می‌شود و بر روی آن وزن‌ها مدل آموزش داده می‌شود. در نهایت خروجی مرحله آموزش به عنوان وزن‌های بروز شده به سرور ارسال می‌شود.\n",
    "\n",
    "</font>\n",
    "</div>"
   ]
  },
  {
   "cell_type": "code",
   "execution_count": 16,
   "metadata": {},
   "outputs": [],
   "source": [
    "class Client:\n",
    "    def __init__(self, client_id, model, dataset):\n",
    "        self.client_id = client_id\n",
    "        self.model = to_device(model, device)\n",
    "        self.dataset = dataset\n",
    "\n",
    "    def get_dataset_size(self):\n",
    "        return len(self.dataset)\n",
    "\n",
    "    def get_client_id(self):\n",
    "        return self.client_id\n",
    "\n",
    "    def train(self, parameters_dict):\n",
    "        apply_parameters(self.model, parameters_dict)\n",
    "        train_history = fit(\n",
    "            self.model,\n",
    "            self.dataset,\n",
    "            epochs_per_client,\n",
    "            learning_rate,\n",
    "            batch_size,\n",
    "        )\n",
    "        print(\n",
    "            f\"{self.client_id}: Loss = {round(train_history[-1][0], 4)}, Accuracy = {round(train_history[-1][1], 4)}\"\n",
    "        )\n",
    "        return get_parameters(self.model)\n"
   ]
  },
  {
   "attachments": {},
   "cell_type": "markdown",
   "metadata": {},
   "source": [
    "<div dir=rtl id=\"\">\n",
    "<font face=\"XB Zar\" size=4>\n",
    "<font color=\"red\" size=5>\n",
    "\n",
    "مجموعه دادگاه کاربر\n",
    "\n",
    "</font>\n",
    "<hr />\n",
    "\n",
    "حال در این سلول مجموعه دادگان در هم ریخته را تقسیم‌بندی می‌کنیم و به هر کاربر یک بخش از آن را می‌دهیم.\n",
    "\n",
    "</font>\n",
    "</div>"
   ]
  },
  {
   "cell_type": "code",
   "execution_count": 17,
   "metadata": {},
   "outputs": [],
   "source": [
    "examples_per_client = total_train_size // num_clients\n",
    "client_datasets = torch.utils.data.random_split(\n",
    "    train_dataset,\n",
    "    [\n",
    "        min(i + examples_per_client, total_train_size) - i\n",
    "        for i in range(0, total_train_size, examples_per_client)\n",
    "    ],\n",
    ")\n",
    "clients = [\n",
    "    Client(\"client_\" + str(i), FederatedNet(), client_datasets[i])\n",
    "    for i in range(num_clients)\n",
    "]\n"
   ]
  },
  {
   "attachments": {},
   "cell_type": "markdown",
   "metadata": {},
   "source": [
    "<div dir=rtl id=\"\">\n",
    "<font face=\"XB Zar\" size=4>\n",
    "<font color=\"red\" size=5>\n",
    "\n",
    "\n",
    "\n",
    "</font>\n",
    "<hr />\n",
    "\n",
    "\n",
    "\n",
    "</font>\n",
    "</div>"
   ]
  },
  {
   "cell_type": "code",
   "execution_count": 18,
   "metadata": {},
   "outputs": [
    {
     "name": "stdout",
     "output_type": "stream",
     "text": [
      "Start Round 1 ...\n",
      "client_0: Loss = 0.4871, Accuracy = 0.8463\n",
      "client_1: Loss = 0.4908, Accuracy = 0.8533\n",
      "client_2: Loss = 0.4711, Accuracy = 0.8594\n",
      "client_3: Loss = 0.4758, Accuracy = 0.8599\n",
      "client_4: Loss = 0.483, Accuracy = 0.8513\n",
      "client_5: Loss = 0.4779, Accuracy = 0.8588\n",
      "client_6: Loss = 0.5021, Accuracy = 0.8518\n",
      "client_7: Loss = 0.4878, Accuracy = 0.849\n",
      "After round 1, train_loss = 0.3979, dev_loss = 0.3931, dev_acc = 0.8858\n",
      "\n",
      "Start Round 2 ...\n",
      "client_0: Loss = 0.3, Accuracy = 0.916\n",
      "client_1: Loss = 0.3082, Accuracy = 0.9098\n",
      "client_2: Loss = 0.3069, Accuracy = 0.9066\n",
      "client_3: Loss = 0.2994, Accuracy = 0.9147\n",
      "client_4: Loss = 0.2915, Accuracy = 0.9136\n",
      "client_5: Loss = 0.3008, Accuracy = 0.9145\n",
      "client_6: Loss = 0.3099, Accuracy = 0.9143\n",
      "client_7: Loss = 0.2887, Accuracy = 0.9118\n",
      "After round 2, train_loss = 0.2745, dev_loss = 0.2739, dev_acc = 0.9223\n",
      "\n",
      "Start Round 3 ...\n",
      "client_0: Loss = 0.2156, Accuracy = 0.936\n",
      "client_1: Loss = 0.228, Accuracy = 0.9323\n",
      "client_2: Loss = 0.2174, Accuracy = 0.9376\n",
      "client_3: Loss = 0.2156, Accuracy = 0.938\n",
      "client_4: Loss = 0.2072, Accuracy = 0.9401\n",
      "client_5: Loss = 0.2218, Accuracy = 0.9377\n",
      "client_6: Loss = 0.2238, Accuracy = 0.9357\n",
      "client_7: Loss = 0.2079, Accuracy = 0.938\n",
      "After round 3, train_loss = 0.2042, dev_loss = 0.2063, dev_acc = 0.9427\n",
      "\n",
      "Start Round 4 ...\n",
      "client_0: Loss = 0.1692, Accuracy = 0.9486\n",
      "client_1: Loss = 0.1789, Accuracy = 0.9461\n",
      "client_2: Loss = 0.1696, Accuracy = 0.951\n",
      "client_3: Loss = 0.1687, Accuracy = 0.9524\n",
      "client_4: Loss = 0.1622, Accuracy = 0.9551\n",
      "client_5: Loss = 0.1714, Accuracy = 0.9524\n",
      "client_6: Loss = 0.1737, Accuracy = 0.9515\n",
      "client_7: Loss = 0.1609, Accuracy = 0.953\n",
      "After round 4, train_loss = 0.1632, dev_loss = 0.1667, dev_acc = 0.9521\n",
      "\n",
      "Start Round 5 ...\n",
      "client_0: Loss = 0.1378, Accuracy = 0.9589\n",
      "client_1: Loss = 0.1507, Accuracy = 0.9549\n",
      "client_2: Loss = 0.1453, Accuracy = 0.9589\n",
      "client_3: Loss = 0.1391, Accuracy = 0.9588\n",
      "client_4: Loss = 0.1329, Accuracy = 0.9645\n",
      "client_5: Loss = 0.1415, Accuracy = 0.9634\n",
      "client_6: Loss = 0.1439, Accuracy = 0.9614\n",
      "client_7: Loss = 0.1331, Accuracy = 0.9611\n",
      "After round 5, train_loss = 0.1364, dev_loss = 0.1418, dev_acc = 0.9597\n",
      "\n",
      "Start Round 6 ...\n",
      "client_0: Loss = 0.116, Accuracy = 0.9669\n",
      "client_1: Loss = 0.1293, Accuracy = 0.9617\n",
      "client_2: Loss = 0.125, Accuracy = 0.9656\n",
      "client_3: Loss = 0.1186, Accuracy = 0.9637\n",
      "client_4: Loss = 0.1143, Accuracy = 0.9695\n",
      "client_5: Loss = 0.1231, Accuracy = 0.9676\n",
      "client_6: Loss = 0.1236, Accuracy = 0.9645\n",
      "client_7: Loss = 0.1133, Accuracy = 0.968\n",
      "After round 6, train_loss = 0.1192, dev_loss = 0.1252, dev_acc = 0.9644\n",
      "\n",
      "Start Round 7 ...\n",
      "client_0: Loss = 0.1032, Accuracy = 0.9706\n",
      "client_1: Loss = 0.1146, Accuracy = 0.967\n",
      "client_2: Loss = 0.1122, Accuracy = 0.9705\n",
      "client_3: Loss = 0.1046, Accuracy = 0.9672\n",
      "client_4: Loss = 0.1018, Accuracy = 0.9712\n",
      "client_5: Loss = 0.1068, Accuracy = 0.9724\n",
      "client_6: Loss = 0.1113, Accuracy = 0.9664\n",
      "client_7: Loss = 0.1008, Accuracy = 0.9712\n",
      "After round 7, train_loss = 0.1064, dev_loss = 0.1129, dev_acc = 0.9677\n",
      "\n",
      "Start Round 8 ...\n",
      "client_0: Loss = 0.0945, Accuracy = 0.9745\n",
      "client_1: Loss = 0.1023, Accuracy = 0.9719\n",
      "client_2: Loss = 0.1, Accuracy = 0.9725\n",
      "client_3: Loss = 0.0933, Accuracy = 0.971\n",
      "client_4: Loss = 0.0912, Accuracy = 0.9737\n",
      "client_5: Loss = 0.096, Accuracy = 0.9725\n",
      "client_6: Loss = 0.0979, Accuracy = 0.9724\n",
      "client_7: Loss = 0.0917, Accuracy = 0.9727\n",
      "After round 8, train_loss = 0.0962, dev_loss = 0.104, dev_acc = 0.9695\n",
      "\n",
      "Start Round 9 ...\n",
      "client_0: Loss = 0.0839, Accuracy = 0.976\n",
      "client_1: Loss = 0.0937, Accuracy = 0.9746\n",
      "client_2: Loss = 0.0939, Accuracy = 0.9735\n",
      "client_3: Loss = 0.0867, Accuracy = 0.9732\n",
      "client_4: Loss = 0.0849, Accuracy = 0.9756\n",
      "client_5: Loss = 0.0878, Accuracy = 0.9763\n",
      "client_6: Loss = 0.0906, Accuracy = 0.9722\n",
      "client_7: Loss = 0.084, Accuracy = 0.9751\n",
      "After round 9, train_loss = 0.0884, dev_loss = 0.0966, dev_acc = 0.9717\n",
      "\n",
      "Start Round 10 ...\n",
      "client_0: Loss = 0.077, Accuracy = 0.9778\n",
      "client_1: Loss = 0.0854, Accuracy = 0.976\n",
      "client_2: Loss = 0.0868, Accuracy = 0.9749\n",
      "client_3: Loss = 0.0789, Accuracy = 0.9767\n",
      "client_4: Loss = 0.0778, Accuracy = 0.9768\n",
      "client_5: Loss = 0.0811, Accuracy = 0.978\n",
      "client_6: Loss = 0.0838, Accuracy = 0.9744\n",
      "client_7: Loss = 0.0764, Accuracy = 0.9767\n",
      "After round 10, train_loss = 0.082, dev_loss = 0.0907, dev_acc = 0.9738\n",
      "\n",
      "Start Round 11 ...\n",
      "client_0: Loss = 0.072, Accuracy = 0.9792\n",
      "client_1: Loss = 0.0806, Accuracy = 0.976\n",
      "client_2: Loss = 0.0819, Accuracy = 0.9791\n",
      "client_3: Loss = 0.0733, Accuracy = 0.9752\n",
      "client_4: Loss = 0.0738, Accuracy = 0.98\n",
      "client_5: Loss = 0.0755, Accuracy = 0.9804\n",
      "client_6: Loss = 0.0767, Accuracy = 0.9777\n",
      "client_7: Loss = 0.0719, Accuracy = 0.9791\n",
      "After round 11, train_loss = 0.0769, dev_loss = 0.0861, dev_acc = 0.9754\n",
      "\n",
      "Start Round 12 ...\n",
      "client_0: Loss = 0.0674, Accuracy = 0.981\n",
      "client_1: Loss = 0.0749, Accuracy = 0.978\n",
      "client_2: Loss = 0.0774, Accuracy = 0.9788\n",
      "client_3: Loss = 0.0683, Accuracy = 0.9793\n",
      "client_4: Loss = 0.0677, Accuracy = 0.9807\n",
      "client_5: Loss = 0.0704, Accuracy = 0.9809\n",
      "client_6: Loss = 0.072, Accuracy = 0.9785\n",
      "client_7: Loss = 0.0675, Accuracy = 0.9806\n",
      "After round 12, train_loss = 0.0724, dev_loss = 0.0818, dev_acc = 0.9767\n",
      "\n",
      "Start Round 13 ...\n",
      "client_0: Loss = 0.0629, Accuracy = 0.9827\n",
      "client_1: Loss = 0.0711, Accuracy = 0.9791\n",
      "client_2: Loss = 0.0724, Accuracy = 0.9805\n",
      "client_3: Loss = 0.062, Accuracy = 0.9815\n",
      "client_4: Loss = 0.065, Accuracy = 0.9818\n",
      "client_5: Loss = 0.0674, Accuracy = 0.9811\n",
      "client_6: Loss = 0.0677, Accuracy = 0.9812\n",
      "client_7: Loss = 0.0644, Accuracy = 0.9807\n",
      "After round 13, train_loss = 0.0689, dev_loss = 0.0791, dev_acc = 0.9772\n",
      "\n",
      "Start Round 14 ...\n",
      "client_0: Loss = 0.0611, Accuracy = 0.9817\n",
      "client_1: Loss = 0.0669, Accuracy = 0.9811\n",
      "client_2: Loss = 0.0698, Accuracy = 0.9819\n",
      "client_3: Loss = 0.06, Accuracy = 0.9822\n",
      "client_4: Loss = 0.0612, Accuracy = 0.9825\n",
      "client_5: Loss = 0.0631, Accuracy = 0.9824\n",
      "client_6: Loss = 0.0644, Accuracy = 0.981\n",
      "client_7: Loss = 0.061, Accuracy = 0.9822\n",
      "After round 14, train_loss = 0.0658, dev_loss = 0.0764, dev_acc = 0.9782\n",
      "\n",
      "Start Round 15 ...\n",
      "client_0: Loss = 0.0557, Accuracy = 0.9847\n",
      "client_1: Loss = 0.064, Accuracy = 0.9812\n",
      "client_2: Loss = 0.0671, Accuracy = 0.9803\n",
      "client_3: Loss = 0.0565, Accuracy = 0.9812\n",
      "client_4: Loss = 0.0591, Accuracy = 0.9827\n",
      "client_5: Loss = 0.0598, Accuracy = 0.9819\n",
      "client_6: Loss = 0.0622, Accuracy = 0.9821\n",
      "client_7: Loss = 0.058, Accuracy = 0.9835\n",
      "After round 15, train_loss = 0.0626, dev_loss = 0.0738, dev_acc = 0.9789\n",
      "\n",
      "Start Round 16 ...\n",
      "client_0: Loss = 0.0539, Accuracy = 0.985\n",
      "client_1: Loss = 0.0601, Accuracy = 0.9817\n",
      "client_2: Loss = 0.0648, Accuracy = 0.9825\n",
      "client_3: Loss = 0.0535, Accuracy = 0.9843\n",
      "client_4: Loss = 0.0562, Accuracy = 0.983\n",
      "client_5: Loss = 0.0577, Accuracy = 0.9832\n",
      "client_6: Loss = 0.059, Accuracy = 0.9824\n",
      "client_7: Loss = 0.0566, Accuracy = 0.9835\n",
      "After round 16, train_loss = 0.0599, dev_loss = 0.072, dev_acc = 0.9799\n",
      "\n",
      "Start Round 17 ...\n",
      "client_0: Loss = 0.0508, Accuracy = 0.986\n",
      "client_1: Loss = 0.0575, Accuracy = 0.9815\n",
      "client_2: Loss = 0.062, Accuracy = 0.983\n",
      "client_3: Loss = 0.0517, Accuracy = 0.9853\n",
      "client_4: Loss = 0.0544, Accuracy = 0.9847\n",
      "client_5: Loss = 0.0548, Accuracy = 0.9845\n",
      "client_6: Loss = 0.055, Accuracy = 0.9837\n",
      "client_7: Loss = 0.0535, Accuracy = 0.9842\n",
      "After round 17, train_loss = 0.0582, dev_loss = 0.0705, dev_acc = 0.9795\n",
      "\n",
      "Start Round 18 ...\n",
      "client_0: Loss = 0.048, Accuracy = 0.9877\n",
      "client_1: Loss = 0.0555, Accuracy = 0.9828\n",
      "client_2: Loss = 0.0596, Accuracy = 0.9832\n",
      "client_3: Loss = 0.0491, Accuracy = 0.986\n",
      "client_4: Loss = 0.0517, Accuracy = 0.984\n",
      "client_5: Loss = 0.0523, Accuracy = 0.9852\n",
      "client_6: Loss = 0.0525, Accuracy = 0.9834\n",
      "client_7: Loss = 0.0508, Accuracy = 0.9852\n",
      "After round 18, train_loss = 0.0556, dev_loss = 0.0685, dev_acc = 0.9802\n",
      "\n",
      "Start Round 19 ...\n",
      "client_0: Loss = 0.0464, Accuracy = 0.9873\n",
      "client_1: Loss = 0.0528, Accuracy = 0.985\n",
      "client_2: Loss = 0.0574, Accuracy = 0.9844\n",
      "client_3: Loss = 0.047, Accuracy = 0.9872\n",
      "client_4: Loss = 0.0484, Accuracy = 0.9867\n",
      "client_5: Loss = 0.052, Accuracy = 0.9864\n",
      "client_6: Loss = 0.0513, Accuracy = 0.9831\n",
      "client_7: Loss = 0.0494, Accuracy = 0.9854\n",
      "After round 19, train_loss = 0.0536, dev_loss = 0.0671, dev_acc = 0.9809\n",
      "\n",
      "Start Round 20 ...\n",
      "client_0: Loss = 0.0438, Accuracy = 0.987\n",
      "client_1: Loss = 0.0513, Accuracy = 0.9858\n",
      "client_2: Loss = 0.0563, Accuracy = 0.9832\n",
      "client_3: Loss = 0.0456, Accuracy = 0.9864\n",
      "client_4: Loss = 0.0489, Accuracy = 0.9847\n",
      "client_5: Loss = 0.049, Accuracy = 0.9865\n",
      "client_6: Loss = 0.049, Accuracy = 0.9855\n",
      "client_7: Loss = 0.0479, Accuracy = 0.9865\n",
      "After round 20, train_loss = 0.0523, dev_loss = 0.066, dev_acc = 0.9809\n",
      "\n",
      "Start Round 21 ...\n",
      "client_0: Loss = 0.0438, Accuracy = 0.9868\n",
      "client_1: Loss = 0.0511, Accuracy = 0.9845\n",
      "client_2: Loss = 0.0548, Accuracy = 0.9843\n",
      "client_3: Loss = 0.0428, Accuracy = 0.9888\n",
      "client_4: Loss = 0.0461, Accuracy = 0.9876\n",
      "client_5: Loss = 0.0467, Accuracy = 0.9877\n",
      "client_6: Loss = 0.0465, Accuracy = 0.9861\n",
      "client_7: Loss = 0.0471, Accuracy = 0.9861\n",
      "After round 21, train_loss = 0.0501, dev_loss = 0.0645, dev_acc = 0.9816\n",
      "\n",
      "Start Round 22 ...\n",
      "client_0: Loss = 0.0405, Accuracy = 0.9885\n",
      "client_1: Loss = 0.0474, Accuracy = 0.9845\n",
      "client_2: Loss = 0.0535, Accuracy = 0.9858\n",
      "client_3: Loss = 0.0411, Accuracy = 0.9889\n",
      "client_4: Loss = 0.0466, Accuracy = 0.9871\n",
      "client_5: Loss = 0.0451, Accuracy = 0.9874\n",
      "client_6: Loss = 0.0455, Accuracy = 0.9862\n",
      "client_7: Loss = 0.0456, Accuracy = 0.9867\n",
      "After round 22, train_loss = 0.0487, dev_loss = 0.0638, dev_acc = 0.9817\n",
      "\n",
      "Start Round 23 ...\n",
      "client_0: Loss = 0.0393, Accuracy = 0.9883\n",
      "client_1: Loss = 0.046, Accuracy = 0.9875\n",
      "client_2: Loss = 0.0526, Accuracy = 0.9858\n",
      "client_3: Loss = 0.0398, Accuracy = 0.9905\n",
      "client_4: Loss = 0.0442, Accuracy = 0.9872\n",
      "client_5: Loss = 0.0436, Accuracy = 0.9873\n",
      "client_6: Loss = 0.0441, Accuracy = 0.9857\n",
      "client_7: Loss = 0.0434, Accuracy = 0.9877\n",
      "After round 23, train_loss = 0.0476, dev_loss = 0.0631, dev_acc = 0.9821\n",
      "\n",
      "Start Round 24 ...\n",
      "client_0: Loss = 0.0382, Accuracy = 0.9887\n",
      "client_1: Loss = 0.0438, Accuracy = 0.9865\n",
      "client_2: Loss = 0.0514, Accuracy = 0.9858\n",
      "client_3: Loss = 0.0389, Accuracy = 0.9887\n",
      "client_4: Loss = 0.0418, Accuracy = 0.9873\n",
      "client_5: Loss = 0.0429, Accuracy = 0.9872\n",
      "client_6: Loss = 0.0417, Accuracy = 0.9877\n",
      "client_7: Loss = 0.0431, Accuracy = 0.9882\n",
      "After round 24, train_loss = 0.0461, dev_loss = 0.062, dev_acc = 0.9828\n",
      "\n",
      "Start Round 25 ...\n",
      "client_0: Loss = 0.0366, Accuracy = 0.991\n",
      "client_1: Loss = 0.0414, Accuracy = 0.9875\n",
      "client_2: Loss = 0.0501, Accuracy = 0.9863\n",
      "client_3: Loss = 0.0378, Accuracy = 0.9895\n",
      "client_4: Loss = 0.0425, Accuracy = 0.9875\n",
      "client_5: Loss = 0.0425, Accuracy = 0.9875\n",
      "client_6: Loss = 0.041, Accuracy = 0.9877\n",
      "client_7: Loss = 0.0421, Accuracy = 0.988\n",
      "After round 25, train_loss = 0.045, dev_loss = 0.0614, dev_acc = 0.9824\n",
      "\n",
      "Start Round 26 ...\n",
      "client_0: Loss = 0.0361, Accuracy = 0.9893\n",
      "client_1: Loss = 0.0414, Accuracy = 0.9877\n",
      "client_2: Loss = 0.0485, Accuracy = 0.988\n",
      "client_3: Loss = 0.037, Accuracy = 0.9902\n",
      "client_4: Loss = 0.0412, Accuracy = 0.9882\n",
      "client_5: Loss = 0.0395, Accuracy = 0.9893\n",
      "client_6: Loss = 0.0397, Accuracy = 0.9869\n",
      "client_7: Loss = 0.0404, Accuracy = 0.9881\n",
      "After round 26, train_loss = 0.0438, dev_loss = 0.0605, dev_acc = 0.9829\n",
      "\n",
      "Start Round 27 ...\n",
      "client_0: Loss = 0.034, Accuracy = 0.9913\n",
      "client_1: Loss = 0.0408, Accuracy = 0.9862\n",
      "client_2: Loss = 0.0471, Accuracy = 0.987\n",
      "client_3: Loss = 0.0357, Accuracy = 0.99\n",
      "client_4: Loss = 0.0404, Accuracy = 0.9884\n",
      "client_5: Loss = 0.0385, Accuracy = 0.9871\n",
      "client_6: Loss = 0.0373, Accuracy = 0.9894\n",
      "client_7: Loss = 0.0399, Accuracy = 0.9882\n",
      "After round 27, train_loss = 0.0428, dev_loss = 0.0599, dev_acc = 0.9825\n",
      "\n",
      "Start Round 28 ...\n",
      "client_0: Loss = 0.0334, Accuracy = 0.9914\n",
      "client_1: Loss = 0.0392, Accuracy = 0.9865\n",
      "client_2: Loss = 0.0456, Accuracy = 0.9882\n",
      "client_3: Loss = 0.0343, Accuracy = 0.9903\n",
      "client_4: Loss = 0.0385, Accuracy = 0.9877\n",
      "client_5: Loss = 0.0376, Accuracy = 0.9888\n",
      "client_6: Loss = 0.037, Accuracy = 0.9887\n",
      "client_7: Loss = 0.0385, Accuracy = 0.9895\n",
      "After round 28, train_loss = 0.0422, dev_loss = 0.0596, dev_acc = 0.983\n",
      "\n",
      "Start Round 29 ...\n",
      "client_0: Loss = 0.0325, Accuracy = 0.9907\n",
      "client_1: Loss = 0.0382, Accuracy = 0.9898\n",
      "client_2: Loss = 0.0456, Accuracy = 0.988\n",
      "client_3: Loss = 0.0321, Accuracy = 0.9917\n",
      "client_4: Loss = 0.0382, Accuracy = 0.9894\n",
      "client_5: Loss = 0.0364, Accuracy = 0.9893\n",
      "client_6: Loss = 0.0364, Accuracy = 0.9885\n",
      "client_7: Loss = 0.0376, Accuracy = 0.989\n",
      "After round 29, train_loss = 0.0408, dev_loss = 0.059, dev_acc = 0.9835\n",
      "\n",
      "Start Round 30 ...\n",
      "client_0: Loss = 0.0308, Accuracy = 0.9913\n",
      "client_1: Loss = 0.0353, Accuracy = 0.9888\n",
      "client_2: Loss = 0.0427, Accuracy = 0.988\n",
      "client_3: Loss = 0.0321, Accuracy = 0.991\n",
      "client_4: Loss = 0.0373, Accuracy = 0.9899\n",
      "client_5: Loss = 0.0348, Accuracy = 0.9911\n",
      "client_6: Loss = 0.0343, Accuracy = 0.9895\n",
      "client_7: Loss = 0.0372, Accuracy = 0.9895\n",
      "After round 30, train_loss = 0.0407, dev_loss = 0.0588, dev_acc = 0.983\n",
      "\n"
     ]
    }
   ],
   "source": [
    "global_net = to_device(FederatedNet(), device)\n",
    "history = []\n",
    "for i in range(rounds):\n",
    "    print(\"Start Round {} ...\".format(i + 1))\n",
    "    curr_parameters = get_parameters(global_net)\n",
    "    new_parameters = dict(\n",
    "        [(layer_name, {\"weight\": 0, \"bias\": 0}) for layer_name in curr_parameters]\n",
    "    )\n",
    "    for client in clients:\n",
    "        client_parameters = client.train(curr_parameters)\n",
    "        fraction = client.get_dataset_size() / total_train_size\n",
    "        for layer_name in client_parameters:\n",
    "            new_parameters[layer_name][\"weight\"] += (\n",
    "                fraction * client_parameters[layer_name][\"weight\"]\n",
    "            )\n",
    "            new_parameters[layer_name][\"bias\"] += (\n",
    "                fraction * client_parameters[layer_name][\"bias\"]\n",
    "            )\n",
    "    apply_parameters(global_net, new_parameters)\n",
    "\n",
    "    train_loss, train_acc = evaluate(global_net, train_dataset)\n",
    "    dev_loss, dev_acc = evaluate(global_net, val_dataset)\n",
    "    print(\n",
    "        \"After round {}, train_loss = {}, dev_loss = {}, dev_acc = {}\\n\".format(\n",
    "            i + 1, round(train_loss, 4), round(dev_loss, 4), round(dev_acc, 4)\n",
    "        )\n",
    "    )\n",
    "    history.append((train_loss, dev_loss))\n"
   ]
  },
  {
   "attachments": {},
   "cell_type": "markdown",
   "metadata": {},
   "source": [
    "<div dir=rtl id=\"\">\n",
    "<font face=\"XB Zar\" size=4>\n",
    "<font color=\"red\" size=5>\n",
    "\n",
    "نمودار خطا\n",
    "\n",
    "</font>\n",
    "<hr />\n",
    "\n",
    "همان‌طور که ملاحظه می‌کنید، این روش در مرور زمان همگرا می‌شود.\n",
    "\n",
    "</font>\n",
    "</div>"
   ]
  },
  {
   "cell_type": "code",
   "execution_count": 19,
   "metadata": {},
   "outputs": [
    {
     "data": {
      "image/png": "[encoded data removed]",
      "text/plain": [
       "<Figure size 640x480 with 1 Axes>"
      ]
     },
     "metadata": {},
     "output_type": "display_data"
    }
   ],
   "source": [
    "from matplotlib import pyplot as plt\n",
    "\n",
    "\n",
    "plt.plot(\n",
    "    [i + 1 for i in range(len(history))],\n",
    "    [history[i][0] for i in range(len(history))],\n",
    "    color=\"r\",\n",
    "    label=\"train loss\",\n",
    ")\n",
    "plt.plot(\n",
    "    [i + 1 for i in range(len(history))],\n",
    "    [history[i][1] for i in range(len(history))],\n",
    "    color=\"b\",\n",
    "    label=\"val loss\",\n",
    ")\n",
    "plt.legend()\n",
    "plt.title(\"Training history\")\n",
    "plt.show()\n"
   ]
  },
  {
   "attachments": {},
   "cell_type": "markdown",
   "metadata": {},
   "source": [
    "<div dir=rtl id=\"\">\n",
    "<font face=\"XB Zar\" size=4>\n",
    "<font color=\"red\" size=5>\n",
    "\n",
    "ناهمگنی داده\n",
    "\n",
    "</font>\n",
    "<hr />\n",
    "\n",
    "در این محیط بسیار محتمل است که داده کاربران مختلف از یک توزیع مشابه نباشند. این مورد می‌تواند برای دقت و محرمانگی مدل چالش ایجاد کند.\n",
    "\n",
    "</font>\n",
    "</div>"
   ]
  },
  {
   "attachments": {},
   "cell_type": "markdown",
   "metadata": {},
   "source": [
    "<div dir=rtl id=\"\">\n",
    "<font face=\"XB Zar\" size=4>\n",
    "\n",
    "برای این سناریو ابتدا داده ناهمگن سنتز می‌کنیم. این داده به این صورت است که هر کاربر داده‌ای از یک کلاس به خصوص دارد.\n",
    "\n",
    "</font>\n",
    "</div>"
   ]
  },
  {
   "cell_type": "code",
   "execution_count": 145,
   "metadata": {},
   "outputs": [
    {
     "name": "stderr",
     "output_type": "stream",
     "text": [
      "100%|██████████| 10/10 [00:46<00:00,  4.67s/it]\n"
     ]
    }
   ],
   "source": [
    "data_with_labels = []\n",
    "for i in tqdm.tqdm(range(10)):\n",
    "    data_with_labels.append(\n",
    "        torch.utils.data.Subset(\n",
    "            train_dataset,\n",
    "            [j for j in range(len(train_dataset)) if train_dataset[j][1] == i],\n",
    "        )\n",
    "    )\n"
   ]
  },
  {
   "attachments": {},
   "cell_type": "markdown",
   "metadata": {},
   "source": [
    "<div dir=rtl id=\"\">\n",
    "<font face=\"XB Zar\" size=4>\n",
    "\n",
    "حال کلاسی را تعریف می‌کنیم تا این داده ناهمگن را به عنوان دیتاست لفاف‌بندی کند.\n",
    "\n",
    "</font>\n",
    "</div>"
   ]
  },
  {
   "cell_type": "code",
   "execution_count": 146,
   "metadata": {},
   "outputs": [],
   "source": [
    "class HeteroDataset(torch.utils.data.Dataset):\n",
    "    def __init__(self, dataset, label):\n",
    "        self.dataset = dataset\n",
    "        self.label = label\n",
    "\n",
    "    def __getitem__(self, index):\n",
    "        return self.dataset[index][0], self.label\n",
    "\n",
    "    def __len__(self):\n",
    "        return len(self.dataset)\n"
   ]
  },
  {
   "attachments": {},
   "cell_type": "markdown",
   "metadata": {},
   "source": [
    "<div dir=rtl id=\"\">\n",
    "<font face=\"XB Zar\" size=4>\n",
    "\n",
    "کاربران ساخته شده هر یک داده‌ای از یک کلاس به خصوص خواهند داشت.\n",
    "\n",
    "</font>\n",
    "</div>"
   ]
  },
  {
   "cell_type": "code",
   "execution_count": 147,
   "metadata": {},
   "outputs": [],
   "source": [
    "clients = [\n",
    "    Client(\"client_\" + str(i), FederatedNet(), HeteroDataset(data_with_labels[i], i))\n",
    "    for i in range(10)\n",
    "]\n"
   ]
  },
  {
   "attachments": {},
   "cell_type": "markdown",
   "metadata": {},
   "source": [
    "<div dir=rtl id=\"\">\n",
    "<font face=\"XB Zar\" size=4>\n",
    "\n",
    "حال مجددا آموزش مدل را با این دادگان جدید انجام خواهیم داد.\n",
    "\n",
    "</font>\n",
    "</div>"
   ]
  },
  {
   "cell_type": "code",
   "execution_count": 154,
   "metadata": {},
   "outputs": [
    {
     "name": "stdout",
     "output_type": "stream",
     "text": [
      "Start Round 1 ...\n",
      "client_0: Loss = 0.0006, Accuracy = 1.0\n",
      "client_1: Loss = 0.0007, Accuracy = 1.0\n",
      "client_2: Loss = 0.0006, Accuracy = 1.0\n",
      "client_3: Loss = 0.0006, Accuracy = 1.0\n",
      "client_4: Loss = 0.0006, Accuracy = 1.0\n",
      "client_5: Loss = 0.0007, Accuracy = 1.0\n",
      "client_6: Loss = 0.0006, Accuracy = 1.0\n",
      "client_7: Loss = 0.0006, Accuracy = 1.0\n",
      "client_8: Loss = 0.0005, Accuracy = 1.0\n",
      "client_9: Loss = 0.0006, Accuracy = 1.0\n",
      "After round 1, train_loss = 2.2959, dev_loss = 2.2975, dev_acc = 0.1138\n",
      "\n",
      "Start Round 2 ...\n",
      "client_0: Loss = 0.0002, Accuracy = 1.0\n",
      "client_1: Loss = 0.0005, Accuracy = 1.0\n",
      "client_2: Loss = 0.0002, Accuracy = 1.0\n",
      "client_3: Loss = 0.0002, Accuracy = 1.0\n",
      "client_4: Loss = 0.0003, Accuracy = 1.0\n",
      "client_5: Loss = 0.0005, Accuracy = 1.0\n",
      "client_6: Loss = 0.0002, Accuracy = 1.0\n",
      "client_7: Loss = 0.0005, Accuracy = 1.0\n",
      "client_8: Loss = 0.0001, Accuracy = 1.0\n",
      "client_9: Loss = 0.0002, Accuracy = 1.0\n",
      "After round 2, train_loss = 2.2199, dev_loss = 2.2182, dev_acc = 0.3416\n",
      "\n",
      "Start Round 3 ...\n",
      "client_0: Loss = 0.0, Accuracy = 1.0\n",
      "client_1: Loss = 0.0005, Accuracy = 1.0\n",
      "client_2: Loss = 0.0001, Accuracy = 1.0\n",
      "client_3: Loss = 0.0001, Accuracy = 1.0\n",
      "client_4: Loss = 0.0001, Accuracy = 1.0\n",
      "client_5: Loss = 0.0003, Accuracy = 1.0\n",
      "client_6: Loss = 0.0, Accuracy = 1.0\n",
      "client_7: Loss = 0.0003, Accuracy = 1.0\n",
      "client_8: Loss = 0.0, Accuracy = 1.0\n",
      "client_9: Loss = 0.0001, Accuracy = 1.0\n",
      "After round 3, train_loss = 2.1772, dev_loss = 2.175, dev_acc = 0.4155\n",
      "\n",
      "Start Round 4 ...\n",
      "client_0: Loss = 0.0, Accuracy = 1.0\n",
      "client_1: Loss = 0.0005, Accuracy = 1.0\n",
      "client_2: Loss = 0.0, Accuracy = 1.0\n",
      "client_3: Loss = 0.0, Accuracy = 1.0\n",
      "client_4: Loss = 0.0, Accuracy = 1.0\n",
      "client_5: Loss = 0.0001, Accuracy = 1.0\n",
      "client_6: Loss = 0.0, Accuracy = 1.0\n",
      "client_7: Loss = 0.0002, Accuracy = 1.0\n",
      "client_8: Loss = 0.0, Accuracy = 1.0\n",
      "client_9: Loss = 0.0, Accuracy = 1.0\n",
      "After round 4, train_loss = 2.1293, dev_loss = 2.1269, dev_acc = 0.5233\n",
      "\n",
      "Start Round 5 ...\n",
      "client_0: Loss = 0.0, Accuracy = 1.0\n",
      "client_1: Loss = 0.0004, Accuracy = 1.0\n",
      "client_2: Loss = 0.0, Accuracy = 1.0\n",
      "client_3: Loss = 0.0, Accuracy = 1.0\n",
      "client_4: Loss = 0.0, Accuracy = 1.0\n",
      "client_5: Loss = 0.0001, Accuracy = 1.0\n",
      "client_6: Loss = 0.0, Accuracy = 1.0\n",
      "client_7: Loss = 0.0001, Accuracy = 1.0\n",
      "client_8: Loss = 0.0, Accuracy = 1.0\n",
      "client_9: Loss = 0.0, Accuracy = 1.0\n",
      "After round 5, train_loss = 2.0811, dev_loss = 2.0782, dev_acc = 0.5404\n",
      "\n"
     ]
    }
   ],
   "source": [
    "global_net = to_device(FederatedNet(), device)\n",
    "history = []\n",
    "for i in range(5):\n",
    "    print(\"Start Round {} ...\".format(i + 1))\n",
    "    curr_parameters = get_parameters(global_net)\n",
    "    new_parameters = dict(\n",
    "        [(layer_name, {\"weight\": 0, \"bias\": 0}) for layer_name in curr_parameters]\n",
    "    )\n",
    "    for client in clients:\n",
    "        client_parameters = client.train(curr_parameters)\n",
    "        fraction = client.get_dataset_size() / total_train_size\n",
    "        for layer_name in client_parameters:\n",
    "            new_parameters[layer_name][\"weight\"] += (\n",
    "                fraction * client_parameters[layer_name][\"weight\"]\n",
    "            )\n",
    "            new_parameters[layer_name][\"bias\"] += (\n",
    "                fraction * client_parameters[layer_name][\"bias\"]\n",
    "            )\n",
    "    apply_parameters(global_net, new_parameters)\n",
    "\n",
    "    train_loss, train_acc = evaluate(global_net, train_dataset)\n",
    "    dev_loss, dev_acc = evaluate(global_net, val_dataset)\n",
    "    print(\n",
    "        \"After round {}, train_loss = {}, dev_loss = {}, dev_acc = {}\\n\".format(\n",
    "            i + 1, round(train_loss, 4), round(dev_loss, 4), round(dev_acc, 4)\n",
    "        )\n",
    "    )\n",
    "    history.append((train_loss, dev_loss))\n"
   ]
  },
  {
   "attachments": {},
   "cell_type": "markdown",
   "metadata": {},
   "source": [
    "<div dir=rtl id=\"\">\n",
    "<font face=\"XB Zar\" size=4>\n",
    "\n",
    "همان‌طور که ملاحظه می‌کنید دقت و عملکرد مدل دچار کاهش چشم‌گیری شده است. این به این دلیل است که آپدیت‌های مدل که از سمت کاربران ارسال می‌شود، بدون در نظر گرفتن ناهمگنی مدل بلکه تنها با در نظر گرفتن بهینه کردن مدل برای داده خودشان است.\n",
    "\n",
    "</font>\n",
    "</div>"
   ]
  },
  {
   "attachments": {},
   "cell_type": "markdown",
   "metadata": {},
   "source": [
    "<div dir=rtl id=\"\">\n",
    "<font face=\"XB Zar\" size=4>\n",
    "<font color=\"red\" size=5>\n",
    "\n",
    "حمله بازسازی ورودی\n",
    "\n",
    "</font>\n",
    "<hr />\n",
    "\n",
    "حال می‌خواهیم حمله بازسازی ورودی را مطرح کنیم. همان‌طور که مستحضر هستید هدف اصلی یادگیری فدرال حفظ حریم خصوصی با عدم ارسال داده به سرور بود. اما در این حمله نشان داده می‌شود که امکان بازسازی تصویر ورودی وجود دارد.\n",
    "\n",
    "</font>\n",
    "</div>"
   ]
  },
  {
   "attachments": {},
   "cell_type": "markdown",
   "metadata": {},
   "source": [
    "<div dir=rtl id=\"\">\n",
    "<font face=\"XB Zar\" size=4>\n",
    "\n",
    "در این قسمت نت‌ورکی که حمله بر روی آن صورت می‌گیرد را پیاده‌سازی می‌کنیم. این نتورک بسیار ساده‌ است و از سه لایه خطی تشکیل شده است.\n",
    "\n",
    "</font>\n",
    "</div>"
   ]
  },
  {
   "cell_type": "code",
   "execution_count": 42,
   "metadata": {},
   "outputs": [],
   "source": [
    "class TargetNetwork(torch.nn.Module):\n",
    "    def __init__(self):\n",
    "        super(TargetNetwork, self).__init__()\n",
    "        self.first_part = torch.nn.Sequential(\n",
    "            torch.nn.Linear(784, 500),\n",
    "            torch.nn.ReLU(),\n",
    "        )\n",
    "        self.second_part = torch.nn.Sequential(\n",
    "            torch.nn.Linear(500, 500),\n",
    "            torch.nn.ReLU(),\n",
    "            torch.nn.Linear(500, 10),\n",
    "            torch.nn.Softmax(dim=-1),\n",
    "        )\n",
    "\n",
    "    def forward(self, x):\n",
    "        return self.second_part(self.first_part(x))\n"
   ]
  },
  {
   "cell_type": "code",
   "execution_count": 43,
   "metadata": {},
   "outputs": [],
   "source": [
    "target_network = to_device(TargetNetwork(), device)\n"
   ]
  },
  {
   "attachments": {},
   "cell_type": "markdown",
   "metadata": {},
   "source": [
    "<div dir=rtl id=\"\">\n",
    "<font face=\"XB Zar\" size=4>\n",
    "\n",
    "در این قسمت مدل حمله‌کننده را پیاده‌سازی می‌کنیم. این مدل خروجی لایه اول را دریافت می‌کند و با استفاده از دو لایه‌ای که خود دارد، خروجی مدل را بازسازی می‌کند.\n",
    "\n",
    "</font>\n",
    "</div>"
   ]
  },
  {
   "cell_type": "code",
   "execution_count": 44,
   "metadata": {},
   "outputs": [],
   "source": [
    "class Attacker(torch.nn.Module):\n",
    "    def __init__(self):\n",
    "        super(Attacker, self).__init__()\n",
    "        self.layers = torch.nn.Sequential(\n",
    "            torch.nn.Linear(500, 1000),\n",
    "            torch.nn.ReLU(),\n",
    "            torch.nn.Linear(1000, 784),\n",
    "        )\n",
    "\n",
    "    def forward(self, x):\n",
    "        return self.layers(x)\n"
   ]
  },
  {
   "cell_type": "code",
   "execution_count": 49,
   "metadata": {},
   "outputs": [],
   "source": [
    "attacker = Attacker().to(device)"
   ]
  },
  {
   "attachments": {},
   "cell_type": "markdown",
   "metadata": {},
   "source": [
    "<div dir=rtl id=\"\">\n",
    "<font face=\"XB Zar\" size=4>\n",
    "\n",
    "حال مجموعه داده را بارگیری می‌کنیم.\n",
    "\n",
    "</font>\n",
    "</div>"
   ]
  },
  {
   "cell_type": "code",
   "execution_count": 63,
   "metadata": {},
   "outputs": [],
   "source": [
    "# with flatten transform and to tensor\n",
    "train_dataset = torchvision.datasets.MNIST(\n",
    "    root=\"./working/\",\n",
    "    train=True,\n",
    "    transform=torchvision.transforms.Compose(\n",
    "        [\n",
    "            torchvision.transforms.ToTensor(),\n",
    "            torchvision.transforms.Lambda(lambda x: x.flatten()),\n",
    "        ]\n",
    "    ),\n",
    "    download=True,\n",
    ")\n",
    "test_dataset = torchvision.datasets.MNIST(\n",
    "    root=\"./working/\",\n",
    "    train=False,\n",
    "    transform=torchvision.transforms.Compose(\n",
    "        [\n",
    "            torchvision.transforms.ToTensor(),\n",
    "            torchvision.transforms.Lambda(lambda x: x.flatten()),\n",
    "        ]\n",
    "    ),\n",
    "    download=True,\n",
    ")\n",
    "\n",
    "train_dataloader = DeviceDataLoader(\n",
    "    torch.utils.data.DataLoader(train_dataset, batch_size), device\n",
    ")\n",
    "test_dataloader = DeviceDataLoader(\n",
    "    torch.utils.data.DataLoader(test_dataset, batch_size), device\n",
    ")\n"
   ]
  },
  {
   "attachments": {},
   "cell_type": "markdown",
   "metadata": {},
   "source": [
    "<div dir=rtl id=\"\">\n",
    "<font face=\"XB Zar\" size=4>\n",
    "\n",
    "حال مدل اصلی رو آموزش می‌دهیم.\n",
    "\n",
    "</font>\n",
    "</div>"
   ]
  },
  {
   "cell_type": "code",
   "execution_count": 70,
   "metadata": {},
   "outputs": [
    {
     "name": "stdout",
     "output_type": "stream",
     "text": [
      "Epoch 1, loss = 1.5174\n",
      "Epoch 2, loss = 1.5023\n",
      "Epoch 3, loss = 1.4918\n",
      "Epoch 4, loss = 1.4867\n",
      "Epoch 5, loss = 1.4839\n",
      "Epoch 6, loss = 1.482\n",
      "Epoch 7, loss = 1.4806\n",
      "Epoch 8, loss = 1.479\n",
      "Epoch 9, loss = 1.4782\n",
      "Epoch 10, loss = 1.4774\n"
     ]
    }
   ],
   "source": [
    "optimizer = torch.optim.Adam(target_network.parameters(), lr=0.001)\n",
    "criterion = torch.nn.CrossEntropyLoss()\n",
    "for epoch in range(10):\n",
    "    losses = []\n",
    "    for batch in train_dataloader:\n",
    "        images, labels = batch\n",
    "        optimizer.zero_grad()\n",
    "        outputs = target_network(images)\n",
    "        loss = criterion(outputs, labels)\n",
    "        loss.backward()\n",
    "        optimizer.step()\n",
    "        losses.append(loss.item())\n",
    "    print(\"Epoch {}, loss = {}\".format(epoch + 1, round(np.mean(losses), 4)))\n"
   ]
  },
  {
   "cell_type": "code",
   "execution_count": 71,
   "metadata": {},
   "outputs": [
    {
     "name": "stdout",
     "output_type": "stream",
     "text": [
      "Accuracy = 0.974\n"
     ]
    }
   ],
   "source": [
    "# calculate the accuracy\n",
    "correct = 0\n",
    "total = 0\n",
    "with torch.no_grad():\n",
    "    for batch in test_dataloader:\n",
    "        images, labels = batch\n",
    "        outputs = target_network(images)\n",
    "        _, predicted = torch.max(outputs.data, 1)\n",
    "        total += labels.size(0)\n",
    "        correct += (predicted == labels).sum().item()\n",
    "print(\"Accuracy = {}\".format(round(correct / total, 4)))\n"
   ]
  },
  {
   "attachments": {},
   "cell_type": "markdown",
   "metadata": {},
   "source": [
    "<div dir=rtl id=\"\">\n",
    "<font face=\"XB Zar\" size=4>\n",
    "\n",
    "حال مدل حمله‌کننده را با استفاده از لایه اول مدل آموزش می‌دهیم.\n",
    "\n",
    "</font>\n",
    "</div>"
   ]
  },
  {
   "cell_type": "code",
   "execution_count": 72,
   "metadata": {},
   "outputs": [
    {
     "name": "stderr",
     "output_type": "stream",
     "text": [
      "100%|██████████| 469/469 [00:07<00:00, 61.60it/s]\n"
     ]
    }
   ],
   "source": [
    "optimizer = torch.optim.Adam(attacker.parameters(), lr=1e-4)\n",
    "\n",
    "for data, targets in tqdm.tqdm(train_dataloader):\n",
    "    data = data.to(device)\n",
    "    targets = targets.to(device)\n",
    "    optimizer.zero_grad()\n",
    "    target_outputs = target_network.first_part(data)\n",
    "    attack_outputs = attacker(target_outputs)\n",
    "    loss = ((data - attack_outputs) ** 2).mean()\n",
    "    loss.backward()\n",
    "    optimizer.step()\n"
   ]
  },
  {
   "attachments": {},
   "cell_type": "markdown",
   "metadata": {},
   "source": [
    "<div dir=rtl id=\"\">\n",
    "<font face=\"XB Zar\" size=4>\n",
    "\n",
    "حال میخواهیم داده‌های ذخیره شده در مدل را بازسازی کنیم.\n",
    "\n",
    "</font>\n",
    "</div>"
   ]
  },
  {
   "cell_type": "code",
   "execution_count": 73,
   "metadata": {},
   "outputs": [],
   "source": [
    "for data, targets in test_dataloader:\n",
    "    target_outputs = target_network.first_part(data)\n",
    "    recreated_data = attacker(target_outputs)\n"
   ]
  },
  {
   "cell_type": "code",
   "execution_count": 74,
   "metadata": {},
   "outputs": [
    {
     "data": {
      "image/png": "[encoded data removed]",
      "text/plain": [
       "<Figure size 1000x1000 with 10 Axes>"
      ]
     },
     "metadata": {},
     "output_type": "display_data"
    }
   ],
   "source": [
    "# plot 10 reconstructed images\n",
    "plt.figure(figsize=(10, 10))\n",
    "for i in range(10):\n",
    "    plt.subplot(5, 5, i + 1)\n",
    "    plt.imshow(recreated_data[i].cpu().detach().numpy().reshape(28, 28))\n",
    "    plt.axis(\"off\")\n",
    "plt.show()\n"
   ]
  },
  {
   "attachments": {},
   "cell_type": "markdown",
   "metadata": {},
   "source": [
    "<div dir=rtl id=\"\">\n",
    "<font face=\"XB Zar\" size=4>\n",
    "\n",
    "همان‌طور که ملاحظه می‌کنید داده‌های ذخیره شده در مدل با دقت بالایی بازسازی شده‌اند.\n",
    "\n",
    "</font>\n",
    "</div>"
   ]
  }
 ],
 "metadata": {
  "kernelspec": {
   "display_name": "Python 3",
   "language": "python",
   "name": "python3"
  },
  "language_info": {
   "codemirror_mode": {
    "name": "ipython",
    "version": 3
   },
   "file_extension": ".py",
   "mimetype": "text/x-python",
   "name": "python",
   "nbconvert_exporter": "python",
   "pygments_lexer": "ipython3",
   "version": "3.10.9"
  },
  "orig_nbformat": 4,
  "vscode": {
   "interpreter": {
    "hash": "287ee184d78959fade4213e06aa8453c71d17316fcbc60aa682b94ecd5afe758"
   }
  }
 },
 "nbformat": 4,
 "nbformat_minor": 2
}
