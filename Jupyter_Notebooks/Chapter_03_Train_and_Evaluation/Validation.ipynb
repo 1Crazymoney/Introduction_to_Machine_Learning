{
 "cells": [
  {
   "cell_type": "markdown",
   "id": "5a2a534a",
   "metadata": {},
   "source": [
    "<div dir=\"rtl\" align=\"center\">\n",
    "<font face=\"XB Zar\" size=5>\n",
    "    <font face=\"IranNastaliq\" size=5>\n",
    "      به نام خدا\n",
    "    </font>\n",
    "    <br>\n",
    "    <font size=3>\n",
    "      دانشگاه صنعتی شریف - دانشکده مهندسی کامپیوتر\n",
    "    </font>\n",
    "    <br>\n",
    "    <font color=blue size=5>\n",
    "      مقدمه‌ای بر یادگیری ماشین\n",
    "    </font>\n",
    "    <br>\n",
    "    <hr/>\n",
    "    <font color=red size=6>\n",
    "      فصل سوم: یادگیری، ارزیابی و تنطیم کردن مدل ها\n",
    "    </font>\n",
    "    <hr/>\n",
    "    <font color=red size=6>\n",
    "      مبحث:‌ اعتبارسنجی متقابل (Cross Validation)\n",
    "    </font>\n",
    "    <hr/>\n",
    "    <br>\n",
    "      نویسنده:‌ پیمان ناصری\n",
    "    <hr>\n"
   ]
  },
  {
   "cell_type": "markdown",
   "id": "d75b0553",
   "metadata": {},
   "source": [
    "<div dir=rtl id=\"Abstract\">\n",
    "<font face=\"XB Zar\" size=4>\n",
    "  <font color=\"red\" size=5>\n",
    "    هدف\n",
    "  </font>\n",
    "  <hr /> \n",
    "در یادگیری ماشین ، قابلیت تعمیم به توانایی یک الگوریتم در تأثیرگذاری روی ورودی های مختلف اشاره دارد؛ به این معنی که مدل یادگیری ماشین توانایی عملکرد خود را در برابر ورود داده های جدید که در داده های آموزشی نبوده از دست نمی دهد.<br>\n",
    "    برای انسان، عمومیت بخشی و تعمیم، طبیع ترین کار ممکن است. ما می توانیم به صورت آنی (در ذهنمان) دسته بندی و طبقه بندی انجام دهیم. به طور مثال، ما بدون شک یک سگ را تشخیص می دهیم حتی اگر قبل از آن، چنین نژادی را ندیده باشیم. با این حال چنین مساله ای می تواند برای یک مدل یادگیری ماشین کاملا چالش برانگیز باشد. به همین دلیل بررسی توانایی الگوریتم در عمومیت بخشی کار مهمی است که در زمان ساخت مدل نیاز به توجه زیادی دارد.<br>\n",
    "    برای انجام چنین کاری از روش اعتبارسنجی متقابل (CV) استفاده می کنیم.\n",
    "  <br/>\n",
    "</font>\n",
    "</div>"
   ]
  },
  {
   "cell_type": "markdown",
   "id": "311f03e8",
   "metadata": {},
   "source": [
    "<div dir=rtl id=\"Abstract\">\n",
    "<font face=\"XB Zar\" size=4>\n",
    "  <font color=\"red\" size=5>\n",
    "    اعتبارسنجی متقابل (Cross Validation)\n",
    "  </font>\n",
    "  <hr />\n",
    "       این روش سعی می‌کند یک تخمین نااریب (unbiased) از generalization error بزند. برای مدل کردن اعتبارسنجی متقابل روش­های متنوع زیادی ممکن است استفاده \n",
    "<br>شود با این­که همه ی آن­ها یک الگوریتم مشابه دارند \n",
    "<p style=\"text-align: justify;\">1- تقسیم کردن مجموعه داده­ها به دو بخش: بخشی برای آموزش و بخش دیگر برای ارزیابی</p>\n",
    "<p style=\"text-align: justify;\">2- مدل را روی مجموعه دادههای آموزشی، آموزش دهید</p>\n",
    "<p style=\"text-align: justify;\">3- اعتبار مدل را رو داده های ارزیابی بدست میاوریم</p>\n",
    "<p style=\"text-align: justify;\">4-مرحله یک تا سه را چندین بار تکرار میکنیم . تعداد تکرار ها بستگی روشی دارد که ما برای CVمورد استفاده قرار میدهیم .</p>\n",
    "\n",
    "\n",
    "</font>\n",
    "</div>"
   ]
  },
  {
   "cell_type": "markdown",
   "id": "e0b533f2",
   "metadata": {},
   "source": [
    "<div dir=rtl id=\"Abstract\">\n",
    "<font face=\"XB Zar\" size=4>\n",
    "  <font color=\"red\" size=5>\n",
    "    انواع روش‌های اعتبارسنجی \n",
    "  </font>\n",
    "  <hr />\n",
    "<font face=\"XB Zar\" size=4><div dir=rtl>\n",
    "<font color=\"red\" size=\"6\">Holdout Validation</font> <br> <br> \n",
    "<img src=\"https://github.com/asharifiz/Introduction_to_Machine_Learning/blob/main/Jupyter_Notebooks/Chapter_03_Train_and_Evaluation/imgs/sk_learn.png?raw=true\" width=\"800\">\n",
    "</center>\n",
    "</div> <br><br>\n",
    "\n",
    "    \n",
    "<p style=\"text-align: justify;\">LOOCV (Leave One Out Cross Validation)</p>\n",
    "<p style=\"text-align: justify;\">K-Fold Cross Validation</p>\n",
    "</font>\n",
    "</div>"
   ]
  }
 ],
 "metadata": {
  "kernelspec": {
   "display_name": "Python 3 (ipykernel)",
   "language": "python",
   "name": "python3"
  },
  "language_info": {
   "codemirror_mode": {
    "name": "ipython",
    "version": 3
   },
   "file_extension": ".py",
   "mimetype": "text/x-python",
   "name": "python",
   "nbconvert_exporter": "python",
   "pygments_lexer": "ipython3",
   "version": "3.9.12"
  }
 },
 "nbformat": 4,
 "nbformat_minor": 5
}
