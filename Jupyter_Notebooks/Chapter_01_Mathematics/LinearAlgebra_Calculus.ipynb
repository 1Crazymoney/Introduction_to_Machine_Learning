{
  "nbformat": 4,
  "nbformat_minor": 0,
  "metadata": {
    "colab": {
      "provenance": [],
      "collapsed_sections": []
    },
    "kernelspec": {
      "name": "python3",
      "display_name": "Python 3"
    },
    "language_info": {
      "name": "python"
    }
  },
  "cells": [
    {
      "cell_type": "markdown",
      "source": [
        "<font face=\"XB Zar\" size=5><div dir=rtl align=center>\n",
        "<font face=\"IranNastaliq\" size=5>\n",
        "به نام خدا\n",
        "</font>\n",
        "<br>\n",
        "<font size=3>\n",
        "دانشگاه صنعتی شریف - دانشکده مهندسی کامپیوتر\n",
        "</font>\n",
        "<br>\n",
        "<font color=blue size=5>\n",
        "مقدمه‌ای بر یادگیری ماشین\n",
        "</font>\n",
        "\n",
        "<hr/>\n",
        "<font color=red size=6>\n",
        "فصل اول: مروری بر ریاضیات یادگیری ماشین \n",
        "<br>\n",
        "جبرخطی و ریاضیات عمومی\n",
        "</font>\n",
        "<br>\n",
        "نویسندگان:‌ بهروز آذرخلیلی، کوروش مسلمی\n",
        "<hr>\n",
        "</div></font>"
      ],
      "metadata": {
        "id": "RWK755-FnxSb"
      }
    },
    {
      "cell_type": "markdown",
      "source": [
        "<font face=\"XB Zar\" size=4><div dir=rtl>\n",
        "<font color=\"red\" size=5>1.جبرخطی</font>\n",
        "<br>\n",
        "در اینجا به یادآوری کوتاهی از جبرخطی در راستای اهداف درس می پردازیم\n",
        "</div></font>"
      ],
      "metadata": {
        "id": "ffDQcr6isJk4"
      }
    },
    {
      "cell_type": "markdown",
      "source": [
        "<font face=\"XB Zar\" size=4><div dir=rtl>\n",
        "<font color=\"red\" size=5>1.1.بردارها و فضای برداری</font>\n",
        "<br>\n",
        "به یک n تایی به صورت\n",
        "$X = [x_1, x_2, ⋯ , x_n]$\n",
        "یک \n",
        "<b>بردار سطری</b>\n",
        " گفته می شود و می گوییم X یک بردار \n",
        "$1 × n$\n",
        "است.\n",
        "<br>\n",
        "مشابها یک n تایی به صورت\n",
        "$Y = \\begin{bmatrix}\n",
        "x_1 \\\\\n",
        "x_2 \\\\\n",
        "\\vdots \\\\\n",
        "x_n\n",
        "\\end{bmatrix}\n",
        "$\n",
        "<b>بردار ستونی</b>\n",
        "$n \\times 1$\n",
        "است.\n",
        "<br>\n",
        "در ادامه به عنوان مثال بردارهای ستونی و سطری تولید می کنیم و شیوه دسترسی به المان آن ها را نشان می دهیم.\n",
        "</div></font>"
      ],
      "metadata": {
        "id": "O70q6bhSv_lt"
      }
    },
    {
      "cell_type": "code",
      "source": [
        "import numpy as np\n",
        "X = np.arange(3)\n",
        "Y = np.empty([3,1])\n",
        "print(X,X.shape)\n",
        "print(Y,Y.shape)\n",
        "print(X[1],Y[1])"
      ],
      "metadata": {
        "colab": {
          "base_uri": "https://localhost:8080/"
        },
        "id": "L-6KX-pm0eAv",
        "outputId": "b54ea039-3c34-4e14-f77f-5b05697f477a"
      },
      "execution_count": null,
      "outputs": [
        {
          "output_type": "stream",
          "name": "stdout",
          "text": [
            "[0 1 2] (3,)\n",
            "[[0.e+000]\n",
            " [5.e-324]\n",
            " [1.e-323]] (3, 1)\n",
            "1 [5.e-324]\n"
          ]
        }
      ]
    },
    {
      "cell_type": "markdown",
      "source": [
        "<font face=\"XB Zar\" size=4><div dir=rtl>\n",
        "\n",
        "یک \n",
        "<b>فضای برداری</b>\n",
        " مجموعه ای مانند\n",
        "$S$\n",
        "است که عناصر آن بردار هستند. اعمال جمع و ضرب اسکالری برای این عناصر تعریف می شود که در شرایط ذیل صدق می کنند.(\n",
        "$U$\n",
        "،\n",
        "$V$\n",
        "و \n",
        "$W$\n",
        "عناصر دلخواه\n",
        "$S$\n",
        "،\n",
        "$c$\n",
        "و\n",
        "$d$\n",
        "اسکالر هستند)\n",
        "\n",
        "1. حاصل جمع U + V وجود دارد و متعلق به S است.( S تحت جمع بسته است)\n",
        "\n",
        "2. $cU$\n",
        "    عنصری از S است.(S تحت ضرب اسکالر بسته است.)\n",
        "\n",
        "3. $U+V=V+U$\n",
        "    (ویژگی جابجایی)\n",
        "\n",
        "4. $U+(V+W)=(U+V)+W$\n",
        "    (ویژگی شرکت پذیری)\n",
        "\n",
        "5. عنصری از\n",
        "    V،\n",
        "    که بردار صفر نامیده می شود، با\n",
        "    0\n",
        "  نشان داده می شود، وجود دارد به قسمی که\n",
        "  $U+0=U$\n",
        "\n",
        "6. متناظر هر عنصر U از S عنصری وجود دارد که قرینه U نامیده و با U− نشان داده می شود به قسمی که:\n",
        "$$U+(-U)=0$$\n",
        "\n",
        "7. $ⅽ(U + V) = ⅽU + ⅽV$\n",
        "\n",
        "8. $(ⅽ + ⅾ)U = ⅽU + ⅾU$\n",
        "\n",
        "9. $ⅽ(ⅾU) = (ⅽⅾ)U$\n",
        "\n",
        "10. $۱U = U$\n",
        "\n",
        "فرض کنیم\n",
        "$V_1,V_2,\\cdots,V_m$\n",
        "بردار هایی در فضای برداری S باشند. گوییم\n",
        "$V$،\n",
        "برداری در\n",
        "$S$،\n",
        "یک \n",
        "<b>ترکیب خطی</b>\n",
        " از\n",
        "$V_1,V_2,\\cdots,V_m$\n",
        "است هرگاه اسکالر هایی چون\n",
        "$c_1,c_2,\\cdots,c_m$\n",
        "موجود باشند به قسمی که V را بتوان چنین نوشت:\n",
        "$$V=c_1V_1+c_2V_2+\\cdots+c_mV_m$$\n",
        "\n",
        "مجموعه بردار های\n",
        "$V_1,V_2,\\cdots,V_m$\n",
        "از یک فضای برداری را وقتی یک \n",
        "<b>مولد</b>\n",
        " این فضا می نامیم که هر بردار فضا ترکیبی از این بردار ها باشد. یک مجموعه مولد از بردار ها به یک معنی فضای برداری مربوطه را معرفی می کند زیر هر بردار آن فضا را می توان از این بردار ها بدست آورد.\n",
        "\n",
        "مجموعه بردار های\n",
        "${V_1,V_2,\\cdots,V_n}$\n",
        "را \n",
        "<b>مستقل خطی</b>\n",
        " گوییم هرگاه از معادله\n",
        "$$c_1V_1+c_2V_2+\\cdots+c_nV_n=0\\qquad(1)$$\n",
        "نتیجه شود که\n",
        "$$c_1=c_2=\\cdots=c_n=0$$\n",
        "چنانچه حداقل یک\n",
        "$c_i\\neq0$\n",
        "وجود داشته باشد که معادله (1) برقرار باشد گوییم مجموعه بردار های\n",
        "${V_1,V_2,\\cdots,V_n}$\n",
        "وابسته خطی هستند.\n",
        "\n",
        "مجموعه ای متناهی از بردارها مانند\n",
        "$\\lbrace V_1,\\cdots,V_m \\rbrace$\n",
        "را یک \n",
        "<b>پایه</b>\n",
        " فضای برداری\n",
        "$S$\n",
        "نامیم هرگاه این مجموعه مولد\n",
        "$S$\n",
        "و مستقل خطی باشد.\n",
        "\n",
        "<b>مثال)</b>\n",
        "آیا بردار های\n",
        "$\\lbrace (1,-1,1),(-1,-1,1),(0,1,1) \\rbrace$\n",
        "برای\n",
        "$\\mathbf{R}^3$\n",
        "پایه هستند؟\n",
        "\n",
        "\n",
        "<b>حل)</b>\n",
        "\n",
        "اسکالر های\n",
        "$c_1,c_2,c_3$\n",
        "باید وجود داشته باشند که\n",
        "$$c_1(1,-1,1)+c_2(-1,-1,1)+c_3(0,1,1)=(x_1,x_2,x_3)$$\n",
        "\\begin{equation*}\n",
        "\\Rightarrow\n",
        "\\begin{cases}\n",
        "c_1-c_2=x_1 \\\\\n",
        "-c_1-c_2+c_3=x_2 \\\\\n",
        "c_1+c_2+c_3=x_3\n",
        "\\end{cases}\n",
        "\\Rightarrow\n",
        "\\begin{cases}\n",
        "c_1=\\frac{2x_1-x_2+x_3}{4} \\\\\n",
        "c_2=\\frac{-2x_1-x_2+x_3}{4} \\\\\n",
        "c_3=\\frac{x_2+x_3}{2}\n",
        "\\end{cases}\n",
        "\\end{equation*}\n",
        "اکنون مستقل خطی بودن را بررسی می کنیم\n",
        "$$b_1(1,-1,1)+b_2(-1,-1,1)+b_3(0,1,1)=0$$\n",
        "\\begin{equation*}\n",
        "\\Rightarrow\n",
        "\\begin{cases}\n",
        "b_1-b_2=0 \\\\\n",
        "-b_1-b_2+b_3=0 \\\\\n",
        "b_1+b_2+b_3=0\n",
        "\\end{cases}\n",
        "\\qquad\\Rightarrow\n",
        "b_1=b_2=b_3=0\n",
        "\\end{equation*}\n",
        "پس این مجموعه بردارها پایه\n",
        "$\\mathbf{R}^3$\n",
        "هستند.\n",
        "\n",
        "</div></font>"
      ],
      "metadata": {
        "id": "1BtEtjwQ7wg6"
      }
    },
    {
      "cell_type": "markdown",
      "source": [
        "<font face=\"XB Zar\" size=4><div dir=rtl>\n",
        "<font color=\"red\" size=5>2.1.ماتریس ها</font>\n",
        "<br>\n",
        "یک ماتریس مجموعه ای از بردار ها است مثلا اگر\n",
        "$$\n",
        "A=\n",
        "\\begin{bmatrix}\n",
        "1 & 2 & 9\\\\\n",
        "0 & -1 & 6\\\\\n",
        "1 & 2 & 7\\\\\n",
        "\\end{bmatrix}_{3\\times 3},\\qquad\n",
        "B=\n",
        "\\begin{bmatrix}\n",
        "1 & 1\\\\\n",
        "1 & 1\\\\\n",
        "\\end{bmatrix}_{2\\times 2}\n",
        "$$\n",
        "$$\n",
        "C=\n",
        "\\begin{bmatrix}\n",
        "1 & 2 & 3\\\\\n",
        "4 & 5 & 6\\\\\n",
        "\\end{bmatrix}_{2\\times 3},\\qquad\n",
        "D=\n",
        "\\begin{bmatrix}\n",
        "1 & 9\\\\\n",
        "-1 & 0\\\\\n",
        "2 & 6\\\\\n",
        "\\end{bmatrix}_{3\\times 2}\n",
        "$$\n",
        "آنگاه:\n",
        "\t\n",
        "A ماتریسی است که 3 سطر و 3 ستون دارد\n",
        "\n",
        "B ماتریسی است که 2 سطر و 2 ستون دارد\n",
        "\n",
        "C ماتریسی است که 2 سطر و 3 ستون دارد\n",
        "\n",
        "D ماتریسی است که 3 سطر و 2 ستون دارد\n",
        "\n",
        "<br>\n",
        "در ادامه یک نمونه ماتریس تولید می کنیم.\n",
        "</div></font>"
      ],
      "metadata": {
        "id": "ZdH-cK3VwkLQ"
      }
    },
    {
      "cell_type": "code",
      "source": [
        "A = np.arange(6).reshape(3, 2)\n",
        "A"
      ],
      "metadata": {
        "colab": {
          "base_uri": "https://localhost:8080/"
        },
        "id": "fPFYdQs74BaH",
        "outputId": "59732ca0-9a2a-4d85-b0f5-491d72cfd236"
      },
      "execution_count": null,
      "outputs": [
        {
          "output_type": "execute_result",
          "data": {
            "text/plain": [
              "array([[0, 1],\n",
              "       [2, 3],\n",
              "       [4, 5]])"
            ]
          },
          "metadata": {},
          "execution_count": 9
        }
      ]
    },
    {
      "cell_type": "markdown",
      "source": [
        "<font face=\"XB Zar\" size=4><div dir=rtl>\n",
        "\n",
        "<b>ترانهاده</b>\n",
        " ماتریس A را با\n",
        "$A^T$\n",
        "نمایش می دهیم که از جابجایی سطر ها و ستون های آن ایجاد می شود پس اگر\n",
        "$$\n",
        "A=\n",
        "\\begin{bmatrix}\n",
        "1&3&6 \\\\\n",
        "7&2&-4 \\\\\n",
        "\\end{bmatrix}\n",
        "$$\n",
        "آنگاه\n",
        "$$\n",
        "A^T=\n",
        "\\begin{bmatrix}\n",
        "1&7 \\\\\n",
        "3&2 \\\\\n",
        "6&-4 \\\\\n",
        "\\end{bmatrix}\n",
        "$$\n",
        "\n",
        "در ادامه برابری ترانهاده یک ماتریس متقارن با خودش را بررسی می کنیم\n",
        "</div></font>"
      ],
      "metadata": {
        "id": "S_xNi8gk4zfv"
      }
    },
    {
      "cell_type": "code",
      "source": [
        "A = np.array([[1, 2, 3], [2, 0, 4], [3, 4, 5]])\n",
        "A == A.T"
      ],
      "metadata": {
        "colab": {
          "base_uri": "https://localhost:8080/"
        },
        "id": "iCuQMAVb5P-E",
        "outputId": "2bf44598-9497-4e7c-e296-4316027ad577"
      },
      "execution_count": null,
      "outputs": [
        {
          "output_type": "execute_result",
          "data": {
            "text/plain": [
              "array([[ True,  True,  True],\n",
              "       [ True,  True,  True],\n",
              "       [ True,  True,  True]])"
            ]
          },
          "metadata": {},
          "execution_count": 10
        }
      ]
    },
    {
      "cell_type": "markdown",
      "source": [
        "<font face=\"XB Zar\" size=4><div dir=rtl>\n",
        "\n",
        "فرض کنیم A یک ماتریس\n",
        "$m \\times n$\n",
        "باشد، سطری های A را می توانیم به مثابه بردار های سطری\n",
        "$r_1,r_2,\\cdots,r_m$\n",
        "و ستون های آن را به مثابه بردار های ستونی\n",
        "$c_1,c_2,\\cdots,c_n$\n",
        "بینگاریم. هر بردار سطری شامل n مولفه و هر بردار ستونی شامل m مولفه می باشد.\n",
        "بردار های سطری زیرفضایی از\n",
        "$\\mathbf{R}^n$\n",
        "را گسترش می دهند که فضای ستونی A نامیده می شود.\n",
        "\n",
        "<br>\n",
        "\n",
        "<b>مثال)</b>\n",
        "ماتریس زیر را در نظر می گیریم\n",
        "$$\n",
        "A=\n",
        "\\begin{bmatrix}\n",
        "1 & 4\\\\\n",
        "5 & 9\\\\\n",
        "\\end{bmatrix}\n",
        "$$\n",
        "بردار های سطری A عبارتند از\n",
        "$$r_1=(1,4),\\qquad r_2=(5,9)$$\n",
        "این بردار ها زیرفضایی از\n",
        "$\\mathbf{R}^2$\n",
        "تولید می کنند که \n",
        "<b>فضای سطری</b>\n",
        " A نامیده می شود. از طرفی بردار های ستونی A عبارتند از\n",
        "$$\n",
        "c_1=\n",
        "\\begin{bmatrix}\n",
        "1\\\\\n",
        "5\\\\\n",
        "\\end{bmatrix},\\qquad\n",
        "c_2=\n",
        "\\begin{bmatrix}\n",
        "4\\\\\n",
        "9\\\\\n",
        "\\end{bmatrix}\n",
        "$$\n",
        "این بردارها زیرفضایی از\n",
        "$\\mathbf{R}^2$\n",
        "تولید می کنند که\n",
        "<b> فضای ستونی</b>\n",
        " A نامیده می شود.\n",
        "\n",
        "<br>\n",
        "\n",
        "<b>قضیه:</b>\n",
        "فضای سطری و ستونی ماتریس A دارای یک بعد هستند.\n",
        "\n",
        "<br>\n",
        "\n",
        "<b>قضیه:</b>\n",
        "بعد فضای سطری(ستونی) ماتریس A را \n",
        "<b>رتبه</b>\n",
        " A می نامیم. رتبه A را با نماد\n",
        "$Rank(A)$\n",
        "نشان می دهیم.\n",
        "<br>\n",
        "\n",
        "<b>\n",
        "مثال)\n",
        "</b>\n",
        "رتبه ماتریس زیر را پیدا کنید.\n",
        "$$\n",
        "A=\n",
        "\\begin{bmatrix}\n",
        "1&2&3\\\\\n",
        "0&1&2\\\\\n",
        "2&5&8\\\\\n",
        "\\end{bmatrix}\n",
        "$$\n",
        "<b>حل)</b>\n",
        "با بررسی در می یابیم که سطر سوم این ماتریس ترکیب خطی از دو سطر آن است:\n",
        "$$(2,5,8)=2(1,2,3)+(0,1,2)$$\n",
        "در این صورت سه سطر این ماتریس وابسته ی خطی هستند. در نتیجه رتبه این ماتریس کوچک تر از 3 است. چون (1,2,3) مضرب اسکالری از (0,1,2) نیست، این دو بردار مستقل خطی هستند. این دو بردار تشکیل یک پایه برای فضای سطری A می دهند. از این رو\n",
        "$Rank(A)=2$\n",
        "\n",
        "\n",
        "برای هر ماتریس\n",
        "$m \\times n$\n",
        "دو زیر فضای مهم به صورت زیر وجود دارند\n",
        "\\begin{align*} \n",
        "R(A) &= \\{  B \\in \\mathbf{R}^m \\: | \\: B=AX, X \\in \\mathbf{R}^n \\} \\qquad  &\\text{A فضای برد} \\\\\n",
        "N(A) &=\\{ X \\in \\mathbf{R}^n \\: | \\: AX=0  \\} \\qquad &\\text{A فضای پوچ} \n",
        "\\end{align*}\n",
        "توجه کنید بعد\n",
        "$N(A)$\n",
        "را با\n",
        "$dim(N(A))$\n",
        "نشان می دهیم.\n",
        "\n",
        "<b>قضیه:</b>\n",
        "فرض کنید A ماتریس\n",
        "$m \\times n$\n",
        "باشد آنگاه\n",
        "$$Rank(A)+dim(N(A))=n$$\n",
        "\n",
        "<b>تذکر:</b>\n",
        "رتبه A همان بعد فضای برد A می باشد.\n",
        "\n",
        "<b>مثال:</b>\n",
        "فضای برد و پوچ ماتریس زیر را محاسبه کنید.\n",
        "$$\n",
        "A=\n",
        "\\begin{bmatrix}\n",
        "1&2&-1\\\\\n",
        "2&4&-2\\\\\n",
        "\\end{bmatrix}\n",
        "$$\n",
        "برای محاسبه فضای پوچ A قرار می دهیم:\n",
        "$$\n",
        "AX=0\n",
        "\\Rightarrow\n",
        "\\begin{bmatrix}\n",
        "1&2&-1\\\\\n",
        "2&4&-2\\\\\n",
        "\\end{bmatrix}\n",
        "\\begin{bmatrix}\n",
        "x_1\\\\\n",
        "x_2\\\\\n",
        "x_3\\\\\n",
        "\\end{bmatrix}\n",
        "=\n",
        "\\begin{bmatrix}\n",
        "0\\\\\n",
        "0\\\\\n",
        "\\end{bmatrix}\n",
        "$$\n",
        "\\begin{equation*}\n",
        "\\begin{cases}\n",
        "x_1+2x_2-x_3=0 \\\\\n",
        "2x_1+4x_2-2x_3=0\n",
        "\\end{cases}\n",
        "\\longrightarrow\n",
        "x_1+2x_2-x_3=0\n",
        "\\end{equation*}\n",
        "اگر\n",
        "$x_3=\\alpha$\n",
        "و\n",
        "$x_2=\\beta$\n",
        "آنگاه \n",
        "$x_1=-2 \\beta + \\alpha$\n",
        "پس\n",
        "$$\n",
        "X=\n",
        "\\begin{bmatrix}\n",
        "x_1\\\\\n",
        "x_2\\\\\n",
        "x_3\\\\\n",
        "\\end{bmatrix}=\n",
        "\\begin{bmatrix}\n",
        "-2 \\beta + \\alpha \\\\\n",
        "\\beta \\\\\n",
        "\\alpha \\\\\n",
        "\\end{bmatrix}=\\alpha\n",
        "\\begin{bmatrix}\n",
        "1 \\\\\n",
        "0 \\\\\n",
        "1 \\\\\n",
        "\\end{bmatrix}+\\beta\n",
        "\\begin{bmatrix}\n",
        "-2 \\\\\n",
        "1 \\\\\n",
        "0 \\\\\n",
        "\\end{bmatrix}\n",
        "$$\n",
        "\n",
        "بنابراین \n",
        "$N(A)$\n",
        "شامل تمام بردار هایی به شکل فوق است که\n",
        "$\\alpha,\\beta \\in \\mathbf{R}$\n",
        "پس\n",
        "$$\n",
        "N(A)= \\left\\lbrace \\alpha\n",
        "\\begin{bmatrix}\n",
        "1 \\\\\n",
        "0 \\\\\n",
        "1 \\\\\n",
        "\\end{bmatrix}+\\beta\n",
        "\\begin{bmatrix}\n",
        "-2 \\\\\n",
        "1 \\\\\n",
        "0 \\\\\n",
        "\\end{bmatrix} \\: \\mid \\:\n",
        "\\alpha , \\beta \\in \\mathbf{R}\n",
        " \\right\\rbrace \n",
        "$$\n",
        " لذا مجموعه\n",
        "$ \\left\\lbrace  \n",
        "\\begin{bmatrix}\n",
        "1 \\\\\n",
        "0 \\\\\n",
        "1 \\\\\n",
        "\\end{bmatrix},\n",
        "\\begin{bmatrix}\n",
        "-2 \\\\\n",
        "1 \\\\\n",
        "0 \\\\\n",
        "\\end{bmatrix}\n",
        " \\right\\rbrace $\n",
        "پایه ای برای این فضا و در نتیجه\n",
        "$dim(N(A))=2$\n",
        "از اینرو قضیه قبل نتیجه می دهد\n",
        "$$Rank(A)=n-dim(N(A))=3-2=1$$\n",
        "از طرفی برای فضای برد داریم:\n",
        "  \\begin{align*}\n",
        "    b &= AX = \n",
        "\\begin{bmatrix}\n",
        "x_1+2x_2-x_3 \\\\\n",
        "2x_1+4x_2-2x_3 \\\\\n",
        "\\end{bmatrix}=\n",
        "x_1\n",
        "\\begin{bmatrix}\n",
        "1 \\\\\n",
        "2 \\\\\n",
        "\\end{bmatrix}+2x_2\n",
        "\\begin{bmatrix}\n",
        "1 \\\\\n",
        "2 \\\\\n",
        "\\end{bmatrix}-x_3\n",
        "\\begin{bmatrix}\n",
        "1 \\\\\n",
        "2 \\\\\n",
        "\\end{bmatrix} \\\\\n",
        "    &= (x_1+2x_2-x_3)\n",
        "\\begin{bmatrix}\n",
        "1 \\\\\n",
        "2 \\\\\n",
        "\\end{bmatrix}=\\gamma\n",
        "\\begin{bmatrix}\n",
        "1 \\\\\n",
        "2 \\\\\n",
        "\\end{bmatrix}, \\gamma \\in \\mathbf{R}\n",
        "  \\end{align*}\n",
        "\n",
        "بنابراین\n",
        "$$\n",
        "R(A)= \\left\\lbrace \\gamma\n",
        "\\begin{bmatrix}\n",
        "1 \\\\\n",
        "2 \\\\\n",
        "\\end{bmatrix} \\: \\mid \\:\n",
        "\\gamma \\in \\mathbf{R}\n",
        " \\right\\rbrace \n",
        " $$\n",
        " فضای برد A است. واضح است که\n",
        " $dim(R(A))=1$\n",
        "لذا از این هم می توان متوجه شد که\n",
        "$$Rank(A)=dim(R(A))=1$$  \n",
        "\n",
        "</div></font>"
      ],
      "metadata": {
        "id": "1Jo7xjvsGzlH"
      }
    },
    {
      "cell_type": "markdown",
      "source": [
        "<font face=\"XB Zar\" size=4><div dir=rtl>\n",
        "\n",
        "<b>دترمینان</b>\n",
        " ماتریس\n",
        "$2 \\times 2$،\n",
        "A\n",
        "را با\n",
        "$det(A)$\n",
        "نشان داده و به صورت زیر تعریف می کنیم:\n",
        "$$det \\left( \n",
        "\\begin{bmatrix}\n",
        "a_{11}&a_{12} \\\\\n",
        "a_{21}&a_{22} \\\\\n",
        "\\end{bmatrix} \\right) =\n",
        "a_{11} a_{22} - a_{12} a_{21}\n",
        " $$\n",
        "\n",
        "<b>کهاد</b>\n",
        " درایه\n",
        "$a_{ij}$\n",
        "را با\n",
        "$M_{ij}$\n",
        "نشان می دهیم و عبارت است از دترمینان ماتریس حاصل از حذف ماتریس\n",
        "ردیف i\n",
        "ام و ستون j\n",
        "ام ماتریس A\n",
        ".\n",
        "\n",
        "<b>همسازه</b>\n",
        " درایه\n",
        "$a_{ij}$\n",
        "را با\n",
        "$C_{ij}$\n",
        "نشان می دهیم و به صورت زیر تعریف می کنیم:\n",
        "$$C_{ij} = (-1)^{i+j} M_{ij}$$ \n",
        "\n",
        "توجه کنید که کهاد و همسازه یک درایه حداکثر تفاوتشان در یک علامت است.\n",
        "$$C_{ij} = + M_{ij} \\; \\text{یا} \\; -M_{ij}$$\n",
        "\n",
        " <b>مثال)</b>\n",
        " کهاد و همسازه درایه های \n",
        "$a_{12}, a_{21}$\n",
        "را برای ماتریس زیر بدست آورید\n",
        "$$\n",
        "A=\n",
        "\\begin{bmatrix}\n",
        "2&-1&5 \\\\\n",
        "0&3&4 \\\\\n",
        "2&2&-2 \\\\\n",
        "\\end{bmatrix}\n",
        "$$\n",
        "\n",
        "<b>حل:</b>\n",
        "با بکارگیری تعریف اخیر داریم\n",
        "  \\begin{align*}\n",
        "    M_{12} &= \n",
        "det \\left( \n",
        "\\begin{bmatrix}\n",
        "0&4 \\\\\n",
        "2&-2 \\\\\n",
        "\\end{bmatrix} \\right) = 0 \\times (-2) - (4 \\times 2) = -8 \\\\\n",
        "    C_{12} &= (-1)^{1+2} M_{12} = -1 \\times -8 = 8 \\\\\n",
        "    M_{33}&= det \\left( \n",
        "\\begin{bmatrix}\n",
        "2&-1 \\\\\n",
        "0&3 \\\\\n",
        "\\end{bmatrix} \\right) = 2 \\times 3 - (-1) \\times 0 = 6 \\\\\n",
        "    C_{33}&= (-1)^{3+3} M_{33} = 1 \\times 6 = 6 \\\\\n",
        "  \\end{align*}\n",
        "\n",
        "  دترمینان ماتریس مربعی A برابر است با مجموع حاصل ضرب درایه های هر سطر یا هر ستون در همسازه مربوط به آن درایه. بنابراین دترمینان ماتریس A برحسب  بسط سطر i\n",
        "ام برابر است با\n",
        "$$det(A)=a_{i1}C_{i1}+a_{i2}C_{i2}+\\cdots+a_{in}C_{in}$$  \n",
        "\n",
        "<b>مثال)</b>\n",
        "مطلوب است محاسبه دترمینان ماتریس A برحسب\n",
        "$$\n",
        "A=\n",
        "\\begin{bmatrix}\n",
        "1&0&3 \\\\\n",
        "13&-2&5 \\\\\n",
        "-1&1&0 \\\\\n",
        "\\end{bmatrix}\n",
        "$$\n",
        "سطر سوم:\n",
        "$$(-1)^4 \\times (-1) \\times\n",
        "det \\left( \n",
        "\\begin{bmatrix}\n",
        "0&3 \\\\\n",
        "-2&5 \\\\\n",
        "\\end{bmatrix} \\right) + (-1)^5 \\times 1 \\times \n",
        "det \\left( \\begin{bmatrix}\n",
        "1&3 \\\\\n",
        "13&5 \\\\\n",
        "\\end{bmatrix} \\right) = 28\n",
        "$$\n",
        "\n",
        "سطر دوم:\n",
        "$$(-1)^3 \\times 13 \\times\n",
        "det \\left( \\begin{bmatrix}\n",
        "0&3 \\\\\n",
        "1&0 \\\\\n",
        "\\end{bmatrix} \\right) + (-1)^4 \\times -2 \\times \n",
        "det \\left( \\begin{bmatrix}\n",
        "1&3 \\\\\n",
        "-1&0 \\\\\n",
        "\\end{bmatrix} \\right) + (-1)^5 \\times 5 \\times \n",
        "det \\left( \\begin{bmatrix}\n",
        "1&0 \\\\\n",
        "-1&1 \\\\\n",
        "\\end{bmatrix} \\right) = 28\n",
        "$$\n",
        "ستون اول:\n",
        "$$(-1)^2 \\times 1 \\times\n",
        "det \\left( \\begin{bmatrix}\n",
        "-2&5 \\\\\n",
        "1&0 \\\\\n",
        "\\end{bmatrix} \\right) + (-1)^3 \\times 13 \\times \n",
        "det \\left( \\begin{bmatrix}\n",
        "0&3 \\\\\n",
        "1&0 \\\\\n",
        "\\end{bmatrix} \\right) + (-1)^4 \\times -1 \\times \n",
        "det \\left( \\begin{bmatrix}\n",
        "0&3 \\\\\n",
        "-2&5 \\\\\n",
        "\\end{bmatrix} \\right) = 28\n",
        "$$\n",
        "ستون دوم:\n",
        "$$(-1)^3 \\times 0 + (-1)^4 \\times -2 \\times \n",
        "det \\left( \\begin{bmatrix}\n",
        "1&3 \\\\\n",
        "-1&0 \\\\\n",
        "\\end{bmatrix} \\right) + (-1)^5 \\times 1 \\times \n",
        "det \\left( \\begin{bmatrix}\n",
        "1&3 \\\\\n",
        "13&5 \\\\\n",
        "\\end{bmatrix} \\right) = 28\n",
        "$$\n",
        "\n",
        "در ادامه چند خاصیت از دترمینان می بینیم. می توانید برای تمرین آن ها را اثبات کنید.\n",
        "\n",
        "1. $det(I)=1$\n",
        "2. $det(A^T)=det(A)$\n",
        "3. $det(AB)=det(A)det(B)$\n",
        "4. $det(A^{-1}) = det(A)^{-1}$\n",
        "5. $det(\\alpha A) = α^n det(A)$\n",
        "\n",
        "<b>اثر</b>\n",
        " یک ماتریس که با نماد \n",
        "$trace(A)$\n",
        "نمایش داده می شود، به صورت زیر است\n",
        "$$trace(A)=\\sum^{n}_{i=1} a_{ii}$$\n",
        "\n",
        "<b>تمرین)</b>\n",
        "خواص زیر را برای اثر ماتریس نشان دهید.\n",
        "\n",
        "1. trace(A+B) = trace(A) + trace(B)\n",
        "2. trace(α A) = α trace(A)\n",
        "3. trace($A^T$) = trace(A)\n",
        "4. trace(ABCD) = trace(BCDA) = trace(CDAB) = trace(ِDABC)\n",
        "\n",
        "</div></font>"
      ],
      "metadata": {
        "id": "DQCQBxSnwkaL"
      }
    },
    {
      "cell_type": "markdown",
      "source": [
        "<font face=\"XB Zar\" size=4><div dir=rtl>\n",
        "<font color=\"red\" size=5>3.1.تنسورها</font>\n",
        "<br>\n",
        "تنسورها تعمیمی از اسکالرها، بردارها و ماتریس ها برای ابعاد بالاتر از 2 هستند. \n",
        "\n",
        "</div></font>"
      ],
      "metadata": {
        "id": "Ec3_yEmj2Qu_"
      }
    },
    {
      "cell_type": "markdown",
      "source": [
        "\n",
        "<div>\n",
        "<center>\n",
        "<img src=\"https://www.kdnuggets.com/wp-content/uploads/scalar-vector-matrix-tensor.jpg\" width=\"500\">\n",
        "</center>\n",
        "</div>\n"
      ],
      "metadata": {
        "id": "OfAI1t6MC5XN"
      }
    },
    {
      "cell_type": "markdown",
      "source": [
        "<font face=\"XB Zar\" size=4><div dir=rtl>\n",
        "فرض کنید عکسی سیاه و سفید (grayscale) در اختیار دارید در این صورت می توانید آن \n",
        "را در یک ماتریس ذخیره کنید. به این صورت که به هر پیکسل مقداری بین 0 تا 255 اختصاص دهید و در یک خانه ماتریس ذخیره کنید. در یادگیری ماشین و یادگیری عمیق عموما با داده ها با ابعاد بالا سر و کار داریم. به طور مثال برای ذخیره سازی یک عکس رنگی در فضای رنگی RGB نیاز به یک تنسور 3 بعدی داریم.همچنین برای نگهداری مجموعه ای از عکس ها به تنسور 4 بعدی نیاز داریم.\n",
        "</div></font>"
      ],
      "metadata": {
        "id": "kxIwzwMSwkhb"
      }
    },
    {
      "cell_type": "markdown",
      "source": [
        "\n",
        "<div>\n",
        "<center>\n",
        "<img src=\"https://image.slidesharecdn.com/tensordecomposition-170301235239/95/a-brief-survey-of-tensors-5-638.jpg\" width=\"500\">\n",
        "</center>\n",
        "</div>\n"
      ],
      "metadata": {
        "id": "CiQ6uqeZEnl2"
      }
    },
    {
      "cell_type": "markdown",
      "source": [
        "<font face=\"XB Zar\" size=4><div dir=rtl>\n",
        "در ادامه یک تنسور 3 بعدی تولید می کنیم\n",
        "</div></font>"
      ],
      "metadata": {
        "id": "-tP7FngIwkj4"
      }
    },
    {
      "cell_type": "code",
      "source": [
        "np.arange(24).reshape(2, 3, 4)"
      ],
      "metadata": {
        "colab": {
          "base_uri": "https://localhost:8080/"
        },
        "id": "pBvWQSYmF7sM",
        "outputId": "747a9ea3-fa63-45f3-9f1f-a69123ce6911"
      },
      "execution_count": null,
      "outputs": [
        {
          "output_type": "execute_result",
          "data": {
            "text/plain": [
              "array([[[ 0,  1,  2,  3],\n",
              "        [ 4,  5,  6,  7],\n",
              "        [ 8,  9, 10, 11]],\n",
              "\n",
              "       [[12, 13, 14, 15],\n",
              "        [16, 17, 18, 19],\n",
              "        [20, 21, 22, 23]]])"
            ]
          },
          "metadata": {},
          "execution_count": 11
        }
      ]
    },
    {
      "cell_type": "markdown",
      "source": [
        "<font face=\"XB Zar\" size=4><div dir=rtl>\n",
        "<font color=\"red\" size=5>4.1.عملیات روی تنسور ها</font>\n",
        "<br>\n",
        "ابتدا ضرب درایه ای (Hadamard product)\n",
        "را معرفی می کنیم. فرض کنید\n",
        "$\\mathbf{A}, \\mathbf{B} \\in \\mathbb{R}^{m \\times n}$\n",
        "در این صورت داریم:\n",
        "$$\n",
        "\\begin{split}\\mathbf{A} \\odot \\mathbf{B} =\n",
        "\\begin{bmatrix}\n",
        "    a_{11}  b_{11} & a_{12}  b_{12} & \\dots  & a_{1n}  b_{1n} \\\\\n",
        "    a_{21}  b_{21} & a_{22}  b_{22} & \\dots  & a_{2n}  b_{2n} \\\\\n",
        "    \\vdots & \\vdots & \\ddots & \\vdots \\\\\n",
        "    a_{m1}  b_{m1} & a_{m2}  b_{m2} & \\dots  & a_{mn}  b_{mn}\n",
        "\\end{bmatrix}.\\end{split}\n",
        "$$\n",
        "\n",
        "مثال:\n",
        "\n",
        "</div></font>"
      ],
      "metadata": {
        "id": "HtrxhvV7JnUs"
      }
    },
    {
      "cell_type": "code",
      "source": [
        "A = np.arange(6, dtype=np.float32).reshape(2, 3)\n",
        "B = A.copy()  # Assign a copy of `A` to `B` by allocating new memory\n",
        "A * B"
      ],
      "metadata": {
        "colab": {
          "base_uri": "https://localhost:8080/"
        },
        "id": "r5u6aKrELBd_",
        "outputId": "b67c7393-ed6d-4224-d25b-3100cfab244a"
      },
      "execution_count": null,
      "outputs": [
        {
          "output_type": "execute_result",
          "data": {
            "text/plain": [
              "array([[ 0.,  1.,  4.],\n",
              "       [ 9., 16., 25.]], dtype=float32)"
            ]
          },
          "metadata": {},
          "execution_count": 13
        }
      ]
    },
    {
      "cell_type": "markdown",
      "source": [
        "<font face=\"XB Zar\" size=4><div dir=rtl>\n",
        "یکی از اساسی ترین عملیات ها در جبرخطی ضرب نقطه ای (Dot Product) می باشد. فرض کنید\n",
        "$\\mathbf{x}, \\mathbf{y} \\in \\mathbb{R}^d$\n",
        "در این صورت تعریف می کنیم:\n",
        "$$\\langle \\mathbf{x}, \\mathbf{y} \\rangle = \\mathbf{x}^\\top \\mathbf{y} = \\sum_{i=1}^{d} x_i y_i$$\n",
        "\n",
        "یکی از کاربرد های ضرب نقطه ای محاسبه میانگین وزن دار است. فرض کنید\n",
        "$\\mathbf{x} \\in \\mathbb{R}^n,\\; \\mathbf{w} \\in \\mathbb{R}^n,\\; \\sum_{i=1}^{n} {w_i} = 1$ که x بردار مقادیر و w بردار وزن های نامنفی مقادیر است در این صورت\n",
        "$\\mathbf{x}^\\top \\mathbf{w}$\n",
        "همان میانگین وزن دار است.\n",
        "\n",
        "مثال:\n",
        "\n",
        "</div></font>"
      ],
      "metadata": {
        "id": "vsEak2-VJnoD"
      }
    },
    {
      "cell_type": "code",
      "source": [
        "x = np.arange(3, dtype=np.float32)\n",
        "w = np.array([0.5,0.2,0.3])\n",
        "print(np.dot(x, w)) # method 1\n",
        "print(np.sum(x * w)) # method 2"
      ],
      "metadata": {
        "colab": {
          "base_uri": "https://localhost:8080/"
        },
        "id": "f-9X1tR8Laxc",
        "outputId": "b945ef28-df39-41ec-bcd7-e5cfed56bbbb"
      },
      "execution_count": null,
      "outputs": [
        {
          "output_type": "stream",
          "name": "stdout",
          "text": [
            "0.8\n",
            "0.8\n"
          ]
        }
      ]
    },
    {
      "cell_type": "markdown",
      "source": [
        "<font face=\"XB Zar\" size=4><div dir=rtl>\n",
        "در ادامه به ضرب ماتریس-بردار می پردازیم. فرض کنید A و x به ترتیب ماتریس\n",
        "$m \\times n$\n",
        "و بردار n بعدی هستند.\n",
        "قرار می دهیم:\n",
        "$$\n",
        "\\begin{split}\\mathbf{A}=\n",
        "\\begin{bmatrix}\n",
        "\\mathbf{a}^\\top_{1} \\\\\n",
        "\\mathbf{a}^\\top_{2} \\\\\n",
        "\\vdots \\\\\n",
        "\\mathbf{a}^\\top_m \\\\\n",
        "\\end{bmatrix},\\end{split}\n",
        "$$\n",
        "به طوری که\n",
        "$\\mathbf{a}^\\top_{i} \\in \\mathbb{R}^n$\n",
        "بردار سطری نشان دهنده سطر i ام ماتریس A است. سپس ضرب ماتریس-بردار \n",
        "$Ax$\n",
        "را به کمک ضرب نقطه ای\n",
        "$\\mathbf{a}^\\top_i \\mathbf{x}$\n",
        "به صورت زیر تعریف می کنیم:\n",
        "$$\n",
        "\\begin{split}\\mathbf{A}\\mathbf{x}\n",
        "= \\begin{bmatrix}\n",
        "\\mathbf{a}^\\top_{1} \\\\\n",
        "\\mathbf{a}^\\top_{2} \\\\\n",
        "\\vdots \\\\\n",
        "\\mathbf{a}^\\top_m \\\\\n",
        "\\end{bmatrix}\\mathbf{x}\n",
        "= \\begin{bmatrix}\n",
        " \\mathbf{a}^\\top_{1} \\mathbf{x}  \\\\\n",
        " \\mathbf{a}^\\top_{2} \\mathbf{x} \\\\\n",
        "\\vdots\\\\\n",
        " \\mathbf{a}^\\top_{m} \\mathbf{x}\\\\\n",
        "\\end{bmatrix}.\\end{split}\n",
        "$$\n",
        "<br>\n",
        "برای شهود بیشتر می توانید به این ضرب به چشم یک تبدیل از فضای\n",
        "$\\mathbf{R}^n$\n",
        "به\n",
        "$\\mathbf{R}^m$\n",
        "نگاه کنید. مثلا اگر\n",
        "$m=n=2$\n",
        "باشد و قرار دهیم\n",
        "$$A = \\begin{bmatrix}\n",
        "cos(30) & -sin(30) \\\\\n",
        "sin(30) & cos(30) \\\\\n",
        "\\end{bmatrix},\\; X=\\begin{bmatrix}\n",
        "2 \\\\\n",
        "1 \\\\\n",
        "\\end{bmatrix}\n",
        "$$\n",
        "<br>\n",
        "در این صورت بردار\n",
        "$X^{'} = AX$\n",
        "در صفحه مختصات دو بعدی 30 درجه دوران یافته بردار X در جهت پادساعتگرد است.\n",
        "</div></font>"
      ],
      "metadata": {
        "id": "gqG3qE1gJnqi"
      }
    },
    {
      "cell_type": "markdown",
      "source": [
        "![givens30.png](data:image/png;base64,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)"
      ],
      "metadata": {
        "id": "5CoC21BQWjtL"
      }
    },
    {
      "cell_type": "markdown",
      "source": [
        "<font face=\"XB Zar\" size=4><div dir=rtl>\n",
        "در ادامه انجام این ضرب در پایتون را میبینیم:\n",
        "\n",
        "</div></font>"
      ],
      "metadata": {
        "id": "EEODQxmoJnxS"
      }
    },
    {
      "cell_type": "code",
      "source": [
        "A.shape, x.shape, A@x"
      ],
      "metadata": {
        "colab": {
          "base_uri": "https://localhost:8080/"
        },
        "id": "U4OupAsfXnoh",
        "outputId": "723a0669-d29a-4f56-e3ec-2d17180127df"
      },
      "execution_count": null,
      "outputs": [
        {
          "output_type": "execute_result",
          "data": {
            "text/plain": [
              "((2, 3), (3,), array([ 5., 14.], dtype=float32))"
            ]
          },
          "metadata": {},
          "execution_count": 15
        }
      ]
    },
    {
      "cell_type": "markdown",
      "source": [
        "<font face=\"XB Zar\" size=4><div dir=rtl>\n",
        "اکنون آماده ایم تا ضرب ماتریس-ماتریس را معرفی کنیم. ابتدا قرار دهیم:\n",
        "<br>\n",
        "<br>\n",
        "$$\n",
        "\\begin{split}\\mathbf{A}=\\begin{bmatrix}\n",
        " a_{11} & a_{12} & \\cdots & a_{1k} \\\\\n",
        " a_{21} & a_{22} & \\cdots & a_{2k} \\\\\n",
        "\\vdots & \\vdots & \\ddots & \\vdots \\\\\n",
        " a_{n1} & a_{n2} & \\cdots & a_{nk} \\\\\n",
        "\\end{bmatrix},\\quad\n",
        "\\mathbf{B}=\\begin{bmatrix}\n",
        " b_{11} & b_{12} & \\cdots & b_{1m} \\\\\n",
        " b_{21} & b_{22} & \\cdots & b_{2m} \\\\\n",
        "\\vdots & \\vdots & \\ddots & \\vdots \\\\\n",
        " b_{k1} & b_{k2} & \\cdots & b_{km} \\\\\n",
        "\\end{bmatrix}.\\end{split}\n",
        "$$\n",
        "<br>\n",
        "سپس با نماد گذاری مشابه قبل داریم:\n",
        "<br>\n",
        "$$\n",
        "\\begin{split}\\mathbf{A}=\n",
        "\\begin{bmatrix}\n",
        "\\mathbf{a}^\\top_{1} \\\\\n",
        "\\mathbf{a}^\\top_{2} \\\\\n",
        "\\vdots \\\\\n",
        "\\mathbf{a}^\\top_n \\\\\n",
        "\\end{bmatrix},\n",
        "\\quad \\mathbf{B}=\\begin{bmatrix}\n",
        " \\mathbf{b}_{1} & \\mathbf{b}_{2} & \\cdots & \\mathbf{b}_{m} \\\\\n",
        "\\end{bmatrix}.\\end{split}\n",
        "$$\n",
        "<br>\n",
        "سپس می توانیم ماتریس C که\n",
        "$n \\times m$\n",
        "است را به صورت زیر تشکیل دهیم:\n",
        "<br>\n",
        "<br>\n",
        "$$\n",
        "\\begin{split}\\mathbf{C} = \\mathbf{AB} = \\begin{bmatrix}\n",
        "\\mathbf{a}^\\top_{1} \\\\\n",
        "\\mathbf{a}^\\top_{2} \\\\\n",
        "\\vdots \\\\\n",
        "\\mathbf{a}^\\top_n \\\\\n",
        "\\end{bmatrix}\n",
        "\\begin{bmatrix}\n",
        " \\mathbf{b}_{1} & \\mathbf{b}_{2} & \\cdots & \\mathbf{b}_{m} \\\\\n",
        "\\end{bmatrix}\n",
        "= \\begin{bmatrix}\n",
        "\\mathbf{a}^\\top_{1} \\mathbf{b}_1 & \\mathbf{a}^\\top_{1}\\mathbf{b}_2& \\cdots & \\mathbf{a}^\\top_{1} \\mathbf{b}_m \\\\\n",
        " \\mathbf{a}^\\top_{2}\\mathbf{b}_1 & \\mathbf{a}^\\top_{2} \\mathbf{b}_2 & \\cdots & \\mathbf{a}^\\top_{2} \\mathbf{b}_m \\\\\n",
        " \\vdots & \\vdots & \\ddots &\\vdots\\\\\n",
        "\\mathbf{a}^\\top_{n} \\mathbf{b}_1 & \\mathbf{a}^\\top_{n}\\mathbf{b}_2& \\cdots& \\mathbf{a}^\\top_{n} \\mathbf{b}_m\n",
        "\\end{bmatrix}.\\end{split}\n",
        "$$\n",
        "\n",
        "\n",
        "\n",
        "</div></font>"
      ],
      "metadata": {
        "id": "p53xYwCnXZdR"
      }
    },
    {
      "cell_type": "markdown",
      "source": [
        "<font face=\"XB Zar\" size=4><div dir=rtl>\n",
        "در ادامه انجام این ضرب در پایتون را میبینیم:\n",
        "</div></font>"
      ],
      "metadata": {
        "id": "XsuWBoKbXZiT"
      }
    },
    {
      "cell_type": "code",
      "source": [
        "B = np.ones([3, 4])\n",
        "A@B"
      ],
      "metadata": {
        "colab": {
          "base_uri": "https://localhost:8080/"
        },
        "id": "aqKdd_ckapfK",
        "outputId": "54c5401d-d6df-411b-dd8f-3c10c8d070eb"
      },
      "execution_count": null,
      "outputs": [
        {
          "output_type": "execute_result",
          "data": {
            "text/plain": [
              "array([[ 3.,  3.,  3.,  3.],\n",
              "       [12., 12., 12., 12.]])"
            ]
          },
          "metadata": {},
          "execution_count": 17
        }
      ]
    },
    {
      "cell_type": "markdown",
      "source": [
        "<font face=\"XB Zar\" size=4><div dir=rtl>\n",
        "<font color=\"red\" size=5>5.1.نرم های برداری</font>\n",
        "<br>\n",
        "هر تابع به صورت\n",
        "$\\| \\cdot \\| : \\mathbf{R}^n → \\mathbf{R}^{+}$\n",
        "که در خواص سه گانه\n",
        "1. $\\|X\\|=0 ⇔ X=0 \\qquad ∀X \\in \\mathbf{R}^{n}$\n",
        "2. $\\| \\alpha X\\|= |\\alpha| \\|X\\| \\qquad ∀α \\in \\mathbf{R}$\n",
        "3. $\\|X+Y\\| \\leq \\|X\\|+\\|Y\\| \\qquad ∀X,Y \\in \\mathbf{R}^{n}$\n",
        "\n",
        "صدق کند یک نرم برداری روی فضای برداری \n",
        "$\\mathbf{R}^n$\n",
        "نامیده می شود.\n",
        "\n",
        "یکی از نرم های معروف نرم \n",
        "$\\ell_2$\n",
        "است که به صورت زیر تعریف می شود:\n",
        "\n",
        "$$\\|\\mathbf{X}\\|_2 = \\sqrt{\\sum_{i=1}^n x_i^2}.$$\n",
        "\n",
        "یکی دیگر از نرم های معروف نرم \n",
        "$\\ell_1$\n",
        "است که به صورت زیر تعریف می شود:\n",
        "\n",
        "$$\\|\\mathbf{X}\\|_1 = \\sum_{i=1}^n \\left|x_i \\right|.$$\n",
        "\n",
        "در کاربرد هایی از یادگیری ماشین و یادگیری عمیق به دنبال بیشینه کردن یا کمینه کردن فاصله بازنمایی هایی از دادهایمان هستیم مثلا کمینه کردن فاصله بین بازنمایی تصاویر یک فرد به ما در تشخیص چهره وی کمک می کند که در این موارد نرم ها به عنوان معیاری برای توصیف فاصله بردارها به ما کمک می کنند. \n",
        "\n",
        "</div></font>"
      ],
      "metadata": {
        "id": "GGw4sQZSXZmO"
      }
    },
    {
      "cell_type": "markdown",
      "source": [
        "<font face=\"XB Zar\" size=4><div dir=rtl>\n",
        "<font color=\"red\" size=5>2.مشتق، گرادیان و قاعده زنجیره ای</font>\n",
        "<br>\n",
        "در این بخش به یادآوری مباحثی از ریاضی 1 و 2 می پردازیم. \n",
        "\n",
        "</div></font>"
      ],
      "metadata": {
        "id": "cKmN6djXXZow"
      }
    },
    {
      "cell_type": "markdown",
      "source": [
        "<font face=\"XB Zar\" size=4><div dir=rtl>\n",
        "<font color=\"red\" size=5>1.2.مشتق</font>\n",
        "<br>\n",
        "در ساده ترین تعریف مشتق یک تابع نرخ تغییرات آن نسبت به آرگومان هایش را نشان می دهد. مشتق تابع f تابعی است به نام \n",
        "$f^{'}$\n",
        "که به صورت زیر تعریف می شود:\n",
        "\n",
        "<br>\n",
        "$$f'(x) = \\lim_{h \\rightarrow 0} \\frac{f(x+h) - f(x)}{h}.$$\n",
        "\n",
        "این حد به ما می گوید نسبت تغییر مقدار تابع،\n",
        "$f(x + h) - f(x)$\n",
        "،\n",
        "به تغییر اعمال شده،\n",
        "$h$\n",
        "،\n",
        "وقتی h به صفر میل می کند به چه مقداری همگرا می شود. اگر حاصل متناهی باشد گوییم f در xمشتق پذیر است. در ادامه این همگرایی را برای تابع\n",
        "$f(x)=3x^2-4x$\n",
        "در\n",
        "$x=1$\n",
        "به صورت عددی بررسی می کنیم.\n",
        "</div></font>"
      ],
      "metadata": {
        "id": "cOjx-QLOXZqk"
      }
    },
    {
      "cell_type": "code",
      "source": [
        "def f(x):\n",
        "    return 3 * x ** 2 - 4 * x\n",
        "\n",
        "for h in 10.0**np.arange(-1, -6, -1):\n",
        "    print(f'h={h:.5f}, numerical limit={(f(1+h)-f(1))/h:.5f}')"
      ],
      "metadata": {
        "colab": {
          "base_uri": "https://localhost:8080/"
        },
        "id": "ovTPuiSk3Z5W",
        "outputId": "603c6b0e-1360-400c-8b92-a9975dfd6af8"
      },
      "execution_count": null,
      "outputs": [
        {
          "output_type": "stream",
          "name": "stdout",
          "text": [
            "h=0.10000, numerical limit=2.30000\n",
            "h=0.01000, numerical limit=2.03000\n",
            "h=0.00100, numerical limit=2.00300\n",
            "h=0.00010, numerical limit=2.00030\n",
            "h=0.00001, numerical limit=2.00003\n"
          ]
        }
      ]
    },
    {
      "cell_type": "markdown",
      "source": [
        "<font face=\"XB Zar\" size=4><div dir=rtl>\n",
        "در کتب مختلف نماد های متفاوتی برای مشتق گیری استفاده می شود که همگی معادل هستند.اگر قرار دهیم\n",
        "$y=f(x)$\n",
        "نماد های\n",
        "$\\frac{dy}{dx}, \\; \\frac{d}{dx} f(x)$\n",
        "را نماد های لایب نیتس و\n",
        "علامت پریم ('y)\n",
        " نیز نماد نیوتن برای مشتق می نامند. به عبارت دیگر:\n",
        "\n",
        " $$\n",
        " f'(x) = y' = \\frac{dy}{dx} = \\frac{df}{dx} = \\frac{d}{dx} f(x) = Df(x) = D_x f(x)\n",
        " $$\n",
        "\n",
        " نماد های\n",
        " $\\frac{d}{dx}$\n",
        " و\n",
        " $D$\n",
        " عملگرهای دیفرانسیل نامیده می شوند. در ادامه مشتق چند تابع متداول آمده است:\n",
        "\n",
        " $$\n",
        "\\begin{split}\\begin{aligned} \\frac{d}{dx} C & = 0 && \\text{for any constant $C$} \\\\ \\frac{d}{dx} x^n & = n x^{n-1} && \\text{for } n \\neq 0 \\\\ \\frac{d}{dx} e^x & = e^x \\\\ \\frac{d}{dx} \\ln x & = x^{-1} \\end{aligned}\\end{split}\n",
        " $$\n",
        "\n",
        "همچنین قوانین زیر برای مشتق گیری سریع تر به ما کمک می کنند:\n",
        "\n",
        "$$\n",
        "\\begin{split}\\begin{aligned} \\frac{d}{dx} [C f(x)] & = C \\frac{d}{dx} f(x) && \\text{Constant multiple rule} \\\\ \\frac{d}{dx} [f(x) + g(x)] & = \\frac{d}{dx} f(x) + \\frac{d}{dx} g(x) && \\text{Sum rule} \\\\ \\frac{d}{dx} [f(x) g(x)] & = f(x) \\frac{d}{dx} g(x) + g(x) \\frac{d}{dx} f(x) && \\text{Product rule} \\\\ \\frac{d}{dx} \\frac{f(x)}{g(x)} & = \\frac{g(x) \\frac{d}{dx} f(x) - f(x) \\frac{d}{dx} g(x)}{g^2(x)} && \\text{Quotient rule} \\end{aligned}\\end{split}\n",
        "$$\n",
        "\n",
        "اکنون آماده ایم مشتقی که به صورت عددی حساب کردیم را به صورت تحلیلی محاسبه کنیم:\n",
        "\n",
        "$$\n",
        "\\frac{d}{dx} [3 x^2 - 4x] = 3 \\frac{d}{dx} x^2 - 4 \\frac{d}{dx} x = 6x - 4.\n",
        "$$\n",
        "\n",
        "که در \n",
        "$x=1$\n",
        "همان 2 است.همچنین در پایتون نیز می توانیم به صورت خودکار و نمادین این مشتق گیری را انجام دهیم.\n",
        "\n",
        "</div></font>"
      ],
      "metadata": {
        "id": "0Mfp4MWzXaPZ"
      }
    },
    {
      "cell_type": "code",
      "source": [
        "from sympy import *\n",
        "x = Symbol('x', real=True)\n",
        "f = 3*x**2 - 4*x\n",
        "\n",
        "dfdx = f.diff(x) # <- yes, taking derivatives is this easy!\n",
        "\n",
        "print(\"f'(x) =\", latex(simplify(dfdx)))"
      ],
      "metadata": {
        "colab": {
          "base_uri": "https://localhost:8080/"
        },
        "id": "8iKE64o1tmPy",
        "outputId": "1d86532d-7b79-40d2-d0c7-4fc8a5ca16c5"
      },
      "execution_count": null,
      "outputs": [
        {
          "output_type": "stream",
          "name": "stdout",
          "text": [
            "f'(x) = 6 x - 4\n"
          ]
        }
      ]
    },
    {
      "cell_type": "markdown",
      "source": [
        "<font face=\"XB Zar\" size=4><div dir=rtl>\n",
        "<font color=\"red\" size=5>2.2.مشتق های جزئی و گرادیان</font>\n",
        "<br>\n",
        "در این قسمت ابتدا تعمیم تعریف قبلی برای توابع چند متغیره را بیان می کنیم. فرض  کنیم تابع\n",
        "$y = f(x_1, x_2, \\ldots, x_n)$\n",
        "یک تابع n متغیره باشد. مشتق جزئی y نسبت به i امین پارامتر ($x_i$)\n",
        "به صورت زیر تعریف می شود:\n",
        "\n",
        "$$\n",
        "\\frac{\\partial y}{\\partial x_i} = \\lim_{h \\rightarrow 0} \\frac{f(x_1, \\ldots, x_{i-1}, x_i+h, x_{i+1}, \\ldots, x_n) - f(x_1, \\ldots, x_i, \\ldots, x_n)}{h}.\n",
        "$$\n",
        "\n",
        "برای محاسبه\n",
        "$\\frac{\\partial y}{\\partial x_i}$\n",
        "پارامتر های\n",
        "$x_1, \\ldots, x_{i-1}, x_{i+1}, \\ldots, x_n$\n",
        "را ثابت گرفته و مشتق y نسبت به\n",
        "$x_i$\n",
        "را محاسبه می کنیم. مشابه قبل نماد های زیر معادل هستند:\n",
        "\n",
        "$$\\frac{\\partial y}{\\partial x_i} = \\frac{\\partial f}{\\partial x_i} = \\partial_{x_i} f = \\partial_i f = f_{x_i} = f_i = D_i f = D_{x_i} f.$$\n",
        "\n",
        "<br>\n",
        "\n",
        "مثال) اگر\n",
        "$w = f(x,y,z,t)$\n",
        "در این صورت:\n",
        "$$\\frac{\\partial^7 w}{∂x\\;∂y\\;∂z\\;∂^3x\\;∂t} = f_{txxxzyx}(x,y,z,t)$$\n",
        "\n",
        "<br>\n",
        "\n",
        "مثال) اگر\n",
        "$f(x,y,z) = (sinx)y-z^2$\n",
        "در این صورت:\n",
        "$$f_x(x,y,z) = y(cosx) \\qquad f_y(x,y,z)=sinx \\qquad f_z(x,y,z)=-2z$$\n",
        "\n",
        "<br>\n",
        "\n",
        "مثال) می خواهیم\n",
        "$\\frac{\\partial^7}{\\partial x\\partial y^2\\partial z^4} e^{x y z}$\n",
        "را با پایتون محاسبه کنیم.\n",
        "\n",
        "</div></font>"
      ],
      "metadata": {
        "id": "W_i5Pd4FXaR5"
      }
    },
    {
      "cell_type": "code",
      "source": [
        "x, y, z = symbols('x y z')\n",
        "expr = exp(x*y*z)\n",
        "diff(expr, x, y, 2, z, 4)"
      ],
      "metadata": {
        "colab": {
          "base_uri": "https://localhost:8080/",
          "height": 39
        },
        "id": "H3-jMTcOu4Qn",
        "outputId": "754dc6d2-b530-4dff-845b-b4e9f913ce32"
      },
      "execution_count": null,
      "outputs": [
        {
          "output_type": "execute_result",
          "data": {
            "text/plain": [
              "x**3*y**2*(x**3*y**3*z**3 + 14*x**2*y**2*z**2 + 52*x*y*z + 48)*exp(x*y*z)"
            ],
            "text/latex": "$\\displaystyle x^{3} y^{2} \\left(x^{3} y^{3} z^{3} + 14 x^{2} y^{2} z^{2} + 52 x y z + 48\\right) e^{x y z}$"
          },
          "metadata": {},
          "execution_count": 22
        }
      ]
    },
    {
      "cell_type": "markdown",
      "source": [
        "<font face=\"XB Zar\" size=4><div dir=rtl>\n",
        "\n",
        "اکنون آماده ایم تا گرادیان را تعریف کنیم. \tفرض کنید \n",
        "\t$f$\n",
        "تابعی \n",
        "\t$n$\n",
        "متغیره به صورت \n",
        "\t\\begin{align*}\n",
        "\t\tf&:\\mathbb{R}^n\\longrightarrow \\mathbb{R}\\\\\n",
        "\t\tf&:=f(x_1,x_2,\\cdots ,x_n)\n",
        "\t\\end{align*}\n",
        "باشد آنگاه \n",
        "گرادیان \n",
        "$f$ \n",
        "را به صورت زیر تعریف می‌کنیم\n",
        "\n",
        "$$\\nabla_{\\mathbf{x}} f(\\mathbf{x})=(\\frac{\\partial f}{\\partial x_1},\\frac{\\partial f}{\\partial x_2},\\cdots,\\frac{\\partial f}{\\partial x_n} )^T$$\n",
        "بنابراین \n",
        "$\\nabla_{\\mathbf{x}} f(\\mathbf{x})$\n",
        "برداری در \n",
        "$\\mathbb{R}^n$\n",
        "خواهد بود. در مواقعی که ابهامی نباشد به جای\n",
        "$\\nabla_{\\mathbf{x}} f(\\mathbf{x})$\n",
        "از نماد\n",
        "$∇f$\n",
        "استفاده می کنیم.\n",
        "\n",
        "مثال) \t\t‌فرض کنید \n",
        "\t\t$$f(x_1,x_2)=\\dfrac{1}{x_1}-4x_{2}$$\n",
        "\t\tآنگاه بردار گرادیان تابع\n",
        "\t\t$ f $\n",
        "\t\tبه صورت زیر خواهد بود\n",
        "\t\t$$\\nabla f=(\\frac{\\partial f}{\\partial x_1},\\frac{\\partial f}{\\partial x_2})^T$$\n",
        "\t\tکه در آن\n",
        "\t\t$$\\frac{\\partial f}{\\partial x_1}=\\frac{\\partial (\\dfrac{1}{x_1}-4x_{2})}{\\partial x_1}=-\\dfrac{1}{x_1^2}\\quad ,\\quad \n",
        "\t\t\\frac{\\partial f}{\\partial x_1}=\\frac{\\partial (\\dfrac{1}{x_1}-4x_{2})}{\\partial x_2}=-4$$\n",
        "\t\tبنابراین داریم\n",
        "\t\t$$\\nabla f=(-\\dfrac{1}{x_1^2},-4)^T$$\n",
        "\n",
        "همچنین می توانیم این بردار را با پایتون محاسبه کنیم.\n",
        "\n",
        "</div></font>"
      ],
      "metadata": {
        "id": "cFt8hsaC7QEq"
      }
    },
    {
      "cell_type": "code",
      "source": [
        "x, y = symbols('x y')\n",
        "expr = (1/x)-4*y\n",
        "[expr.diff(xi) for xi in [x,y]]"
      ],
      "metadata": {
        "colab": {
          "base_uri": "https://localhost:8080/"
        },
        "id": "-d1tzFyawWzi",
        "outputId": "c700116e-50c6-49c8-c9d3-6f26b4ca8341"
      },
      "execution_count": null,
      "outputs": [
        {
          "output_type": "execute_result",
          "data": {
            "text/plain": [
              "[-1/x**2, -4]"
            ]
          },
          "metadata": {},
          "execution_count": 23
        }
      ]
    },
    {
      "cell_type": "markdown",
      "source": [
        "<font face=\"XB Zar\" size=4><div dir=rtl>\n",
        "<font color=\"red\" size=5>3.2.قاعده زنجیره ای</font>\n",
        "<br>\n",
        "فرض کنید\n",
        "$z=f(x,y)$\n",
        "با مشتقات جزئی مرتبه اول پیوسته و \n",
        "x و y\n",
        "توابعی مشتق پذیر برحسب t و s باشند آنگاه طبق قاعده زنجیره ای داریم:\n",
        "\n",
        "$$\n",
        "\\frac{∂z}{∂t} = \\frac{∂z}{∂x}.\\frac{∂x}{∂t}+\\frac{∂z}{∂y}.\\frac{∂y}{∂t}\n",
        "$$\n",
        "\n",
        "$$\n",
        "\\frac{∂z}{∂s} = \\frac{∂z}{∂x}.\\frac{∂x}{∂s}+\\frac{∂z}{∂y}.\\frac{∂y}{∂s}\n",
        "$$\n",
        "\n",
        "<div>\n",
        "<center>\n",
        "<img src=\"https://i.stack.imgur.com/1FOMQ.png\" width=\"300\">\n",
        "</center>\n",
        "</div>\n",
        "\n",
        "مثال) اگر\n",
        "$w = z(u,v,r)$\n",
        "و u و v برحسب x,y,r باشند و r تابعی برحسب x,y باشد در این صورت\n",
        "$\\frac{∂z}{∂x}$\n",
        "را به صورت زیر محاسبه می کنیم:\n",
        "\n",
        "$$\n",
        "\\frac{∂z}{∂x} = \\frac{∂z}{∂u}.\\frac{∂u}{∂x}+\\frac{∂z}{∂u}.\\frac{∂u}{∂r}.\\frac{∂r}{∂x}+\\frac{∂z}{∂v}.\\frac{∂v}{∂x}+\\frac{∂z}{∂v}.\\frac{∂v}{∂r}.\\frac{∂r}{∂x}+\\frac{∂z}{∂r}.\\frac{∂r}{∂x}\n",
        "$$\n",
        "\n",
        "</div></font>"
      ],
      "metadata": {
        "id": "erdcTaC4uvvy"
      }
    }
  ]
}