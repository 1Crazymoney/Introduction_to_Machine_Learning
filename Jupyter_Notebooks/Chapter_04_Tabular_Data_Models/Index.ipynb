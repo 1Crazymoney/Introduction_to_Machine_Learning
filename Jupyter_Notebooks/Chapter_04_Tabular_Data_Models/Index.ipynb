{
 "cells": [
  {
   "cell_type": "code",
   "execution_count": 1,
   "metadata": {
    "_cell_guid": "b1076dfc-b9ad-4769-8c92-a6c4dae69d19",
    "_uuid": "8f2839f25d086af736a60e9eeb907d3b93b6e0e5",
    "execution": {
     "iopub.execute_input": "2022-09-07T15:14:14.235523Z",
     "iopub.status.busy": "2022-09-07T15:14:14.235024Z",
     "iopub.status.idle": "2022-09-07T15:14:15.361533Z",
     "shell.execute_reply": "2022-09-07T15:14:15.360395Z",
     "shell.execute_reply.started": "2022-09-07T15:14:14.235427Z"
    }
   },
   "outputs": [],
   "source": [
    "# This Python 3 environment comes with many helpful analytics libraries installed\n",
    "# It is defined by the kaggle/python Docker image: https://github.com/kaggle/docker-python\n",
    "# For example, here's several helpful packages to load\n",
    "\n",
    "import numpy as np # linear algebra\n",
    "import pandas as pd # data processing, CSV file I/O (e.g. pd.read_csv)\n",
    "import seaborn as sns\n",
    "import matplotlib.pyplot as plt\n",
    "\n",
    "# Input data files are available in the read-only \"../input/\" directory\n",
    "# For example, running this (by clicking run or pressing Shift+Enter) will list all files under the input directory\n",
    "\n",
    "import os\n",
    "for dirname, _, filenames in os.walk('/kaggle/input'):\n",
    "    for filename in filenames:\n",
    "        print(os.path.join(dirname, filename))\n",
    "\n",
    "# You can write up to 20GB to the current directory (/kaggle/working/) that gets preserved as output when you create a version using \"Save & Run All\" \n",
    "# You can also write temporary files to /kaggle/temp/, but they won't be saved outside of the current session"
   ]
  },
  {
   "cell_type": "code",
   "execution_count": 2,
   "metadata": {
    "execution": {
     "iopub.execute_input": "2022-09-07T15:14:15.364051Z",
     "iopub.status.busy": "2022-09-07T15:14:15.363463Z",
     "iopub.status.idle": "2022-09-07T15:14:15.496476Z",
     "shell.execute_reply": "2022-09-07T15:14:15.495632Z",
     "shell.execute_reply.started": "2022-09-07T15:14:15.364013Z"
    }
   },
   "outputs": [],
   "source": [
    "# The link og the dataset : https://www.kaggle.com/datasets/krantiswalke/bankfullcsv\n",
    "df = pd.read_csv(\"../input/bankfullcsv/bank-full.csv\")\n",
    "df.head(3)"
   ]
  },
  {
   "cell_type": "code",
   "execution_count": 3,
   "metadata": {
    "execution": {
     "iopub.execute_input": "2022-09-07T15:14:15.498353Z",
     "iopub.status.busy": "2022-09-07T15:14:15.497991Z",
     "iopub.status.idle": "2022-09-07T15:14:15.549788Z",
     "shell.execute_reply": "2022-09-07T15:14:15.548684Z",
     "shell.execute_reply.started": "2022-09-07T15:14:15.498321Z"
    }
   },
   "outputs": [],
   "source": [
    "df.describe()"
   ]
  },
  {
   "cell_type": "code",
   "execution_count": 4,
   "metadata": {
    "execution": {
     "iopub.execute_input": "2022-09-07T15:14:15.552945Z",
     "iopub.status.busy": "2022-09-07T15:14:15.551653Z",
     "iopub.status.idle": "2022-09-07T15:14:15.586709Z",
     "shell.execute_reply": "2022-09-07T15:14:15.585299Z",
     "shell.execute_reply.started": "2022-09-07T15:14:15.552890Z"
    }
   },
   "outputs": [],
   "source": [
    "df.info()"
   ]
  },
  {
   "cell_type": "code",
   "execution_count": 5,
   "metadata": {
    "execution": {
     "iopub.execute_input": "2022-09-07T15:14:15.588787Z",
     "iopub.status.busy": "2022-09-07T15:14:15.588378Z",
     "iopub.status.idle": "2022-09-07T15:14:15.861601Z",
     "shell.execute_reply": "2022-09-07T15:14:15.860535Z",
     "shell.execute_reply.started": "2022-09-07T15:14:15.588747Z"
    }
   },
   "outputs": [],
   "source": [
    "from sklearn.preprocessing import LabelEncoder\n",
    "encoder = LabelEncoder()\n",
    "columns_to_drop = ['job', 'marital', 'education', 'month', 'contact', 'poutcome', 'housing', 'loan', 'Target', 'default']\n",
    "for colum_to_drop in columns_to_drop:\n",
    "    encoder.fit(np.array(df[colum_to_drop]))\n",
    "    df[colum_to_drop]=encoder.transform(df[colum_to_drop])"
   ]
  },
  {
   "cell_type": "code",
   "execution_count": 6,
   "metadata": {
    "execution": {
     "iopub.execute_input": "2022-09-07T15:14:15.862924Z",
     "iopub.status.busy": "2022-09-07T15:14:15.862661Z",
     "iopub.status.idle": "2022-09-07T15:14:15.882710Z",
     "shell.execute_reply": "2022-09-07T15:14:15.881324Z",
     "shell.execute_reply.started": "2022-09-07T15:14:15.862901Z"
    }
   },
   "outputs": [],
   "source": [
    "df.head()"
   ]
  },
  {
   "cell_type": "code",
   "execution_count": 7,
   "metadata": {
    "execution": {
     "iopub.execute_input": "2022-09-07T15:14:15.885856Z",
     "iopub.status.busy": "2022-09-07T15:14:15.885285Z",
     "iopub.status.idle": "2022-09-07T15:14:15.927194Z",
     "shell.execute_reply": "2022-09-07T15:14:15.926512Z",
     "shell.execute_reply.started": "2022-09-07T15:14:15.885823Z"
    }
   },
   "outputs": [],
   "source": [
    "colums_have_unknow=['job', 'marital', 'education', 'default', 'housing', 'loan']\n",
    "for colum_has_unknow in colums_have_unknow:\n",
    "    df.drop(df[df[colum_has_unknow] == 'unknow'].index, inplace = True)\n",
    "df.info()"
   ]
  },
  {
   "cell_type": "code",
   "execution_count": 8,
   "metadata": {
    "execution": {
     "iopub.execute_input": "2022-09-07T15:14:15.928976Z",
     "iopub.status.busy": "2022-09-07T15:14:15.928303Z",
     "iopub.status.idle": "2022-09-07T15:14:15.934657Z",
     "shell.execute_reply": "2022-09-07T15:14:15.933909Z",
     "shell.execute_reply.started": "2022-09-07T15:14:15.928950Z"
    }
   },
   "outputs": [],
   "source": [
    "y = df[\"Target\"].copy()\n",
    "x = df.drop(\"Target\", axis=1)"
   ]
  },
  {
   "cell_type": "code",
   "execution_count": 9,
   "metadata": {
    "execution": {
     "iopub.execute_input": "2022-09-07T15:14:15.936341Z",
     "iopub.status.busy": "2022-09-07T15:14:15.935689Z",
     "iopub.status.idle": "2022-09-07T15:14:16.399393Z",
     "shell.execute_reply": "2022-09-07T15:14:16.397568Z",
     "shell.execute_reply.started": "2022-09-07T15:14:15.936311Z"
    }
   },
   "outputs": [],
   "source": [
    "plt.figure(figsize=(17,17))\n",
    "sns.heatmap(data = df.corr(), annot=False)\n",
    "plt.show()"
   ]
  },
  {
   "cell_type": "code",
   "execution_count": 10,
   "metadata": {
    "execution": {
     "iopub.execute_input": "2022-09-07T15:14:16.403772Z",
     "iopub.status.busy": "2022-09-07T15:14:16.403378Z",
     "iopub.status.idle": "2022-09-07T15:14:16.479608Z",
     "shell.execute_reply": "2022-09-07T15:14:16.478184Z",
     "shell.execute_reply.started": "2022-09-07T15:14:16.403743Z"
    }
   },
   "outputs": [],
   "source": [
    "from sklearn.model_selection import train_test_split\n",
    "x_train, x_test, y_train, y_test = train_test_split(x, y, test_size = 0.33, random_state = 42)"
   ]
  },
  {
   "cell_type": "code",
   "execution_count": 11,
   "metadata": {
    "execution": {
     "iopub.execute_input": "2022-09-07T15:14:16.483885Z",
     "iopub.status.busy": "2022-09-07T15:14:16.483637Z",
     "iopub.status.idle": "2022-09-07T15:14:16.716631Z",
     "shell.execute_reply": "2022-09-07T15:14:16.715569Z",
     "shell.execute_reply.started": "2022-09-07T15:14:16.483861Z"
    }
   },
   "outputs": [],
   "source": [
    "from sklearn.svm import SVC\n",
    "from sklearn.tree import DecisionTreeClassifier\n",
    "from sklearn.ensemble import VotingClassifier\n",
    "from sklearn.linear_model import LogisticRegression"
   ]
  },
  {
   "cell_type": "code",
   "execution_count": 12,
   "metadata": {
    "execution": {
     "iopub.execute_input": "2022-09-07T15:14:16.718601Z",
     "iopub.status.busy": "2022-09-07T15:14:16.718179Z",
     "iopub.status.idle": "2022-09-07T15:14:40.334977Z",
     "shell.execute_reply": "2022-09-07T15:14:40.333926Z",
     "shell.execute_reply.started": "2022-09-07T15:14:16.718546Z"
    }
   },
   "outputs": [],
   "source": [
    "log_clf = LogisticRegression(solver='lbfgs', max_iter=30000)\n",
    "dt_clf = DecisionTreeClassifier()\n",
    "svm_clf = SVC()\n",
    "voting_clf = VotingClassifier(estimators=[('lr', log_clf), ('rf', dt_clf), ('svc', svm_clf)])\n",
    "voting_clf.fit(x_train, y_train)"
   ]
  },
  {
   "cell_type": "code",
   "execution_count": 13,
   "metadata": {
    "execution": {
     "iopub.execute_input": "2022-09-07T15:14:40.336815Z",
     "iopub.status.busy": "2022-09-07T15:14:40.336463Z",
     "iopub.status.idle": "2022-09-07T15:15:35.446387Z",
     "shell.execute_reply": "2022-09-07T15:15:35.444571Z",
     "shell.execute_reply.started": "2022-09-07T15:14:40.336784Z"
    }
   },
   "outputs": [],
   "source": [
    "result = {}\n",
    "from sklearn.metrics import accuracy_score\n",
    "for clf in (log_clf, dt_clf, svm_clf, voting_clf):\n",
    "    clf.fit(x_train, y_train)\n",
    "    y_pred = clf.predict(x_test)\n",
    "    result[clf.__class__.__name__]=accuracy_score(y_test, y_pred)"
   ]
  },
  {
   "cell_type": "code",
   "execution_count": 14,
   "metadata": {
    "execution": {
     "iopub.execute_input": "2022-09-07T15:15:35.449015Z",
     "iopub.status.busy": "2022-09-07T15:15:35.448542Z",
     "iopub.status.idle": "2022-09-07T15:15:35.457765Z",
     "shell.execute_reply": "2022-09-07T15:15:35.456132Z",
     "shell.execute_reply.started": "2022-09-07T15:15:35.448972Z"
    }
   },
   "outputs": [],
   "source": [
    "result"
   ]
  },
  {
   "cell_type": "code",
   "execution_count": 15,
   "metadata": {
    "execution": {
     "iopub.execute_input": "2022-09-07T15:15:35.460132Z",
     "iopub.status.busy": "2022-09-07T15:15:35.459580Z",
     "iopub.status.idle": "2022-09-07T15:17:26.532560Z",
     "shell.execute_reply": "2022-09-07T15:17:26.531359Z",
     "shell.execute_reply.started": "2022-09-07T15:15:35.460098Z"
    }
   },
   "outputs": [],
   "source": [
    "# soft voting\n",
    "log_clf = LogisticRegression(solver='lbfgs', max_iter=30000)\n",
    "dt_clf = DecisionTreeClassifier()\n",
    "svm_clf = SVC(probability=True)\n",
    "voting_clf = VotingClassifier(estimators=[('lr', log_clf), ('rf', dt_clf), ('svc', svm_clf)], voting='soft')\n",
    "voting_clf.fit(x_train, y_train)"
   ]
  },
  {
   "cell_type": "code",
   "execution_count": 16,
   "metadata": {
    "execution": {
     "iopub.execute_input": "2022-09-07T15:17:26.534640Z",
     "iopub.status.busy": "2022-09-07T15:17:26.533817Z",
     "iopub.status.idle": "2022-09-07T15:20:43.162811Z",
     "shell.execute_reply": "2022-09-07T15:20:43.162035Z",
     "shell.execute_reply.started": "2022-09-07T15:17:26.534584Z"
    }
   },
   "outputs": [],
   "source": [
    "result = {}\n",
    "from sklearn.metrics import accuracy_score\n",
    "for clf in (log_clf, dt_clf, svm_clf, voting_clf):\n",
    "    clf.fit(x_train, y_train)\n",
    "    y_pred = clf.predict(x_test)\n",
    "    result[clf.__class__.__name__]=accuracy_score(y_test, y_pred)"
   ]
  },
  {
   "cell_type": "code",
   "execution_count": 17,
   "metadata": {
    "execution": {
     "iopub.execute_input": "2022-09-07T15:20:43.164370Z",
     "iopub.status.busy": "2022-09-07T15:20:43.163931Z",
     "iopub.status.idle": "2022-09-07T15:20:43.170762Z",
     "shell.execute_reply": "2022-09-07T15:20:43.169458Z",
     "shell.execute_reply.started": "2022-09-07T15:20:43.164343Z"
    }
   },
   "outputs": [],
   "source": [
    "result"
   ]
  },
  {
   "cell_type": "code",
   "execution_count": 18,
   "metadata": {
    "execution": {
     "iopub.execute_input": "2022-09-07T15:20:43.173852Z",
     "iopub.status.busy": "2022-09-07T15:20:43.173443Z",
     "iopub.status.idle": "2022-09-07T15:20:50.557458Z",
     "shell.execute_reply": "2022-09-07T15:20:50.556261Z",
     "shell.execute_reply.started": "2022-09-07T15:20:43.173820Z"
    }
   },
   "outputs": [],
   "source": [
    "#pasting\n",
    "from sklearn.ensemble import BaggingClassifier\n",
    "from sklearn.tree import DecisionTreeClassifier\n",
    "bag_clf = BaggingClassifier(DecisionTreeClassifier(), n_estimators=2000, max_samples=400, bootstrap=False, n_jobs=-1)\n",
    "bag_clf.fit(x_train, y_train)\n",
    "y_pred = bag_clf.predict(x_test)\n",
    "accuracy_score(y_test, y_pred)"
   ]
  },
  {
   "cell_type": "code",
   "execution_count": 19,
   "metadata": {
    "execution": {
     "iopub.execute_input": "2022-09-07T15:20:50.559637Z",
     "iopub.status.busy": "2022-09-07T15:20:50.558983Z",
     "iopub.status.idle": "2022-09-07T15:20:56.855496Z",
     "shell.execute_reply": "2022-09-07T15:20:56.853597Z",
     "shell.execute_reply.started": "2022-09-07T15:20:50.559600Z"
    }
   },
   "outputs": [],
   "source": [
    "#bagging\n",
    "bag_clf = BaggingClassifier(DecisionTreeClassifier(), n_estimators=2000, max_samples=400, bootstrap=True, n_jobs=-1)\n",
    "bag_clf.fit(x_train, y_train)\n",
    "y_pred = bag_clf.predict(x_test)\n",
    "accuracy_score(y_test, y_pred)"
   ]
  },
  {
   "cell_type": "code",
   "execution_count": 20,
   "metadata": {
    "execution": {
     "iopub.execute_input": "2022-09-07T15:20:56.858027Z",
     "iopub.status.busy": "2022-09-07T15:20:56.857529Z",
     "iopub.status.idle": "2022-09-07T15:21:17.105225Z",
     "shell.execute_reply": "2022-09-07T15:21:17.104267Z",
     "shell.execute_reply.started": "2022-09-07T15:20:56.857983Z"
    }
   },
   "outputs": [],
   "source": [
    "#oob\n",
    "bag_clf = BaggingClassifier(DecisionTreeClassifier(), n_estimators=2000, max_samples=400, bootstrap=True, n_jobs=-1, oob_score=True)\n",
    "bag_clf.fit(x_train, y_train)\n",
    "y_pred = bag_clf.predict(x_test)\n",
    "bag_clf.oob_score_"
   ]
  },
  {
   "cell_type": "code",
   "execution_count": 21,
   "metadata": {
    "execution": {
     "iopub.execute_input": "2022-09-07T15:21:43.136453Z",
     "iopub.status.busy": "2022-09-07T15:21:43.136074Z",
     "iopub.status.idle": "2022-09-07T15:21:47.355659Z",
     "shell.execute_reply": "2022-09-07T15:21:47.353828Z",
     "shell.execute_reply.started": "2022-09-07T15:21:43.136422Z"
    }
   },
   "outputs": [],
   "source": [
    "#random forest\n",
    "from sklearn.ensemble import RandomForestClassifier\n",
    "rnd_clf = RandomForestClassifier(n_estimators=500, max_leaf_nodes=16, n_jobs=-1)\n",
    "rnd_clf.fit(x_train, y_train)\n",
    "y_pred_rf = rnd_clf.predict(x_test)\n",
    "accuracy_score(y_test, y_pred)"
   ]
  }
 ],
 "metadata": {
  "kernelspec": {
   "display_name": "Python 3 (ipykernel)",
   "language": "python",
   "name": "python3"
  },
  "language_info": {
   "codemirror_mode": {
    "name": "ipython",
    "version": 3
   },
   "file_extension": ".py",
   "mimetype": "text/x-python",
   "name": "python",
   "nbconvert_exporter": "python",
   "pygments_lexer": "ipython3",
   "version": "3.10.4"
  }
 },
 "nbformat": 4,
 "nbformat_minor": 4
}
