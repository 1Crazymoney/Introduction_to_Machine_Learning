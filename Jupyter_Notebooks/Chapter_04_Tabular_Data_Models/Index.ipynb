{
  "metadata": {
    "kernelspec": {
      "language": "python",
      "display_name": "Python 3",
      "name": "python3"
    },
    "language_info": {
      "name": "python",
      "version": "3.7.12",
      "mimetype": "text/x-python",
      "codemirror_mode": {
        "name": "ipython",
        "version": 3
      },
      "pygments_lexer": "ipython3",
      "nbconvert_exporter": "python",
      "file_extension": ".py"
    },
    "colab": {
      "provenance": [],
      "collapsed_sections": []
    }
  },
  "nbformat_minor": 0,
  "nbformat": 4,
  "cells": [
    {
      "cell_type": "markdown",
      "source": [
        "<div dir=\"rtl\" align=\"center\">\n",
        "<font face=\"XB Zar\" size=5>\n",
        "    <font face=\"IranNastaliq\" size=5>\n",
        "      به نام خدا\n",
        "    </font>\n",
        "    <br>\n",
        "    <font size=3>\n",
        "      دانشگاه صنعتی شریف - دانشکده مهندسی کامپیوتر\n",
        "    </font>\n",
        "    <br>\n",
        "    <font color=blue size=5>\n",
        "      مقدمه‌ای بر یادگیری ماشین\n",
        "    </font>\n",
        "    <br>\n",
        "    <hr/>\n",
        "    <font color=red size=6>\n",
        "      فصل چهارم: مدل‌های یادگیری ماشین برای داده‌های جدول\n",
        "    </font>\n",
        "    <br>\n",
        "      نویسندگان:‌ امیدرضا حیدری\n",
        "    <hr>\n",
        "<br>\n",
        "  <div align=\"right\">\n",
        "  <font color=\"red\" size=5>فهرست مطالب</font>\n",
        "\t<ul>\n",
        "    <li>\n",
        "\t\t  <a href=\"#dataset\">\n",
        "        آشنایی با دیتاست\n",
        "        <ul>\n",
        "          <li>\n",
        "            <a href=\"#columns\">\n",
        "              آشنایی با ستون های دیتاست\n",
        "            </a>\n",
        "          </li>\n",
        "          <li>\n",
        "            <a href=\"#preprocessing\">\n",
        "              آماده سازی دیتاست برای پردازش\n",
        "            </a>\n",
        "          </li>\n",
        "        </ul>\n",
        "    </a>\n",
        "\t\t</li>\n",
        "\t\t<li>\n",
        "      <a href=\"#intro\">\n",
        "        مقدمه ای بر روش های\n",
        "        <font face=\"Roboto\">Ensemble</font>\n",
        "      </a>\n",
        "    </li>\n",
        "    <li>\n",
        "      <a href=\"#voting\">\n",
        "        روش رأی‌ گیری\n",
        "        <font face=\"Roboto\">(Voting)</font>\n",
        "      </a>\n",
        "\t\t</li>\n",
        "    <li>\n",
        "      <a href=\"#bagging\">\n",
        "        روش\n",
        "        <font face=\"Roboto\">Bagging</font>\n",
        "      </a>\n",
        "    </li>\n",
        "    <li>\n",
        "      <a href=\"#pasting\">\n",
        "        روش\n",
        "        <font face=\"Roboto\">Pasting</font>\n",
        "      </a>\n",
        "    </li>\n",
        "    <li>\n",
        "      <a href=\"#out-of-bag\">\n",
        "        ارزیابی\n",
        "        <font face=\"Roboto\">Out-of-Bag</font>\n",
        "      </a>\n",
        "    </li>\n",
        "    <li>\n",
        "      <a href=\"#random-forests\">\n",
        "        روش\n",
        "        <font face=\"Roboto\">Random Forests</font>\n",
        "      </a>\n",
        "    </li>\n",
        "    <li>\n",
        "      <a href=\"#extera-trees\">\n",
        "        روش\n",
        "        <font face=\"Roboto\">Extera-Trees</font>\n",
        "      </a>\n",
        "\t\t</li>\n",
        "    <li>\n",
        "      <a href=\"#boosting\">\n",
        "        روش\n",
        "        <font face=\"Roboto\">Boosting</font>\n",
        "      </a>\n",
        "      <ul>\n",
        "        <li>\n",
        "          <a href=\"#adaboost\">\n",
        "            الگوریتم\n",
        "            <font face=\"Roboto\">AdaBoost</font>\n",
        "          </a>\n",
        "        </li>\n",
        "        <li>\n",
        "          <a href=\"#gradient-boosting\">\n",
        "            الگوریتم\n",
        "            <font face=\"Roboto\">Gradient Boosting</font>\n",
        "          </a>\n",
        "        </li>\n",
        "        <li>\n",
        "          <a href=\"#xg-boost\">\n",
        "            الگوریتم\n",
        "            <font face=\"Roboto\">XGBoost</font>\n",
        "          </a>\n",
        "        </li>\n",
        "        <li>\n",
        "          <a href=\"#early-stopping\">\n",
        "            استفاده از\n",
        "            <font face=\"Roboto\">Early stopping</font>\n",
        "          </a>\n",
        "        </li>\n",
        "        <li>\n",
        "          <a href=\"#cat-boost\">\n",
        "            الگوریتم\n",
        "            <font face=\"Roboto\">CatBoost</font>\n",
        "          </a>\n",
        "        </li>\n",
        "      </ul>\n",
        "    </li>\n",
        "    <li>\n",
        "      <a href=\"#stacking\">\n",
        "        روش                    \n",
        "        <font face=\"Roboto\">Stacking</font>\n",
        "      </a>\n",
        "    </li>\n",
        "    </div>\n",
        "</font>\n",
        "</div>"
      ],
      "metadata": {
        "id": "iNx2ze3Cfuh5"
      }
    },
    {
      "cell_type": "markdown",
      "source": [
        "\n",
        "  <div dir=rtl id=\"dataset\">\n",
        "  <font face=\"XB Zar\" size=4>\n",
        "      <font color=\"red\" size=5>\n",
        "        آشنایی با دیتاست\n",
        "      </font>\n",
        "      <hr />\n",
        "      دیتاستی که در این قسمت از آن استفاده خواهد شد، دیتاست مربوط به یک کمپین بازاریابی یک بانک در کشور پرتقال است که در سایت\n",
        "      <a href=\"https://www.kaggle.com/\">\n",
        "        <font face=\"Roboto\">\n",
        "          Kaggle\n",
        "        </font>\n",
        "      </a>\n",
        "      منتشر شده است.\n",
        "      همچنین از لینک زیر می توان به دیتاست مربوط دسترسی پیدا کرد:\n",
        "      <br />\n",
        "      <div dir=ltr>\n",
        "        <a href=\"https://www.kaggle.com/datasets/krantiswalke/bankfullcsv\">\n",
        "          <font face=\"Roboto\">\n",
        "            https://www.kaggle.com/datasets/krantiswalke/bankfullcsv\n",
        "          </font>\n",
        "        </a>\n",
        "      </div>\n",
        "      </font>\n",
        "    </div>"
      ],
      "metadata": {
        "id": "sIGyifOmnOYc"
      }
    },
    {
      "cell_type": "code",
      "source": [
        "import numpy as np\n",
        "import pandas as pd\n",
        "import seaborn as sns\n",
        "import matplotlib.pyplot as plt\n",
        "from google.colab import drive"
      ],
      "metadata": {
        "id": "d5cbzOzxego6"
      },
      "execution_count": 115,
      "outputs": []
    },
    {
      "cell_type": "code",
      "source": [
        "drive.mount(\"/content/gdrive\")\n",
        "df = pd.read_csv(\"/content/gdrive/My Drive/Colab Notebooks/bank-full.csv\")"
      ],
      "metadata": {
        "id": "D_tjVmTl0WUs",
        "colab": {
          "base_uri": "https://localhost:8080/"
        },
        "outputId": "29631652-87b4-4b53-b1aa-f10ca57e7f90"
      },
      "execution_count": 116,
      "outputs": [
        {
          "output_type": "stream",
          "name": "stdout",
          "text": [
            "Drive already mounted at /content/gdrive; to attempt to forcibly remount, call drive.mount(\"/content/gdrive\", force_remount=True).\n"
          ]
        }
      ]
    },
    {
      "cell_type": "markdown",
      "source": [
        "\n",
        "  <div dir=rtl id=\"columns\">\n",
        "  <font face=\"XB Zar\" size=4>\n",
        "      <font color=\"red\" size=5>\n",
        "        آشنایی با ستون های دیتاست\n",
        "      </font>\n",
        "      <hr />\n",
        "      دیتاست شامل 17 ستون می شود:\n",
        "      <ol>\n",
        "        <li>\n",
        "          <font face=\"Roboto\">Age: </font>\n",
        "          سن افراد\n",
        "        </li>\n",
        "        <li>\n",
        "          <font face=\"Roboto\">job: </font>\n",
        "          نوع شغل افراد که شامل یکی از مقدار زیر است:\n",
        "          <ul>\n",
        "            <font face=\"Roboto\">\n",
        "              <li>\n",
        "                admin.\n",
        "              </li>\n",
        "              <li>\n",
        "                bluecollar\n",
        "              </li>\n",
        "              <li>\n",
        "                entrepreneur\n",
        "              </li>\n",
        "              <li>\n",
        "                housemaid\n",
        "              </li>\n",
        "              <li>\n",
        "                management\n",
        "              </li>\n",
        "              <li>\n",
        "                retired\n",
        "              </li>\n",
        "              <li>\n",
        "                selfemployed\n",
        "              </li>\n",
        "              <li>\n",
        "                services\n",
        "              </li>\n",
        "              <li>\n",
        "                student\n",
        "              </li>\n",
        "              <li>\n",
        "                technician\n",
        "              </li>\n",
        "              <li>\n",
        "                unemployed\n",
        "              </li>\n",
        "              <li>\n",
        "                unknown\n",
        "              </li>\n",
        "            </font>\n",
        "          </ul>\n",
        "        </li>\n",
        "        <li>\n",
        "          <font face=\"Roboto\">marital: </font>\n",
        "          وضعیت تاهل افراد که شامل یکی از مقدار زیر است:\n",
        "          <ul>\n",
        "            <font face=\"Roboto\">\n",
        "              <li>\n",
        "                divorced\n",
        "              </li>\n",
        "              <li>\n",
        "                married\n",
        "              </li>\n",
        "              <li>\n",
        "                single\n",
        "              </li>\n",
        "              <li>\n",
        "                unknown\n",
        "              </li>\n",
        "            </font>\n",
        "          </ul>\n",
        "        </li>\n",
        "        <li>\n",
        "          <font face=\"Roboto\">education: </font>\n",
        "          وضعیت تحصیلی افراد که شامل یکی از مقادیر زیر است:\n",
        "          <ul>\n",
        "            <font face=\"Roboto\">\n",
        "              <li>\n",
        "                basic.4y\n",
        "              </li>\n",
        "              <li>\n",
        "                basic.6y\n",
        "              </li>\n",
        "              <li>\n",
        "                basic.9y\n",
        "              </li>\n",
        "              <li>\n",
        "                high.school\n",
        "              </li>\n",
        "              <li>\n",
        "                illiterate\n",
        "              </li>\n",
        "              <li>\n",
        "                professional.course\n",
        "              </li>\n",
        "              <li>\n",
        "                university.degree\n",
        "              </li>\n",
        "              <li>\n",
        "                unknown\n",
        "              </li>\n",
        "            </font>\n",
        "          </ul>\n",
        "        </li>\n",
        "        <li>\n",
        "          <font face=\"Roboto\">default: </font>\n",
        "          به صورت پیشفرض کردیت دارد؟\n",
        "        </li>\n",
        "        <li>\n",
        "          <font face=\"Roboto\">balance: </font>\n",
        "          میانگین موجودی سالانه(یورو)\n",
        "        </li>\n",
        "        <li>\n",
        "          <font face=\"Roboto\">housing: </font>\n",
        "          وام مسکن دارد؟\n",
        "        </li>\n",
        "        <li>\n",
        "          <font face=\"Roboto\">contact: </font>\n",
        "          روش ارتباط با مشتری که شامل یکی از موارد زیر است:\n",
        "          <ul>\n",
        "            <font face=\"Roboto\">\n",
        "              <li>\n",
        "                cellular\n",
        "              </li>\n",
        "              <li>\n",
        "                telephone\n",
        "              </li>\n",
        "            </font>\n",
        "          </ul>\n",
        "        </li>\n",
        "        <li>\n",
        "          <font face=\"Roboto\">day: </font>\n",
        "          روز آخرین ارتباط\n",
        "        </li>\n",
        "        <li>\n",
        "          <font face=\"Roboto\">month: </font>\n",
        "          ماه آخرین ارتباط که شامل یکی از موارد زیر است:\n",
        "          <ul>\n",
        "            <font face=\"Roboto\">\n",
        "              <li>\n",
        "                jan\n",
        "              </li>\n",
        "              <li>\n",
        "                feb\n",
        "              </li>\n",
        "              <li>\n",
        "                mar\n",
        "              </li>\n",
        "              <li>\n",
        "                apr\n",
        "              </li>\n",
        "              <li>\n",
        "                may\n",
        "              </li>\n",
        "              <li>\n",
        "                jun\n",
        "              </li>\n",
        "              <li>\n",
        "                jul\n",
        "              </li>\n",
        "              <li>\n",
        "                aug\n",
        "              </li>\n",
        "              <li>\n",
        "                sep\n",
        "              </li>\n",
        "              <li>\n",
        "                oct\n",
        "              </li>\n",
        "              <li>\n",
        "                nov\n",
        "              </li>\n",
        "              <li>\n",
        "                dec\n",
        "              </li>\n",
        "            </font>\n",
        "          </ul>\n",
        "        </li>\n",
        "        <li>\n",
        "          <font face=\"Roboto\">duration: </font>\n",
        "          مدت زمان آخرین ارتباط که واحد آن ثانیه است\n",
        "        </li>\n",
        "        <li>\n",
        "          <font face=\"Roboto\">campaign: </font>\n",
        "           تعداد ارتباط با مشتری برای این کمپین\n",
        "        </li>\n",
        "        <li>\n",
        "          <font face=\"Roboto\">pdays: </font>\n",
        "          تعداد روزهای گذشته شده از آخرین کمپینی که مشتری در آن شرکت کرده است(اگر این فیلد 999 باشد به این معنی است که مشتری قبلا با هیچ کمپینی ارتباط نداشته است)\n",
        "        </li>\n",
        "        <li>\n",
        "          <font face=\"Roboto\">previous: </font>\n",
        "          تعداد ارتباط با مشتری برای کمپین های قبلی\n",
        "        </li>\n",
        "        <li>\n",
        "          <font face=\"Roboto\">poutcome: </font>\n",
        "          نتیجه کمپین قبل که یکی از موارد زیر است:\n",
        "          <ul>\n",
        "            <font face=\"Roboto\">\n",
        "              <li>\n",
        "                failure\n",
        "              </li>\n",
        "              <li>\n",
        "                nonexistent\n",
        "              </li>\n",
        "              <li>\n",
        "                success\n",
        "              </li>\n",
        "            </font>\n",
        "          </ul>\n",
        "        </li>\n",
        "        <li>\n",
        "          <font face=\"Roboto\">target: </font>\n",
        "          آیا مشتری در کمپین فعلی عضو شد؟\n",
        "        </li>\n",
        "      </ol>\n",
        "  </font>\n",
        "  </div>"
      ],
      "metadata": {
        "id": "BmZv9X3O0cxg"
      }
    },
    {
      "cell_type": "code",
      "source": [
        "df.head(3)"
      ],
      "metadata": {
        "execution": {
          "iopub.status.busy": "2022-09-08T17:23:58.093871Z",
          "iopub.execute_input": "2022-09-08T17:23:58.094178Z",
          "iopub.status.idle": "2022-09-08T17:23:58.223769Z",
          "shell.execute_reply.started": "2022-09-08T17:23:58.094152Z",
          "shell.execute_reply": "2022-09-08T17:23:58.222728Z"
        },
        "trusted": true,
        "id": "FWaKYE6Zego-",
        "colab": {
          "base_uri": "https://localhost:8080/",
          "height": 143
        },
        "outputId": "dbcb4e76-96d2-4a7f-9ddf-3741eceb5c8c"
      },
      "execution_count": 117,
      "outputs": [
        {
          "output_type": "execute_result",
          "data": {
            "text/plain": [
              "   age           job  marital  education default  balance housing loan  \\\n",
              "0   58    management  married   tertiary      no     2143     yes   no   \n",
              "1   44    technician   single  secondary      no       29     yes   no   \n",
              "2   33  entrepreneur  married  secondary      no        2     yes  yes   \n",
              "\n",
              "   contact  day month  duration  campaign  pdays  previous poutcome Target  \n",
              "0  unknown    5   may       261         1     -1         0  unknown     no  \n",
              "1  unknown    5   may       151         1     -1         0  unknown     no  \n",
              "2  unknown    5   may        76         1     -1         0  unknown     no  "
            ],
            "text/html": [
              "\n",
              "  <div id=\"df-4f5cd14d-7e62-4f25-a2ea-55288039ccbb\">\n",
              "    <div class=\"colab-df-container\">\n",
              "      <div>\n",
              "<style scoped>\n",
              "    .dataframe tbody tr th:only-of-type {\n",
              "        vertical-align: middle;\n",
              "    }\n",
              "\n",
              "    .dataframe tbody tr th {\n",
              "        vertical-align: top;\n",
              "    }\n",
              "\n",
              "    .dataframe thead th {\n",
              "        text-align: right;\n",
              "    }\n",
              "</style>\n",
              "<table border=\"1\" class=\"dataframe\">\n",
              "  <thead>\n",
              "    <tr style=\"text-align: right;\">\n",
              "      <th></th>\n",
              "      <th>age</th>\n",
              "      <th>job</th>\n",
              "      <th>marital</th>\n",
              "      <th>education</th>\n",
              "      <th>default</th>\n",
              "      <th>balance</th>\n",
              "      <th>housing</th>\n",
              "      <th>loan</th>\n",
              "      <th>contact</th>\n",
              "      <th>day</th>\n",
              "      <th>month</th>\n",
              "      <th>duration</th>\n",
              "      <th>campaign</th>\n",
              "      <th>pdays</th>\n",
              "      <th>previous</th>\n",
              "      <th>poutcome</th>\n",
              "      <th>Target</th>\n",
              "    </tr>\n",
              "  </thead>\n",
              "  <tbody>\n",
              "    <tr>\n",
              "      <th>0</th>\n",
              "      <td>58</td>\n",
              "      <td>management</td>\n",
              "      <td>married</td>\n",
              "      <td>tertiary</td>\n",
              "      <td>no</td>\n",
              "      <td>2143</td>\n",
              "      <td>yes</td>\n",
              "      <td>no</td>\n",
              "      <td>unknown</td>\n",
              "      <td>5</td>\n",
              "      <td>may</td>\n",
              "      <td>261</td>\n",
              "      <td>1</td>\n",
              "      <td>-1</td>\n",
              "      <td>0</td>\n",
              "      <td>unknown</td>\n",
              "      <td>no</td>\n",
              "    </tr>\n",
              "    <tr>\n",
              "      <th>1</th>\n",
              "      <td>44</td>\n",
              "      <td>technician</td>\n",
              "      <td>single</td>\n",
              "      <td>secondary</td>\n",
              "      <td>no</td>\n",
              "      <td>29</td>\n",
              "      <td>yes</td>\n",
              "      <td>no</td>\n",
              "      <td>unknown</td>\n",
              "      <td>5</td>\n",
              "      <td>may</td>\n",
              "      <td>151</td>\n",
              "      <td>1</td>\n",
              "      <td>-1</td>\n",
              "      <td>0</td>\n",
              "      <td>unknown</td>\n",
              "      <td>no</td>\n",
              "    </tr>\n",
              "    <tr>\n",
              "      <th>2</th>\n",
              "      <td>33</td>\n",
              "      <td>entrepreneur</td>\n",
              "      <td>married</td>\n",
              "      <td>secondary</td>\n",
              "      <td>no</td>\n",
              "      <td>2</td>\n",
              "      <td>yes</td>\n",
              "      <td>yes</td>\n",
              "      <td>unknown</td>\n",
              "      <td>5</td>\n",
              "      <td>may</td>\n",
              "      <td>76</td>\n",
              "      <td>1</td>\n",
              "      <td>-1</td>\n",
              "      <td>0</td>\n",
              "      <td>unknown</td>\n",
              "      <td>no</td>\n",
              "    </tr>\n",
              "  </tbody>\n",
              "</table>\n",
              "</div>\n",
              "      <button class=\"colab-df-convert\" onclick=\"convertToInteractive('df-4f5cd14d-7e62-4f25-a2ea-55288039ccbb')\"\n",
              "              title=\"Convert this dataframe to an interactive table.\"\n",
              "              style=\"display:none;\">\n",
              "        \n",
              "  <svg xmlns=\"http://www.w3.org/2000/svg\" height=\"24px\"viewBox=\"0 0 24 24\"\n",
              "       width=\"24px\">\n",
              "    <path d=\"M0 0h24v24H0V0z\" fill=\"none\"/>\n",
              "    <path d=\"M18.56 5.44l.94 2.06.94-2.06 2.06-.94-2.06-.94-.94-2.06-.94 2.06-2.06.94zm-11 1L8.5 8.5l.94-2.06 2.06-.94-2.06-.94L8.5 2.5l-.94 2.06-2.06.94zm10 10l.94 2.06.94-2.06 2.06-.94-2.06-.94-.94-2.06-.94 2.06-2.06.94z\"/><path d=\"M17.41 7.96l-1.37-1.37c-.4-.4-.92-.59-1.43-.59-.52 0-1.04.2-1.43.59L10.3 9.45l-7.72 7.72c-.78.78-.78 2.05 0 2.83L4 21.41c.39.39.9.59 1.41.59.51 0 1.02-.2 1.41-.59l7.78-7.78 2.81-2.81c.8-.78.8-2.07 0-2.86zM5.41 20L4 18.59l7.72-7.72 1.47 1.35L5.41 20z\"/>\n",
              "  </svg>\n",
              "      </button>\n",
              "      \n",
              "  <style>\n",
              "    .colab-df-container {\n",
              "      display:flex;\n",
              "      flex-wrap:wrap;\n",
              "      gap: 12px;\n",
              "    }\n",
              "\n",
              "    .colab-df-convert {\n",
              "      background-color: #E8F0FE;\n",
              "      border: none;\n",
              "      border-radius: 50%;\n",
              "      cursor: pointer;\n",
              "      display: none;\n",
              "      fill: #1967D2;\n",
              "      height: 32px;\n",
              "      padding: 0 0 0 0;\n",
              "      width: 32px;\n",
              "    }\n",
              "\n",
              "    .colab-df-convert:hover {\n",
              "      background-color: #E2EBFA;\n",
              "      box-shadow: 0px 1px 2px rgba(60, 64, 67, 0.3), 0px 1px 3px 1px rgba(60, 64, 67, 0.15);\n",
              "      fill: #174EA6;\n",
              "    }\n",
              "\n",
              "    [theme=dark] .colab-df-convert {\n",
              "      background-color: #3B4455;\n",
              "      fill: #D2E3FC;\n",
              "    }\n",
              "\n",
              "    [theme=dark] .colab-df-convert:hover {\n",
              "      background-color: #434B5C;\n",
              "      box-shadow: 0px 1px 3px 1px rgba(0, 0, 0, 0.15);\n",
              "      filter: drop-shadow(0px 1px 2px rgba(0, 0, 0, 0.3));\n",
              "      fill: #FFFFFF;\n",
              "    }\n",
              "  </style>\n",
              "\n",
              "      <script>\n",
              "        const buttonEl =\n",
              "          document.querySelector('#df-4f5cd14d-7e62-4f25-a2ea-55288039ccbb button.colab-df-convert');\n",
              "        buttonEl.style.display =\n",
              "          google.colab.kernel.accessAllowed ? 'block' : 'none';\n",
              "\n",
              "        async function convertToInteractive(key) {\n",
              "          const element = document.querySelector('#df-4f5cd14d-7e62-4f25-a2ea-55288039ccbb');\n",
              "          const dataTable =\n",
              "            await google.colab.kernel.invokeFunction('convertToInteractive',\n",
              "                                                     [key], {});\n",
              "          if (!dataTable) return;\n",
              "\n",
              "          const docLinkHtml = 'Like what you see? Visit the ' +\n",
              "            '<a target=\"_blank\" href=https://colab.research.google.com/notebooks/data_table.ipynb>data table notebook</a>'\n",
              "            + ' to learn more about interactive tables.';\n",
              "          element.innerHTML = '';\n",
              "          dataTable['output_type'] = 'display_data';\n",
              "          await google.colab.output.renderOutput(dataTable, element);\n",
              "          const docLink = document.createElement('div');\n",
              "          docLink.innerHTML = docLinkHtml;\n",
              "          element.appendChild(docLink);\n",
              "        }\n",
              "      </script>\n",
              "    </div>\n",
              "  </div>\n",
              "  "
            ]
          },
          "metadata": {},
          "execution_count": 117
        }
      ]
    },
    {
      "cell_type": "code",
      "source": [
        "df.describe()"
      ],
      "metadata": {
        "execution": {
          "iopub.status.busy": "2022-09-08T17:23:58.224941Z",
          "iopub.execute_input": "2022-09-08T17:23:58.225234Z",
          "iopub.status.idle": "2022-09-08T17:23:58.274266Z",
          "shell.execute_reply.started": "2022-09-08T17:23:58.225206Z",
          "shell.execute_reply": "2022-09-08T17:23:58.272846Z"
        },
        "trusted": true,
        "id": "Vxei2ek5egpB",
        "colab": {
          "base_uri": "https://localhost:8080/",
          "height": 300
        },
        "outputId": "8b028376-a41c-4666-98db-0c99d07c620f"
      },
      "execution_count": 118,
      "outputs": [
        {
          "output_type": "execute_result",
          "data": {
            "text/plain": [
              "                age        balance           day      duration      campaign  \\\n",
              "count  45211.000000   45211.000000  45211.000000  45211.000000  45211.000000   \n",
              "mean      40.936210    1362.272058     15.806419    258.163080      2.763841   \n",
              "std       10.618762    3044.765829      8.322476    257.527812      3.098021   \n",
              "min       18.000000   -8019.000000      1.000000      0.000000      1.000000   \n",
              "25%       33.000000      72.000000      8.000000    103.000000      1.000000   \n",
              "50%       39.000000     448.000000     16.000000    180.000000      2.000000   \n",
              "75%       48.000000    1428.000000     21.000000    319.000000      3.000000   \n",
              "max       95.000000  102127.000000     31.000000   4918.000000     63.000000   \n",
              "\n",
              "              pdays      previous  \n",
              "count  45211.000000  45211.000000  \n",
              "mean      40.197828      0.580323  \n",
              "std      100.128746      2.303441  \n",
              "min       -1.000000      0.000000  \n",
              "25%       -1.000000      0.000000  \n",
              "50%       -1.000000      0.000000  \n",
              "75%       -1.000000      0.000000  \n",
              "max      871.000000    275.000000  "
            ],
            "text/html": [
              "\n",
              "  <div id=\"df-3fca0ed3-5cb7-477d-9b9e-de06950a6863\">\n",
              "    <div class=\"colab-df-container\">\n",
              "      <div>\n",
              "<style scoped>\n",
              "    .dataframe tbody tr th:only-of-type {\n",
              "        vertical-align: middle;\n",
              "    }\n",
              "\n",
              "    .dataframe tbody tr th {\n",
              "        vertical-align: top;\n",
              "    }\n",
              "\n",
              "    .dataframe thead th {\n",
              "        text-align: right;\n",
              "    }\n",
              "</style>\n",
              "<table border=\"1\" class=\"dataframe\">\n",
              "  <thead>\n",
              "    <tr style=\"text-align: right;\">\n",
              "      <th></th>\n",
              "      <th>age</th>\n",
              "      <th>balance</th>\n",
              "      <th>day</th>\n",
              "      <th>duration</th>\n",
              "      <th>campaign</th>\n",
              "      <th>pdays</th>\n",
              "      <th>previous</th>\n",
              "    </tr>\n",
              "  </thead>\n",
              "  <tbody>\n",
              "    <tr>\n",
              "      <th>count</th>\n",
              "      <td>45211.000000</td>\n",
              "      <td>45211.000000</td>\n",
              "      <td>45211.000000</td>\n",
              "      <td>45211.000000</td>\n",
              "      <td>45211.000000</td>\n",
              "      <td>45211.000000</td>\n",
              "      <td>45211.000000</td>\n",
              "    </tr>\n",
              "    <tr>\n",
              "      <th>mean</th>\n",
              "      <td>40.936210</td>\n",
              "      <td>1362.272058</td>\n",
              "      <td>15.806419</td>\n",
              "      <td>258.163080</td>\n",
              "      <td>2.763841</td>\n",
              "      <td>40.197828</td>\n",
              "      <td>0.580323</td>\n",
              "    </tr>\n",
              "    <tr>\n",
              "      <th>std</th>\n",
              "      <td>10.618762</td>\n",
              "      <td>3044.765829</td>\n",
              "      <td>8.322476</td>\n",
              "      <td>257.527812</td>\n",
              "      <td>3.098021</td>\n",
              "      <td>100.128746</td>\n",
              "      <td>2.303441</td>\n",
              "    </tr>\n",
              "    <tr>\n",
              "      <th>min</th>\n",
              "      <td>18.000000</td>\n",
              "      <td>-8019.000000</td>\n",
              "      <td>1.000000</td>\n",
              "      <td>0.000000</td>\n",
              "      <td>1.000000</td>\n",
              "      <td>-1.000000</td>\n",
              "      <td>0.000000</td>\n",
              "    </tr>\n",
              "    <tr>\n",
              "      <th>25%</th>\n",
              "      <td>33.000000</td>\n",
              "      <td>72.000000</td>\n",
              "      <td>8.000000</td>\n",
              "      <td>103.000000</td>\n",
              "      <td>1.000000</td>\n",
              "      <td>-1.000000</td>\n",
              "      <td>0.000000</td>\n",
              "    </tr>\n",
              "    <tr>\n",
              "      <th>50%</th>\n",
              "      <td>39.000000</td>\n",
              "      <td>448.000000</td>\n",
              "      <td>16.000000</td>\n",
              "      <td>180.000000</td>\n",
              "      <td>2.000000</td>\n",
              "      <td>-1.000000</td>\n",
              "      <td>0.000000</td>\n",
              "    </tr>\n",
              "    <tr>\n",
              "      <th>75%</th>\n",
              "      <td>48.000000</td>\n",
              "      <td>1428.000000</td>\n",
              "      <td>21.000000</td>\n",
              "      <td>319.000000</td>\n",
              "      <td>3.000000</td>\n",
              "      <td>-1.000000</td>\n",
              "      <td>0.000000</td>\n",
              "    </tr>\n",
              "    <tr>\n",
              "      <th>max</th>\n",
              "      <td>95.000000</td>\n",
              "      <td>102127.000000</td>\n",
              "      <td>31.000000</td>\n",
              "      <td>4918.000000</td>\n",
              "      <td>63.000000</td>\n",
              "      <td>871.000000</td>\n",
              "      <td>275.000000</td>\n",
              "    </tr>\n",
              "  </tbody>\n",
              "</table>\n",
              "</div>\n",
              "      <button class=\"colab-df-convert\" onclick=\"convertToInteractive('df-3fca0ed3-5cb7-477d-9b9e-de06950a6863')\"\n",
              "              title=\"Convert this dataframe to an interactive table.\"\n",
              "              style=\"display:none;\">\n",
              "        \n",
              "  <svg xmlns=\"http://www.w3.org/2000/svg\" height=\"24px\"viewBox=\"0 0 24 24\"\n",
              "       width=\"24px\">\n",
              "    <path d=\"M0 0h24v24H0V0z\" fill=\"none\"/>\n",
              "    <path d=\"M18.56 5.44l.94 2.06.94-2.06 2.06-.94-2.06-.94-.94-2.06-.94 2.06-2.06.94zm-11 1L8.5 8.5l.94-2.06 2.06-.94-2.06-.94L8.5 2.5l-.94 2.06-2.06.94zm10 10l.94 2.06.94-2.06 2.06-.94-2.06-.94-.94-2.06-.94 2.06-2.06.94z\"/><path d=\"M17.41 7.96l-1.37-1.37c-.4-.4-.92-.59-1.43-.59-.52 0-1.04.2-1.43.59L10.3 9.45l-7.72 7.72c-.78.78-.78 2.05 0 2.83L4 21.41c.39.39.9.59 1.41.59.51 0 1.02-.2 1.41-.59l7.78-7.78 2.81-2.81c.8-.78.8-2.07 0-2.86zM5.41 20L4 18.59l7.72-7.72 1.47 1.35L5.41 20z\"/>\n",
              "  </svg>\n",
              "      </button>\n",
              "      \n",
              "  <style>\n",
              "    .colab-df-container {\n",
              "      display:flex;\n",
              "      flex-wrap:wrap;\n",
              "      gap: 12px;\n",
              "    }\n",
              "\n",
              "    .colab-df-convert {\n",
              "      background-color: #E8F0FE;\n",
              "      border: none;\n",
              "      border-radius: 50%;\n",
              "      cursor: pointer;\n",
              "      display: none;\n",
              "      fill: #1967D2;\n",
              "      height: 32px;\n",
              "      padding: 0 0 0 0;\n",
              "      width: 32px;\n",
              "    }\n",
              "\n",
              "    .colab-df-convert:hover {\n",
              "      background-color: #E2EBFA;\n",
              "      box-shadow: 0px 1px 2px rgba(60, 64, 67, 0.3), 0px 1px 3px 1px rgba(60, 64, 67, 0.15);\n",
              "      fill: #174EA6;\n",
              "    }\n",
              "\n",
              "    [theme=dark] .colab-df-convert {\n",
              "      background-color: #3B4455;\n",
              "      fill: #D2E3FC;\n",
              "    }\n",
              "\n",
              "    [theme=dark] .colab-df-convert:hover {\n",
              "      background-color: #434B5C;\n",
              "      box-shadow: 0px 1px 3px 1px rgba(0, 0, 0, 0.15);\n",
              "      filter: drop-shadow(0px 1px 2px rgba(0, 0, 0, 0.3));\n",
              "      fill: #FFFFFF;\n",
              "    }\n",
              "  </style>\n",
              "\n",
              "      <script>\n",
              "        const buttonEl =\n",
              "          document.querySelector('#df-3fca0ed3-5cb7-477d-9b9e-de06950a6863 button.colab-df-convert');\n",
              "        buttonEl.style.display =\n",
              "          google.colab.kernel.accessAllowed ? 'block' : 'none';\n",
              "\n",
              "        async function convertToInteractive(key) {\n",
              "          const element = document.querySelector('#df-3fca0ed3-5cb7-477d-9b9e-de06950a6863');\n",
              "          const dataTable =\n",
              "            await google.colab.kernel.invokeFunction('convertToInteractive',\n",
              "                                                     [key], {});\n",
              "          if (!dataTable) return;\n",
              "\n",
              "          const docLinkHtml = 'Like what you see? Visit the ' +\n",
              "            '<a target=\"_blank\" href=https://colab.research.google.com/notebooks/data_table.ipynb>data table notebook</a>'\n",
              "            + ' to learn more about interactive tables.';\n",
              "          element.innerHTML = '';\n",
              "          dataTable['output_type'] = 'display_data';\n",
              "          await google.colab.output.renderOutput(dataTable, element);\n",
              "          const docLink = document.createElement('div');\n",
              "          docLink.innerHTML = docLinkHtml;\n",
              "          element.appendChild(docLink);\n",
              "        }\n",
              "      </script>\n",
              "    </div>\n",
              "  </div>\n",
              "  "
            ]
          },
          "metadata": {},
          "execution_count": 118
        }
      ]
    },
    {
      "cell_type": "code",
      "source": [
        "df.info()"
      ],
      "metadata": {
        "execution": {
          "iopub.status.busy": "2022-09-08T17:23:58.275573Z",
          "iopub.execute_input": "2022-09-08T17:23:58.275887Z",
          "iopub.status.idle": "2022-09-08T17:23:58.309198Z",
          "shell.execute_reply.started": "2022-09-08T17:23:58.275853Z",
          "shell.execute_reply": "2022-09-08T17:23:58.308143Z"
        },
        "trusted": true,
        "id": "-rUt-7j7egpD",
        "colab": {
          "base_uri": "https://localhost:8080/"
        },
        "outputId": "f7940f8b-3b2d-4176-a349-9fd46d223e92"
      },
      "execution_count": 119,
      "outputs": [
        {
          "output_type": "stream",
          "name": "stdout",
          "text": [
            "<class 'pandas.core.frame.DataFrame'>\n",
            "RangeIndex: 45211 entries, 0 to 45210\n",
            "Data columns (total 17 columns):\n",
            " #   Column     Non-Null Count  Dtype \n",
            "---  ------     --------------  ----- \n",
            " 0   age        45211 non-null  int64 \n",
            " 1   job        45211 non-null  object\n",
            " 2   marital    45211 non-null  object\n",
            " 3   education  45211 non-null  object\n",
            " 4   default    45211 non-null  object\n",
            " 5   balance    45211 non-null  int64 \n",
            " 6   housing    45211 non-null  object\n",
            " 7   loan       45211 non-null  object\n",
            " 8   contact    45211 non-null  object\n",
            " 9   day        45211 non-null  int64 \n",
            " 10  month      45211 non-null  object\n",
            " 11  duration   45211 non-null  int64 \n",
            " 12  campaign   45211 non-null  int64 \n",
            " 13  pdays      45211 non-null  int64 \n",
            " 14  previous   45211 non-null  int64 \n",
            " 15  poutcome   45211 non-null  object\n",
            " 16  Target     45211 non-null  object\n",
            "dtypes: int64(7), object(10)\n",
            "memory usage: 5.9+ MB\n"
          ]
        }
      ]
    },
    {
      "cell_type": "markdown",
      "source": [
        "\n",
        "  <div dir=rtl id=\"preprocessing\">\n",
        "    <font face=\"XB Zar\" size=4>\n",
        "      <font color=\"red\" size=5>آماده سازی دیتاست برای پردازش</font>\n",
        "      <hr />\n",
        "      قدم اول برای آماده سازی دیتاست تبدیل مقادیر غیرعددی به مقادیر عددی است که بتوان در مدل ها استفاده کرد. در این مرحله از\n",
        "      <font face=\"Roboto\">Label Encoder</font>\n",
        "      استفاده می شود:\n",
        "    </font>\n",
        "  </div>"
      ],
      "metadata": {
        "id": "7u-9szEQ1UST"
      }
    },
    {
      "cell_type": "code",
      "source": [
        "from sklearn.preprocessing import LabelEncoder\n",
        "encoder = LabelEncoder()\n",
        "columns_to_encode = ['job', 'marital', 'education', 'month', 'contact', 'poutcome', 'housing', 'loan', 'Target', 'default']\n",
        "for column_to_encode in columns_to_encode:\n",
        "    encoder.fit(np.array(df[column_to_encode]))\n",
        "    df[column_to_encode]=encoder.transform(df[column_to_encode])"
      ],
      "metadata": {
        "execution": {
          "iopub.status.busy": "2022-09-08T17:23:58.312227Z",
          "iopub.execute_input": "2022-09-08T17:23:58.312569Z",
          "iopub.status.idle": "2022-09-08T17:23:58.487060Z",
          "shell.execute_reply.started": "2022-09-08T17:23:58.312543Z",
          "shell.execute_reply": "2022-09-08T17:23:58.485926Z"
        },
        "trusted": true,
        "id": "Rh6R6bEzegpF"
      },
      "execution_count": 120,
      "outputs": []
    },
    {
      "cell_type": "code",
      "source": [
        "df.head()"
      ],
      "metadata": {
        "execution": {
          "iopub.status.busy": "2022-09-08T17:23:58.488597Z",
          "iopub.execute_input": "2022-09-08T17:23:58.488963Z",
          "iopub.status.idle": "2022-09-08T17:23:58.506272Z",
          "shell.execute_reply.started": "2022-09-08T17:23:58.488929Z",
          "shell.execute_reply": "2022-09-08T17:23:58.505083Z"
        },
        "trusted": true,
        "id": "ATlshxW3egpI",
        "colab": {
          "base_uri": "https://localhost:8080/",
          "height": 206
        },
        "outputId": "ebe5af09-f83a-4263-e976-da36bc32b582"
      },
      "execution_count": 121,
      "outputs": [
        {
          "output_type": "execute_result",
          "data": {
            "text/plain": [
              "   age  job  marital  education  default  balance  housing  loan  contact  \\\n",
              "0   58    4        1          2        0     2143        1     0        2   \n",
              "1   44    9        2          1        0       29        1     0        2   \n",
              "2   33    2        1          1        0        2        1     1        2   \n",
              "3   47    1        1          3        0     1506        1     0        2   \n",
              "4   33   11        2          3        0        1        0     0        2   \n",
              "\n",
              "   day  month  duration  campaign  pdays  previous  poutcome  Target  \n",
              "0    5      8       261         1     -1         0         3       0  \n",
              "1    5      8       151         1     -1         0         3       0  \n",
              "2    5      8        76         1     -1         0         3       0  \n",
              "3    5      8        92         1     -1         0         3       0  \n",
              "4    5      8       198         1     -1         0         3       0  "
            ],
            "text/html": [
              "\n",
              "  <div id=\"df-b64e98f7-cb25-4e99-bc33-1c9c9ceb2df8\">\n",
              "    <div class=\"colab-df-container\">\n",
              "      <div>\n",
              "<style scoped>\n",
              "    .dataframe tbody tr th:only-of-type {\n",
              "        vertical-align: middle;\n",
              "    }\n",
              "\n",
              "    .dataframe tbody tr th {\n",
              "        vertical-align: top;\n",
              "    }\n",
              "\n",
              "    .dataframe thead th {\n",
              "        text-align: right;\n",
              "    }\n",
              "</style>\n",
              "<table border=\"1\" class=\"dataframe\">\n",
              "  <thead>\n",
              "    <tr style=\"text-align: right;\">\n",
              "      <th></th>\n",
              "      <th>age</th>\n",
              "      <th>job</th>\n",
              "      <th>marital</th>\n",
              "      <th>education</th>\n",
              "      <th>default</th>\n",
              "      <th>balance</th>\n",
              "      <th>housing</th>\n",
              "      <th>loan</th>\n",
              "      <th>contact</th>\n",
              "      <th>day</th>\n",
              "      <th>month</th>\n",
              "      <th>duration</th>\n",
              "      <th>campaign</th>\n",
              "      <th>pdays</th>\n",
              "      <th>previous</th>\n",
              "      <th>poutcome</th>\n",
              "      <th>Target</th>\n",
              "    </tr>\n",
              "  </thead>\n",
              "  <tbody>\n",
              "    <tr>\n",
              "      <th>0</th>\n",
              "      <td>58</td>\n",
              "      <td>4</td>\n",
              "      <td>1</td>\n",
              "      <td>2</td>\n",
              "      <td>0</td>\n",
              "      <td>2143</td>\n",
              "      <td>1</td>\n",
              "      <td>0</td>\n",
              "      <td>2</td>\n",
              "      <td>5</td>\n",
              "      <td>8</td>\n",
              "      <td>261</td>\n",
              "      <td>1</td>\n",
              "      <td>-1</td>\n",
              "      <td>0</td>\n",
              "      <td>3</td>\n",
              "      <td>0</td>\n",
              "    </tr>\n",
              "    <tr>\n",
              "      <th>1</th>\n",
              "      <td>44</td>\n",
              "      <td>9</td>\n",
              "      <td>2</td>\n",
              "      <td>1</td>\n",
              "      <td>0</td>\n",
              "      <td>29</td>\n",
              "      <td>1</td>\n",
              "      <td>0</td>\n",
              "      <td>2</td>\n",
              "      <td>5</td>\n",
              "      <td>8</td>\n",
              "      <td>151</td>\n",
              "      <td>1</td>\n",
              "      <td>-1</td>\n",
              "      <td>0</td>\n",
              "      <td>3</td>\n",
              "      <td>0</td>\n",
              "    </tr>\n",
              "    <tr>\n",
              "      <th>2</th>\n",
              "      <td>33</td>\n",
              "      <td>2</td>\n",
              "      <td>1</td>\n",
              "      <td>1</td>\n",
              "      <td>0</td>\n",
              "      <td>2</td>\n",
              "      <td>1</td>\n",
              "      <td>1</td>\n",
              "      <td>2</td>\n",
              "      <td>5</td>\n",
              "      <td>8</td>\n",
              "      <td>76</td>\n",
              "      <td>1</td>\n",
              "      <td>-1</td>\n",
              "      <td>0</td>\n",
              "      <td>3</td>\n",
              "      <td>0</td>\n",
              "    </tr>\n",
              "    <tr>\n",
              "      <th>3</th>\n",
              "      <td>47</td>\n",
              "      <td>1</td>\n",
              "      <td>1</td>\n",
              "      <td>3</td>\n",
              "      <td>0</td>\n",
              "      <td>1506</td>\n",
              "      <td>1</td>\n",
              "      <td>0</td>\n",
              "      <td>2</td>\n",
              "      <td>5</td>\n",
              "      <td>8</td>\n",
              "      <td>92</td>\n",
              "      <td>1</td>\n",
              "      <td>-1</td>\n",
              "      <td>0</td>\n",
              "      <td>3</td>\n",
              "      <td>0</td>\n",
              "    </tr>\n",
              "    <tr>\n",
              "      <th>4</th>\n",
              "      <td>33</td>\n",
              "      <td>11</td>\n",
              "      <td>2</td>\n",
              "      <td>3</td>\n",
              "      <td>0</td>\n",
              "      <td>1</td>\n",
              "      <td>0</td>\n",
              "      <td>0</td>\n",
              "      <td>2</td>\n",
              "      <td>5</td>\n",
              "      <td>8</td>\n",
              "      <td>198</td>\n",
              "      <td>1</td>\n",
              "      <td>-1</td>\n",
              "      <td>0</td>\n",
              "      <td>3</td>\n",
              "      <td>0</td>\n",
              "    </tr>\n",
              "  </tbody>\n",
              "</table>\n",
              "</div>\n",
              "      <button class=\"colab-df-convert\" onclick=\"convertToInteractive('df-b64e98f7-cb25-4e99-bc33-1c9c9ceb2df8')\"\n",
              "              title=\"Convert this dataframe to an interactive table.\"\n",
              "              style=\"display:none;\">\n",
              "        \n",
              "  <svg xmlns=\"http://www.w3.org/2000/svg\" height=\"24px\"viewBox=\"0 0 24 24\"\n",
              "       width=\"24px\">\n",
              "    <path d=\"M0 0h24v24H0V0z\" fill=\"none\"/>\n",
              "    <path d=\"M18.56 5.44l.94 2.06.94-2.06 2.06-.94-2.06-.94-.94-2.06-.94 2.06-2.06.94zm-11 1L8.5 8.5l.94-2.06 2.06-.94-2.06-.94L8.5 2.5l-.94 2.06-2.06.94zm10 10l.94 2.06.94-2.06 2.06-.94-2.06-.94-.94-2.06-.94 2.06-2.06.94z\"/><path d=\"M17.41 7.96l-1.37-1.37c-.4-.4-.92-.59-1.43-.59-.52 0-1.04.2-1.43.59L10.3 9.45l-7.72 7.72c-.78.78-.78 2.05 0 2.83L4 21.41c.39.39.9.59 1.41.59.51 0 1.02-.2 1.41-.59l7.78-7.78 2.81-2.81c.8-.78.8-2.07 0-2.86zM5.41 20L4 18.59l7.72-7.72 1.47 1.35L5.41 20z\"/>\n",
              "  </svg>\n",
              "      </button>\n",
              "      \n",
              "  <style>\n",
              "    .colab-df-container {\n",
              "      display:flex;\n",
              "      flex-wrap:wrap;\n",
              "      gap: 12px;\n",
              "    }\n",
              "\n",
              "    .colab-df-convert {\n",
              "      background-color: #E8F0FE;\n",
              "      border: none;\n",
              "      border-radius: 50%;\n",
              "      cursor: pointer;\n",
              "      display: none;\n",
              "      fill: #1967D2;\n",
              "      height: 32px;\n",
              "      padding: 0 0 0 0;\n",
              "      width: 32px;\n",
              "    }\n",
              "\n",
              "    .colab-df-convert:hover {\n",
              "      background-color: #E2EBFA;\n",
              "      box-shadow: 0px 1px 2px rgba(60, 64, 67, 0.3), 0px 1px 3px 1px rgba(60, 64, 67, 0.15);\n",
              "      fill: #174EA6;\n",
              "    }\n",
              "\n",
              "    [theme=dark] .colab-df-convert {\n",
              "      background-color: #3B4455;\n",
              "      fill: #D2E3FC;\n",
              "    }\n",
              "\n",
              "    [theme=dark] .colab-df-convert:hover {\n",
              "      background-color: #434B5C;\n",
              "      box-shadow: 0px 1px 3px 1px rgba(0, 0, 0, 0.15);\n",
              "      filter: drop-shadow(0px 1px 2px rgba(0, 0, 0, 0.3));\n",
              "      fill: #FFFFFF;\n",
              "    }\n",
              "  </style>\n",
              "\n",
              "      <script>\n",
              "        const buttonEl =\n",
              "          document.querySelector('#df-b64e98f7-cb25-4e99-bc33-1c9c9ceb2df8 button.colab-df-convert');\n",
              "        buttonEl.style.display =\n",
              "          google.colab.kernel.accessAllowed ? 'block' : 'none';\n",
              "\n",
              "        async function convertToInteractive(key) {\n",
              "          const element = document.querySelector('#df-b64e98f7-cb25-4e99-bc33-1c9c9ceb2df8');\n",
              "          const dataTable =\n",
              "            await google.colab.kernel.invokeFunction('convertToInteractive',\n",
              "                                                     [key], {});\n",
              "          if (!dataTable) return;\n",
              "\n",
              "          const docLinkHtml = 'Like what you see? Visit the ' +\n",
              "            '<a target=\"_blank\" href=https://colab.research.google.com/notebooks/data_table.ipynb>data table notebook</a>'\n",
              "            + ' to learn more about interactive tables.';\n",
              "          element.innerHTML = '';\n",
              "          dataTable['output_type'] = 'display_data';\n",
              "          await google.colab.output.renderOutput(dataTable, element);\n",
              "          const docLink = document.createElement('div');\n",
              "          docLink.innerHTML = docLinkHtml;\n",
              "          element.appendChild(docLink);\n",
              "        }\n",
              "      </script>\n",
              "    </div>\n",
              "  </div>\n",
              "  "
            ]
          },
          "metadata": {},
          "execution_count": 121
        }
      ]
    },
    {
      "cell_type": "markdown",
      "source": [
        "\n",
        "  <div dir=rtl id=\"preprocessing\">\n",
        "    <font face=\"XB Zar\" size=4>\n",
        "      قدم بعدی حذف سطرهایی است که دردسترس نیست:\n",
        "    </font>\n",
        "  </div>"
      ],
      "metadata": {
        "id": "WUD6Cb2nhm2H"
      }
    },
    {
      "cell_type": "code",
      "source": [
        "colums_have_unknow=['job', 'marital', 'education', 'default', 'housing', 'loan']\n",
        "for colum_has_unknow in colums_have_unknow:\n",
        "    df.drop(df[df[colum_has_unknow] == 'unknow'].index, inplace = True)\n",
        "df.info()"
      ],
      "metadata": {
        "execution": {
          "iopub.status.busy": "2022-09-08T17:23:58.507932Z",
          "iopub.execute_input": "2022-09-08T17:23:58.508417Z",
          "iopub.status.idle": "2022-09-08T17:23:58.547733Z",
          "shell.execute_reply.started": "2022-09-08T17:23:58.508384Z",
          "shell.execute_reply": "2022-09-08T17:23:58.546941Z"
        },
        "trusted": true,
        "id": "GEFXjToAegpK",
        "colab": {
          "base_uri": "https://localhost:8080/"
        },
        "outputId": "80667972-d6a6-4910-dbae-452eacee3a48"
      },
      "execution_count": 122,
      "outputs": [
        {
          "output_type": "stream",
          "name": "stdout",
          "text": [
            "<class 'pandas.core.frame.DataFrame'>\n",
            "Int64Index: 45211 entries, 0 to 45210\n",
            "Data columns (total 17 columns):\n",
            " #   Column     Non-Null Count  Dtype\n",
            "---  ------     --------------  -----\n",
            " 0   age        45211 non-null  int64\n",
            " 1   job        45211 non-null  int64\n",
            " 2   marital    45211 non-null  int64\n",
            " 3   education  45211 non-null  int64\n",
            " 4   default    45211 non-null  int64\n",
            " 5   balance    45211 non-null  int64\n",
            " 6   housing    45211 non-null  int64\n",
            " 7   loan       45211 non-null  int64\n",
            " 8   contact    45211 non-null  int64\n",
            " 9   day        45211 non-null  int64\n",
            " 10  month      45211 non-null  int64\n",
            " 11  duration   45211 non-null  int64\n",
            " 12  campaign   45211 non-null  int64\n",
            " 13  pdays      45211 non-null  int64\n",
            " 14  previous   45211 non-null  int64\n",
            " 15  poutcome   45211 non-null  int64\n",
            " 16  Target     45211 non-null  int64\n",
            "dtypes: int64(17)\n",
            "memory usage: 7.2 MB\n"
          ]
        }
      ]
    },
    {
      "cell_type": "markdown",
      "source": [
        "  <div dir=rtl id=\"preprocessing\">\n",
        "    <font face=\"XB Zar\" size=4>\n",
        "      قدم آخر تقسیم دیتاست به دو قسمت:\n",
        "      <ul>\n",
        "        <font face=\"Roboto\">\n",
        "          <li>\n",
        "            Training\n",
        "          </li>\n",
        "          <li>\n",
        "            Testing\n",
        "          </li>\n",
        "        </font>\n",
        "      </ul>\n",
        "      می باشد که دو قسمت اصلی یادگیری ماشین هستند.\n",
        "    </font>\n",
        "  </div>"
      ],
      "metadata": {
        "id": "Y3s30a-biJtF"
      }
    },
    {
      "cell_type": "code",
      "source": [
        "y = df[\"Target\"].copy()\n",
        "x = df.drop(\"Target\", axis=1)"
      ],
      "metadata": {
        "execution": {
          "iopub.status.busy": "2022-09-08T17:23:58.548958Z",
          "iopub.execute_input": "2022-09-08T17:23:58.549218Z",
          "iopub.status.idle": "2022-09-08T17:23:58.555003Z",
          "shell.execute_reply.started": "2022-09-08T17:23:58.549194Z",
          "shell.execute_reply": "2022-09-08T17:23:58.553876Z"
        },
        "trusted": true,
        "id": "NOGLhxU1egpL"
      },
      "execution_count": 123,
      "outputs": []
    },
    {
      "cell_type": "code",
      "source": [
        "from sklearn.model_selection import train_test_split\n",
        "x_train, x_test, y_train, y_test = train_test_split(x, y, test_size = 0.33, random_state = 42)"
      ],
      "metadata": {
        "execution": {
          "iopub.status.busy": "2022-09-08T17:23:59.694562Z",
          "iopub.execute_input": "2022-09-08T17:23:59.694902Z",
          "iopub.status.idle": "2022-09-08T17:23:59.770833Z",
          "shell.execute_reply.started": "2022-09-08T17:23:59.694874Z",
          "shell.execute_reply": "2022-09-08T17:23:59.769590Z"
        },
        "trusted": true,
        "id": "m_BKQ1yuegpP"
      },
      "execution_count": 124,
      "outputs": []
    },
    {
      "cell_type": "code",
      "source": [
        "plt.figure(figsize=(17,17))\n",
        "sns.heatmap(data = df.corr(), annot=True)\n",
        "plt.show()"
      ],
      "metadata": {
        "id": "q8c_8eOb0ZU5",
        "colab": {
          "base_uri": "https://localhost:8080/",
          "height": 1000
        },
        "outputId": "b7e8e05c-2a38-418b-b8c9-ffdf6bfe8da0"
      },
      "execution_count": 125,
      "outputs": [
        {
          "output_type": "display_data",
          "data": {
            "text/plain": [
              "<Figure size 1224x1224 with 2 Axes>"
            ],
            "image/png": "[encoded data removed]"
          },
          "metadata": {}
        }
      ]
    },
    {
      "cell_type": "markdown",
      "source": [
        "\n",
        "  <div dir=\"rtl\" id=\"intro\">\n",
        "    <font face=\"XB Zar\" size=4>\n",
        "      <font color=\"red\" size=5>\n",
        "        مقدمه ای بر روش های\n",
        "        <font face=\"Roboto\">Ensemble</font>\n",
        "      </font>\n",
        "      <hr />\n",
        "       فرض کنید که شما از تعدادی از افراد(به صورت تصادفی) خواسته اید که یک مسئله را حل کرده و به شما تحویل دهند، احتمالا با جمع بندی پاسخ افراد به نتیجه بهتری نسبت به حالتی که از یک نفر(به صورت تصادفی) بخواهید تا این سوال را پاسخ دهد خواهید رسید. به این تئوری\n",
        "       <font face=\"Roboto\">wisdom of the crowd</font>\n",
        "       گفته میشود. در روش های\n",
        "       <font face=\"Roboto\">ensemble</font>\n",
        "       نیز از همین تئوری الهام گرفته و به همین صورت عمل می شود و از ترکیب چند الگوریتم برای بهبود پاسخ استفاده می شود.\n",
        "       </font>\n",
        "    </div>"
      ],
      "metadata": {
        "id": "1ElZ0H5Fg2yw"
      }
    },
    {
      "cell_type": "markdown",
      "source": [
        "\n",
        "  <div dir=rtl id=\"voting\">\n",
        "  <font face=\"XB Zar\" size=4>\n",
        "      <font color=\"red\" size=5>\n",
        "        روش رأی‌ گیری\n",
        "      </font>\n",
        "      <hr />\n",
        "      فرض کنید شما سه مدل زیر را دارید که هر کدام جداگانه عمل می کنند:\n",
        "      <ul>\n",
        "          <li>\n",
        "            <font face=\"Roboto\">\n",
        "              Logistic Regression:\n",
        "            </font>\n",
        "            با دقت حدودا\n",
        "            <font face=\"Roboto\">\n",
        "              0.8906\n",
        "            </font>\n",
        "          </li>\n",
        "          <li>\n",
        "            <font face=\"Roboto\">\n",
        "              Decision Tree classifier:\n",
        "            </font>\n",
        "            با دقت حدودا\n",
        "            <font face=\"Roboto\">\n",
        "              0.8766\n",
        "            </font>\n",
        "          </li>\n",
        "          <li>\n",
        "            <font face=\"Roboto\">\n",
        "              Support Vector Machine:\n",
        "            </font>\n",
        "            با دقت حدودا\n",
        "            <font face=\"Roboto\">\n",
        "              0.8828\n",
        "            </font>\n",
        "          </li>\n",
        "      </ul>\n",
        "      در حالی که اگر شما برای هر پیش بینی یک رأی‌ گیری میان این مدل ها انجام داده و رأی‌ اکثریت را به عنوان نتیجه بیان کنیم میتوان به دقت حدودی\n",
        "      <font face=\"Roboto\">\n",
        "        0.8909\n",
        "      </font>\n",
        "      دست یابیم که از دقت هر سه مدل به صورت جداگانه بالاتر است.\n",
        "      </font>\n",
        "    </div>"
      ],
      "metadata": {
        "id": "H_mnMP_xd-ud"
      }
    },
    {
      "cell_type": "code",
      "source": [
        "from sklearn.svm import SVC\n",
        "from sklearn.tree import DecisionTreeClassifier\n",
        "from sklearn.ensemble import VotingClassifier\n",
        "from sklearn.linear_model import LogisticRegression"
      ],
      "metadata": {
        "execution": {
          "iopub.status.busy": "2022-09-08T17:23:59.773280Z",
          "iopub.execute_input": "2022-09-08T17:23:59.774203Z",
          "iopub.status.idle": "2022-09-08T17:24:00.004785Z",
          "shell.execute_reply.started": "2022-09-08T17:23:59.774157Z",
          "shell.execute_reply": "2022-09-08T17:24:00.003365Z"
        },
        "trusted": true,
        "id": "8Bo736_PegpR"
      },
      "execution_count": 126,
      "outputs": []
    },
    {
      "cell_type": "code",
      "source": [
        "log_clf = LogisticRegression(solver='lbfgs', max_iter=30000, random_state = 42)\n",
        "dt_clf = DecisionTreeClassifier(random_state = 42)\n",
        "svm_clf = SVC(random_state = 42)\n",
        "hard_voting_clf = VotingClassifier(estimators=[('lr', log_clf), ('dt', dt_clf), ('svc', svm_clf)])"
      ],
      "metadata": {
        "execution": {
          "iopub.status.busy": "2022-09-08T17:24:00.006269Z",
          "iopub.execute_input": "2022-09-08T17:24:00.006657Z",
          "iopub.status.idle": "2022-09-08T17:24:21.433679Z",
          "shell.execute_reply.started": "2022-09-08T17:24:00.006616Z",
          "shell.execute_reply": "2022-09-08T17:24:21.432534Z"
        },
        "trusted": true,
        "id": "bqN_r0hKegpT"
      },
      "execution_count": 127,
      "outputs": []
    },
    {
      "cell_type": "code",
      "source": [
        "from sklearn.metrics import accuracy_score\n",
        "results = {}\n",
        "for clf in (log_clf, dt_clf, svm_clf):\n",
        "    clf.fit(x_train, y_train)\n",
        "    y_pred = clf.predict(x_test)\n",
        "    results[clf.__class__.__name__] = accuracy_score(y_test, y_pred)\n",
        "    \n",
        "hard_voting_clf.fit(x_train, y_train)\n",
        "y_pred = hard_voting_clf.predict(x_test)\n",
        "results[\"HardVotingClassifier\"] = accuracy_score(y_test, y_pred)"
      ],
      "metadata": {
        "execution": {
          "iopub.status.busy": "2022-09-08T17:24:21.435690Z",
          "iopub.execute_input": "2022-09-08T17:24:21.436052Z",
          "iopub.status.idle": "2022-09-08T17:25:15.664012Z",
          "shell.execute_reply.started": "2022-09-08T17:24:21.436018Z",
          "shell.execute_reply": "2022-09-08T17:25:15.663009Z"
        },
        "trusted": true,
        "id": "jWDGpwCNegpU"
      },
      "execution_count": 128,
      "outputs": []
    },
    {
      "cell_type": "code",
      "source": [
        "plt.figure(figsize=(14, 7))\n",
        "sns.set_palette(\"dark:#816797\")\n",
        "ax = sns.barplot(data=df, x=list(results.keys()), y=list(results.values()))\n",
        "ax.set_ylim([min(list(results.values()))-0.002, max(list(results.values()))+0.005])\n",
        "plt.show()"
      ],
      "metadata": {
        "colab": {
          "base_uri": "https://localhost:8080/",
          "height": 431
        },
        "id": "5ubvPCkMY-1Z",
        "outputId": "ad1b0846-5be0-424d-a76f-1238409789fc"
      },
      "execution_count": 129,
      "outputs": [
        {
          "output_type": "display_data",
          "data": {
            "text/plain": [
              "<Figure size 1008x504 with 1 Axes>"
            ],
            "image/png": "[encoded data removed]"
          },
          "metadata": {}
        }
      ]
    },
    {
      "cell_type": "markdown",
      "source": [
        "\n",
        "  <div dir=\"rtl\" id=\"intro\">\n",
        "    <font face=\"XB Zar\" size=4>\n",
        "      <font color=\"red\" size=5>\n",
        "        استفاده از احتمال مدل ها در رأی‌ گیری\n",
        "      </font>\n",
        "      <hr />\n",
        "      اگر بتوانیم احتمال هر مدل را به دست آوریم. می توانیم به پاسخ هر مدل یک وزن داده(بر اساس نزدیکی پاسخ به احتمال مدل) و بر اساس این اوزان رأی‌ گیری را انجام دهیم.\n",
        "       </font>\n",
        "    </div>"
      ],
      "metadata": {
        "id": "9cOkDJXH7fbE"
      }
    },
    {
      "cell_type": "code",
      "source": [
        "svm_clf = SVC(probability=True)\n",
        "soft_voting_clf = VotingClassifier(estimators=[('lr', log_clf), ('rf', dt_clf), ('svc', svm_clf)], voting='soft')\n"
      ],
      "metadata": {
        "execution": {
          "iopub.status.busy": "2022-09-08T17:25:15.669016Z",
          "iopub.execute_input": "2022-09-08T17:25:15.669372Z",
          "iopub.status.idle": "2022-09-08T17:26:45.968709Z",
          "shell.execute_reply.started": "2022-09-08T17:25:15.669339Z",
          "shell.execute_reply": "2022-09-08T17:26:45.967877Z"
        },
        "trusted": true,
        "id": "S-vKalbuegpV"
      },
      "execution_count": 130,
      "outputs": []
    },
    {
      "cell_type": "code",
      "source": [
        "soft_voting_clf.fit(x_train, y_train)\n",
        "y_pred = soft_voting_clf.predict(x_test)\n",
        "results[\"SoftVotingClassifier\"] = accuracy_score(y_test, y_pred)"
      ],
      "metadata": {
        "execution": {
          "iopub.status.busy": "2022-09-08T17:26:45.969781Z",
          "iopub.execute_input": "2022-09-08T17:26:45.970015Z",
          "iopub.status.idle": "2022-09-08T17:30:03.595982Z",
          "shell.execute_reply.started": "2022-09-08T17:26:45.969992Z",
          "shell.execute_reply": "2022-09-08T17:30:03.594557Z"
        },
        "trusted": true,
        "id": "JEtC7VjfegpW"
      },
      "execution_count": 131,
      "outputs": []
    },
    {
      "cell_type": "code",
      "source": [
        "plt.figure(figsize=(14, 7))\n",
        "ax = sns.barplot(data=df, x=list(results.keys()), y=list(results.values()))\n",
        "ax.set_ylim([min(list(results.values()))-0.002, max(list(results.values()))+0.005])\n",
        "plt.show()"
      ],
      "metadata": {
        "colab": {
          "base_uri": "https://localhost:8080/",
          "height": 431
        },
        "id": "SqFYQwvLotY-",
        "outputId": "577b4a78-34d7-4a15-82c3-4b47f2dbd9f6"
      },
      "execution_count": 132,
      "outputs": [
        {
          "output_type": "display_data",
          "data": {
            "text/plain": [
              "<Figure size 1008x504 with 1 Axes>"
            ],
            "image/png": "[encoded data removed]"
          },
          "metadata": {}
        }
      ]
    },
    {
      "cell_type": "markdown",
      "source": [
        "\n",
        "  <div dir=rtl id=\"bagging\">\n",
        "  <font face=\"XB Zar\" size=4>\n",
        "      <font color=\"red\" size=5>\n",
        "        روش\n",
        "        <font face=\"Roboto\">\n",
        "        Bagging\n",
        "        </font>\n",
        "      </font>\n",
        "      <br />\n",
        "      </font>\n",
        "    </div>"
      ],
      "metadata": {
        "id": "fIxcKVZceI7N"
      }
    },
    {
      "cell_type": "code",
      "source": [
        "from sklearn.ensemble import BaggingClassifier\n",
        "from sklearn.tree import DecisionTreeClassifier\n",
        "bag_clf = BaggingClassifier(DecisionTreeClassifier(), n_estimators=2000, max_samples=400, bootstrap=True, n_jobs=-1)\n",
        "bag_clf.fit(x_train, y_train)\n",
        "y_pred = bag_clf.predict(x_test)\n",
        "accuracy_score(y_test, y_pred)"
      ],
      "metadata": {
        "execution": {
          "iopub.status.busy": "2022-09-08T17:30:10.572506Z",
          "iopub.execute_input": "2022-09-08T17:30:10.572927Z",
          "iopub.status.idle": "2022-09-08T17:30:16.526368Z",
          "shell.execute_reply.started": "2022-09-08T17:30:10.572900Z",
          "shell.execute_reply": "2022-09-08T17:30:16.525663Z"
        },
        "trusted": true,
        "colab": {
          "base_uri": "https://localhost:8080/"
        },
        "id": "LX4hpRReegpZ",
        "outputId": "d17aee69-e36e-41b6-e451-1de845fd9c06"
      },
      "execution_count": 133,
      "outputs": [
        {
          "output_type": "execute_result",
          "data": {
            "text/plain": [
              "0.8963136729222521"
            ]
          },
          "metadata": {},
          "execution_count": 133
        }
      ]
    },
    {
      "cell_type": "markdown",
      "source": [
        "\n",
        "  <div dir=rtl id=\"pasting\">\n",
        "  <font face=\"XB Zar\" size=4>\n",
        "      <font color=\"red\" size=5>\n",
        "        روش\n",
        "        <font face=\"Roboto\">\n",
        "          Pasting\n",
        "        </font>\n",
        "      </font>\n",
        "      <br />\n",
        "      </font>\n",
        "    </div>"
      ],
      "metadata": {
        "id": "XyQwxmEweIHB"
      }
    },
    {
      "cell_type": "code",
      "source": [
        "#pasting\n",
        "bag_clf = BaggingClassifier(DecisionTreeClassifier(), n_estimators=2000, max_samples=400, bootstrap=False, n_jobs=-1)\n",
        "bag_clf.fit(x_train, y_train)\n",
        "y_pred = bag_clf.predict(x_test)\n",
        "accuracy_score(y_test, y_pred)"
      ],
      "metadata": {
        "execution": {
          "iopub.status.busy": "2022-09-08T17:30:03.597353Z",
          "iopub.execute_input": "2022-09-08T17:30:03.597857Z",
          "iopub.status.idle": "2022-09-08T17:30:10.571255Z",
          "shell.execute_reply.started": "2022-09-08T17:30:03.597826Z",
          "shell.execute_reply": "2022-09-08T17:30:10.570516Z"
        },
        "trusted": true,
        "colab": {
          "base_uri": "https://localhost:8080/"
        },
        "id": "U3V5DY3AegpY",
        "outputId": "16c7ba4e-a512-4bdc-beed-bcef89adbf49"
      },
      "execution_count": 134,
      "outputs": [
        {
          "output_type": "execute_result",
          "data": {
            "text/plain": [
              "0.8958445040214478"
            ]
          },
          "metadata": {},
          "execution_count": 134
        }
      ]
    },
    {
      "cell_type": "markdown",
      "source": [
        "\n",
        "  <div dir=rtl id=\"out-of-bag\">\n",
        "  <font face=\"XB Zar\" size=4>\n",
        "      <font color=\"red\" size=5>\n",
        "        ارزیابی\n",
        "        <font face=\"Roboto\">\n",
        "          out-of-bag\n",
        "        </font>\n",
        "      </font>\n",
        "      <br />\n",
        "      </font>\n",
        "    </div>"
      ],
      "metadata": {
        "id": "s3iyxiqlesox"
      }
    },
    {
      "cell_type": "code",
      "source": [
        "#oob\n",
        "bag_clf = BaggingClassifier(DecisionTreeClassifier(), n_estimators=2000, max_samples=400, bootstrap=True, n_jobs=-1, oob_score=True)\n",
        "bag_clf.fit(x_train, y_train)\n",
        "y_pred = bag_clf.predict(x_test)\n",
        "bag_clf.oob_score_"
      ],
      "metadata": {
        "execution": {
          "iopub.status.busy": "2022-09-08T17:30:16.527456Z",
          "iopub.execute_input": "2022-09-08T17:30:16.527872Z",
          "iopub.status.idle": "2022-09-08T17:30:35.814243Z",
          "shell.execute_reply.started": "2022-09-08T17:30:16.527847Z",
          "shell.execute_reply": "2022-09-08T17:30:35.812842Z"
        },
        "trusted": true,
        "colab": {
          "base_uri": "https://localhost:8080/"
        },
        "id": "iurAcBw-egpa",
        "outputId": "c8ae54fe-1975-47d4-a486-703b718e4268"
      },
      "execution_count": 135,
      "outputs": [
        {
          "output_type": "execute_result",
          "data": {
            "text/plain": [
              "0.8979234756198211"
            ]
          },
          "metadata": {},
          "execution_count": 135
        }
      ]
    },
    {
      "cell_type": "markdown",
      "source": [
        "\n",
        "  <div dir=rtl id=\"random-forests\">\n",
        "  <font face=\"XB Zar\" size=4>\n",
        "      <font color=\"red\" size=5>\n",
        "        روش\n",
        "        <font face=\"Roboto\">\n",
        "          Random Forests\n",
        "        </font>\n",
        "      </font>\n",
        "      <br />\n",
        "      </font>\n",
        "    </div>"
      ],
      "metadata": {
        "id": "vQvxedQBezxm"
      }
    },
    {
      "cell_type": "markdown",
      "source": [
        "\n",
        "  <div dir=rtl id=\"extera-trees\">\n",
        "  <font face=\"XB Zar\" size=4>\n",
        "      <font color=\"red\" size=5>\n",
        "        روش\n",
        "        <font face=\"Roboto\">\n",
        "          Extra-Trees\n",
        "        </font>\n",
        "      </font>\n",
        "      <br />\n",
        "      </font>\n",
        "    </div>"
      ],
      "metadata": {
        "id": "tlGOKYiQe8YX"
      }
    },
    {
      "cell_type": "code",
      "source": [
        "#random forest\n",
        "from sklearn.ensemble import RandomForestClassifier\n",
        "rnd_clf = RandomForestClassifier(n_estimators=500, max_leaf_nodes=16, n_jobs=-1)\n",
        "rnd_clf.fit(x_train, y_train)\n",
        "y_pred_rf = rnd_clf.predict(x_test)\n",
        "accuracy_score(y_test, y_pred)"
      ],
      "metadata": {
        "execution": {
          "iopub.status.busy": "2022-09-08T17:30:35.816446Z",
          "iopub.execute_input": "2022-09-08T17:30:35.816963Z",
          "iopub.status.idle": "2022-09-08T17:30:39.926990Z",
          "shell.execute_reply.started": "2022-09-08T17:30:35.816922Z",
          "shell.execute_reply": "2022-09-08T17:30:39.926055Z"
        },
        "trusted": true,
        "colab": {
          "base_uri": "https://localhost:8080/"
        },
        "id": "5D53jguHegpb",
        "outputId": "e0521d8b-2bd0-4c5b-df55-3772598470c0"
      },
      "execution_count": 136,
      "outputs": [
        {
          "output_type": "execute_result",
          "data": {
            "text/plain": [
              "0.8967828418230563"
            ]
          },
          "metadata": {},
          "execution_count": 136
        }
      ]
    },
    {
      "cell_type": "markdown",
      "source": [
        "\n",
        "  <div dir=rtl id=\"boosting\">\n",
        "  <font face=\"XB Zar\" size=4>\n",
        "      <font color=\"red\" size=5>\n",
        "        روش\n",
        "        <font face=\"Roboto\">\n",
        "          Boosting\n",
        "        </font>\n",
        "      </font>\n",
        "      <br />\n",
        "      </font>\n",
        "    </div>"
      ],
      "metadata": {
        "id": "0fkIdofkfEuk"
      }
    },
    {
      "cell_type": "markdown",
      "source": [
        "\n",
        "  <div dir=rtl id=\"adaboost\">\n",
        "  <font face=\"XB Zar\" size=4>\n",
        "      <font color=\"red\" size=5>\n",
        "        الگوریتم\n",
        "        <font face=\"Roboto\">\n",
        "          AdaBoost\n",
        "        </font>\n",
        "      </font>\n",
        "      <br />\n",
        "      </font>\n",
        "    </div>"
      ],
      "metadata": {
        "id": "fKUzqCBxfIyq"
      }
    },
    {
      "cell_type": "code",
      "source": [
        "#Ada boost(SAMME)\n",
        "\n",
        "from sklearn.ensemble import AdaBoostClassifier\n",
        "ada_clf = AdaBoostClassifier(DecisionTreeClassifier(max_depth=1), n_estimators=200, algorithm=\"SAMME\", learning_rate=0.5)\n",
        "ada_clf.fit(x_train, y_train)\n",
        "y_pred = ada_clf.predict(x_test)\n",
        "accuracy_score(y_test, y_pred)"
      ],
      "metadata": {
        "execution": {
          "iopub.status.busy": "2022-09-08T17:30:39.928513Z",
          "iopub.execute_input": "2022-09-08T17:30:39.928916Z",
          "iopub.status.idle": "2022-09-08T17:30:44.446785Z",
          "shell.execute_reply.started": "2022-09-08T17:30:39.928885Z",
          "shell.execute_reply": "2022-09-08T17:30:44.445323Z"
        },
        "trusted": true,
        "colab": {
          "base_uri": "https://localhost:8080/"
        },
        "id": "_wj2-eD8egpc",
        "outputId": "c8f0cdb0-5a2c-4154-be4d-b01300408da2"
      },
      "execution_count": 137,
      "outputs": [
        {
          "output_type": "execute_result",
          "data": {
            "text/plain": [
              "0.8948391420911528"
            ]
          },
          "metadata": {},
          "execution_count": 137
        }
      ]
    },
    {
      "cell_type": "code",
      "source": [
        "#Ada boost(SAMME.R)\n",
        "\n",
        "from sklearn.ensemble import AdaBoostClassifier\n",
        "ada_clf = AdaBoostClassifier(DecisionTreeClassifier(max_depth=1), n_estimators=200, algorithm=\"SAMME.R\", learning_rate=0.5)\n",
        "ada_clf.fit(x_train, y_train)\n",
        "y_pred = ada_clf.predict(x_test)\n",
        "accuracy_score(y_test, y_pred)"
      ],
      "metadata": {
        "execution": {
          "iopub.status.busy": "2022-09-08T17:30:44.448127Z",
          "iopub.execute_input": "2022-09-08T17:30:44.448440Z",
          "iopub.status.idle": "2022-09-08T17:30:49.795537Z",
          "shell.execute_reply.started": "2022-09-08T17:30:44.448414Z",
          "shell.execute_reply": "2022-09-08T17:30:49.794530Z"
        },
        "trusted": true,
        "colab": {
          "base_uri": "https://localhost:8080/"
        },
        "id": "gbx3ONL1egpe",
        "outputId": "52bb77e7-aa07-4eda-be83-cc5688f8ee3c"
      },
      "execution_count": 138,
      "outputs": [
        {
          "output_type": "execute_result",
          "data": {
            "text/plain": [
              "0.8989276139410187"
            ]
          },
          "metadata": {},
          "execution_count": 138
        }
      ]
    },
    {
      "cell_type": "markdown",
      "source": [
        "\n",
        "  <div dir=rtl id=\"gradient-boost\">\n",
        "  <font face=\"XB Zar\" size=4>\n",
        "      <font color=\"red\" size=5>\n",
        "        الگوریتم\n",
        "        <font face=\"Roboto\">\n",
        "          Gradient Boost\n",
        "        </font>\n",
        "      </font>\n",
        "      <br />\n",
        "      </font>\n",
        "    </div>"
      ],
      "metadata": {
        "id": "gXYviqGDfRyN"
      }
    },
    {
      "cell_type": "code",
      "source": [
        "# Gradiant boost(manual setup)\n",
        "from sklearn.tree import DecisionTreeClassifier\n",
        "tree_cl1 = DecisionTreeClassifier(max_depth=2, random_state=42)\n",
        "tree_cl1.fit(x_train, y_train)\n",
        "\n",
        "y2 = y_train - tree_cl1.predict(x_train)\n",
        "tree_cl2 = DecisionTreeClassifier(max_depth=2, random_state=42)\n",
        "tree_cl2.fit(x_train, y2)\n",
        "\n",
        "y3 = y2 - tree_cl2.predict(x_train)\n",
        "tree_cl3 = DecisionTreeClassifier(max_depth=2, random_state=42)\n",
        "tree_cl3.fit(x_train, y3)\n",
        "\n",
        "y_pred = sum(tree.predict(x_test) for tree in (tree_cl1, tree_cl2, tree_cl3))\n",
        "accuracy_score(y_test, y_pred)"
      ],
      "metadata": {
        "execution": {
          "iopub.status.busy": "2022-09-08T17:30:49.796961Z",
          "iopub.execute_input": "2022-09-08T17:30:49.797534Z",
          "iopub.status.idle": "2022-09-08T17:30:49.928783Z",
          "shell.execute_reply.started": "2022-09-08T17:30:49.797499Z",
          "shell.execute_reply": "2022-09-08T17:30:49.927803Z"
        },
        "trusted": true,
        "colab": {
          "base_uri": "https://localhost:8080/"
        },
        "id": "yND8xDypegpe",
        "outputId": "6add35d2-272e-4a95-d989-75bf30186875"
      },
      "execution_count": 139,
      "outputs": [
        {
          "output_type": "execute_result",
          "data": {
            "text/plain": [
              "0.8880026809651475"
            ]
          },
          "metadata": {},
          "execution_count": 139
        }
      ]
    },
    {
      "cell_type": "code",
      "source": [
        "# Gradiant boost(use sklearn)\n",
        "from sklearn.ensemble import GradientBoostingClassifier\n",
        "gbc = GradientBoostingClassifier(max_depth=2, n_estimators=5, random_state=42, learning_rate=1.0)\n",
        "gbc.fit(x_train, y_train)\n",
        "y_pred = gbc.predict(x_test)\n",
        "accuracy_score(y_test, y_pred)"
      ],
      "metadata": {
        "execution": {
          "iopub.status.busy": "2022-09-08T17:30:49.930013Z",
          "iopub.execute_input": "2022-09-08T17:30:49.930525Z",
          "iopub.status.idle": "2022-09-08T17:30:50.092064Z",
          "shell.execute_reply.started": "2022-09-08T17:30:49.930490Z",
          "shell.execute_reply": "2022-09-08T17:30:50.090954Z"
        },
        "trusted": true,
        "colab": {
          "base_uri": "https://localhost:8080/"
        },
        "id": "Y--1L5-Begpe",
        "outputId": "b0c62ed0-6fcd-481f-d2d1-c853a8e9f8b9"
      },
      "execution_count": 140,
      "outputs": [
        {
          "output_type": "execute_result",
          "data": {
            "text/plain": [
              "0.8939678284182305"
            ]
          },
          "metadata": {},
          "execution_count": 140
        }
      ]
    },
    {
      "cell_type": "markdown",
      "source": [
        "\n",
        "  <div dir=rtl id=\"early-stopping\">\n",
        "  <font face=\"XB Zar\" size=4>\n",
        "      <font color=\"red\" size=5>\n",
        "        استفاده از\n",
        "        <font face=\"Roboto\">\n",
        "          Early stopping\n",
        "        </font>\n",
        "      </font>\n",
        "      <br />\n",
        "      </font>\n",
        "    </div>"
      ],
      "metadata": {
        "id": "t-HV5AHFf1_R"
      }
    },
    {
      "cell_type": "code",
      "source": [
        "# Use early stopping so as to find best n_estimators parameter for GradientBoostingClassifier\n",
        "from sklearn.metrics import mean_squared_error\n",
        "from sklearn.ensemble import GradientBoostingClassifier\n",
        "gbc = GradientBoostingClassifier(max_depth=2, warm_start = True, random_state=42, learning_rate=1.0)\n",
        "min_val_error = float(\"inf\")\n",
        "error_going_up = 0\n",
        "for n_estimators in range(1, 120):\n",
        "    gbc.n_estimators = n_estimators\n",
        "    gbc.fit(x_train, y_train)\n",
        "    y_pred = gbc.predict(x_test)\n",
        "    val_error = mean_squared_error(y_test, y_pred)\n",
        "    if val_error < min_val_error:\n",
        "        min_val_error = val_error\n",
        "        error_going_up = 0\n",
        "    else:\n",
        "        error_going_up += 1\n",
        "        if error_going_up == 5:\n",
        "            break # early stopping\n",
        "gbc.fit(x_train, y_train)\n",
        "y_pred = gbc.predict(x_test)\n",
        "gbc.n_estimators"
      ],
      "metadata": {
        "execution": {
          "iopub.status.busy": "2022-09-08T17:30:50.093524Z",
          "iopub.execute_input": "2022-09-08T17:30:50.093863Z",
          "iopub.status.idle": "2022-09-08T17:30:50.724618Z",
          "shell.execute_reply.started": "2022-09-08T17:30:50.093833Z",
          "shell.execute_reply": "2022-09-08T17:30:50.723122Z"
        },
        "trusted": true,
        "colab": {
          "base_uri": "https://localhost:8080/"
        },
        "id": "jl08tspeegpf",
        "outputId": "97e8f6bd-0f08-4a5a-faab-00eb0c4d8096"
      },
      "execution_count": 141,
      "outputs": [
        {
          "output_type": "execute_result",
          "data": {
            "text/plain": [
              "15"
            ]
          },
          "metadata": {},
          "execution_count": 141
        }
      ]
    },
    {
      "cell_type": "code",
      "source": [
        "accuracy_score(y_test, y_pred)"
      ],
      "metadata": {
        "execution": {
          "iopub.status.busy": "2022-09-08T17:30:50.726330Z",
          "iopub.execute_input": "2022-09-08T17:30:50.726823Z",
          "iopub.status.idle": "2022-09-08T17:30:50.733765Z",
          "shell.execute_reply.started": "2022-09-08T17:30:50.726791Z",
          "shell.execute_reply": "2022-09-08T17:30:50.733006Z"
        },
        "trusted": true,
        "colab": {
          "base_uri": "https://localhost:8080/"
        },
        "id": "E6kdASUJegpf",
        "outputId": "133ec196-1ca0-40d9-9082-0606852fdaf9"
      },
      "execution_count": 142,
      "outputs": [
        {
          "output_type": "execute_result",
          "data": {
            "text/plain": [
              "0.9000670241286863"
            ]
          },
          "metadata": {},
          "execution_count": 142
        }
      ]
    },
    {
      "cell_type": "markdown",
      "source": [
        "\n",
        "  <div dir=rtl id=\"xg-boost\">\n",
        "  <font face=\"XB Zar\" size=4>\n",
        "      <font color=\"red\" size=5>\n",
        "        الگوریتم\n",
        "        <font face=\"Roboto\">\n",
        "          XGBoost\n",
        "        </font>\n",
        "      </font>\n",
        "      <br />\n",
        "      </font>\n",
        "    </div>"
      ],
      "metadata": {
        "id": "-EfzJWK9faOc"
      }
    },
    {
      "cell_type": "code",
      "source": [
        "#XGBoost\n",
        "!pip install xgboost"
      ],
      "metadata": {
        "execution": {
          "iopub.status.busy": "2022-09-08T17:30:50.735015Z",
          "iopub.execute_input": "2022-09-08T17:30:50.735522Z",
          "iopub.status.idle": "2022-09-08T17:31:20.814445Z",
          "shell.execute_reply.started": "2022-09-08T17:30:50.735474Z",
          "shell.execute_reply": "2022-09-08T17:31:20.812909Z"
        },
        "trusted": true,
        "colab": {
          "base_uri": "https://localhost:8080/"
        },
        "id": "3RsPkEdTegpf",
        "outputId": "6c98b56f-54e0-46a6-ee8e-68a37e83a3b6"
      },
      "execution_count": 143,
      "outputs": [
        {
          "output_type": "stream",
          "name": "stdout",
          "text": [
            "Looking in indexes: https://pypi.org/simple, https://us-python.pkg.dev/colab-wheels/public/simple/\n",
            "Requirement already satisfied: xgboost in /usr/local/lib/python3.7/dist-packages (0.90)\n",
            "Requirement already satisfied: scipy in /usr/local/lib/python3.7/dist-packages (from xgboost) (1.7.3)\n",
            "Requirement already satisfied: numpy in /usr/local/lib/python3.7/dist-packages (from xgboost) (1.21.6)\n"
          ]
        }
      ]
    },
    {
      "cell_type": "code",
      "source": [
        "from xgboost import XGBClassifier\n",
        "XG_classifier = XGBClassifier(random_state = 42)\n",
        "XG_classifier.fit(x_train, y_train)"
      ],
      "metadata": {
        "execution": {
          "iopub.status.busy": "2022-09-08T17:31:20.816042Z",
          "iopub.execute_input": "2022-09-08T17:31:20.816361Z",
          "iopub.status.idle": "2022-09-08T17:31:22.678097Z",
          "shell.execute_reply.started": "2022-09-08T17:31:20.816329Z",
          "shell.execute_reply": "2022-09-08T17:31:22.676931Z"
        },
        "trusted": true,
        "colab": {
          "base_uri": "https://localhost:8080/"
        },
        "id": "scFJiR3aegpg",
        "outputId": "4eb630cb-09e4-45f0-e16e-b9c40ec17c08"
      },
      "execution_count": 144,
      "outputs": [
        {
          "output_type": "execute_result",
          "data": {
            "text/plain": [
              "XGBClassifier(random_state=42)"
            ]
          },
          "metadata": {},
          "execution_count": 144
        }
      ]
    },
    {
      "cell_type": "code",
      "source": [
        "y_pred = XG_classifier.predict(x_test)\n",
        "accuracy_score(y_test, y_pred)"
      ],
      "metadata": {
        "execution": {
          "iopub.status.busy": "2022-09-08T17:31:22.679459Z",
          "iopub.execute_input": "2022-09-08T17:31:22.679844Z",
          "iopub.status.idle": "2022-09-08T17:31:22.706330Z",
          "shell.execute_reply.started": "2022-09-08T17:31:22.679812Z",
          "shell.execute_reply": "2022-09-08T17:31:22.705594Z"
        },
        "trusted": true,
        "colab": {
          "base_uri": "https://localhost:8080/"
        },
        "id": "SxSsSkNgegpg",
        "outputId": "6cfb3e55-1733-4e44-cb8f-82ec07d4f382"
      },
      "execution_count": 145,
      "outputs": [
        {
          "output_type": "execute_result",
          "data": {
            "text/plain": [
              "0.9037533512064343"
            ]
          },
          "metadata": {},
          "execution_count": 145
        }
      ]
    },
    {
      "cell_type": "code",
      "source": [
        "from sklearn.metrics import ConfusionMatrixDisplay\n",
        "ConfusionMatrixDisplay.from_predictions(y_test, y_pred, cmap=plt.cm.cividis)\n",
        "plt.show()"
      ],
      "metadata": {
        "execution": {
          "iopub.status.busy": "2022-09-08T17:31:22.707916Z",
          "iopub.execute_input": "2022-09-08T17:31:22.708316Z",
          "iopub.status.idle": "2022-09-08T17:31:22.876247Z",
          "shell.execute_reply.started": "2022-09-08T17:31:22.708281Z",
          "shell.execute_reply": "2022-09-08T17:31:22.875560Z"
        },
        "trusted": true,
        "colab": {
          "base_uri": "https://localhost:8080/",
          "height": 285
        },
        "id": "bkzQ4RI6egpg",
        "outputId": "cc188f4f-e315-465a-cd25-b418ce9cbfee"
      },
      "execution_count": 146,
      "outputs": [
        {
          "output_type": "display_data",
          "data": {
            "text/plain": [
              "<Figure size 432x288 with 2 Axes>"
            ],
            "image/png": "[encoded data removed]"
          },
          "metadata": {}
        }
      ]
    },
    {
      "cell_type": "markdown",
      "source": [
        "\n",
        "  <div dir=rtl id=\"cat-boost\">\n",
        "  <font face=\"XB Zar\" size=4>\n",
        "      <font color=\"red\" size=5>\n",
        "        الگوریتم\n",
        "        <font face=\"Roboto\">\n",
        "          CatBoost\n",
        "        </font>\n",
        "      </font>\n",
        "      <br />\n",
        "      </font>\n",
        "    </div>"
      ],
      "metadata": {
        "id": "tekI3K2jffFo"
      }
    },
    {
      "cell_type": "code",
      "source": [
        "!pip install catboost"
      ],
      "metadata": {
        "execution": {
          "iopub.status.busy": "2022-09-08T17:31:22.877236Z",
          "iopub.execute_input": "2022-09-08T17:31:22.877980Z",
          "iopub.status.idle": "2022-09-08T17:31:51.456234Z",
          "shell.execute_reply.started": "2022-09-08T17:31:22.877952Z",
          "shell.execute_reply": "2022-09-08T17:31:51.454719Z"
        },
        "trusted": true,
        "colab": {
          "base_uri": "https://localhost:8080/"
        },
        "id": "DYAVakcOegph",
        "outputId": "929a8a82-df07-4930-f761-0b0fe71371ff"
      },
      "execution_count": 147,
      "outputs": [
        {
          "output_type": "stream",
          "name": "stdout",
          "text": [
            "Looking in indexes: https://pypi.org/simple, https://us-python.pkg.dev/colab-wheels/public/simple/\n",
            "Collecting catboost\n",
            "  Downloading catboost-1.0.6-cp37-none-manylinux1_x86_64.whl (76.6 MB)\n",
            "\u001b[K     |████████████████████████████████| 76.6 MB 1.2 MB/s \n",
            "\u001b[?25hRequirement already satisfied: pandas>=0.24.0 in /usr/local/lib/python3.7/dist-packages (from catboost) (1.3.5)\n",
            "Requirement already satisfied: six in /usr/local/lib/python3.7/dist-packages (from catboost) (1.15.0)\n",
            "Requirement already satisfied: matplotlib in /usr/local/lib/python3.7/dist-packages (from catboost) (3.2.2)\n",
            "Requirement already satisfied: graphviz in /usr/local/lib/python3.7/dist-packages (from catboost) (0.10.1)\n",
            "Requirement already satisfied: numpy>=1.16.0 in /usr/local/lib/python3.7/dist-packages (from catboost) (1.21.6)\n",
            "Requirement already satisfied: plotly in /usr/local/lib/python3.7/dist-packages (from catboost) (5.5.0)\n",
            "Requirement already satisfied: scipy in /usr/local/lib/python3.7/dist-packages (from catboost) (1.7.3)\n",
            "Requirement already satisfied: pytz>=2017.3 in /usr/local/lib/python3.7/dist-packages (from pandas>=0.24.0->catboost) (2022.2.1)\n",
            "Requirement already satisfied: python-dateutil>=2.7.3 in /usr/local/lib/python3.7/dist-packages (from pandas>=0.24.0->catboost) (2.8.2)\n",
            "Requirement already satisfied: cycler>=0.10 in /usr/local/lib/python3.7/dist-packages (from matplotlib->catboost) (0.11.0)\n",
            "Requirement already satisfied: pyparsing!=2.0.4,!=2.1.2,!=2.1.6,>=2.0.1 in /usr/local/lib/python3.7/dist-packages (from matplotlib->catboost) (3.0.9)\n",
            "Requirement already satisfied: kiwisolver>=1.0.1 in /usr/local/lib/python3.7/dist-packages (from matplotlib->catboost) (1.4.4)\n",
            "Requirement already satisfied: typing-extensions in /usr/local/lib/python3.7/dist-packages (from kiwisolver>=1.0.1->matplotlib->catboost) (4.1.1)\n",
            "Requirement already satisfied: tenacity>=6.2.0 in /usr/local/lib/python3.7/dist-packages (from plotly->catboost) (8.0.1)\n",
            "Installing collected packages: catboost\n",
            "Successfully installed catboost-1.0.6\n"
          ]
        }
      ]
    },
    {
      "cell_type": "code",
      "source": [
        "from catboost import CatBoostClassifier\n",
        "\n",
        "cat_features = list(range(0, x.shape[1]))\n",
        "clf = CatBoostClassifier(iterations=5, learning_rate=0.1)\n",
        "clf.fit(x_train, y_train, cat_features=cat_features,  verbose=False)\n",
        "y_pred = clf.predict(x_test)\n",
        "accuracy_score(y_test, y_pred)"
      ],
      "metadata": {
        "execution": {
          "iopub.status.busy": "2022-09-08T17:31:51.458292Z",
          "iopub.execute_input": "2022-09-08T17:31:51.458905Z",
          "iopub.status.idle": "2022-09-08T17:31:52.103470Z",
          "shell.execute_reply.started": "2022-09-08T17:31:51.458863Z",
          "shell.execute_reply": "2022-09-08T17:31:52.102420Z"
        },
        "trusted": true,
        "colab": {
          "base_uri": "https://localhost:8080/"
        },
        "id": "6A0XIb1zegph",
        "outputId": "0707f2a8-fbad-446e-c130-4a4ad644f0ea"
      },
      "execution_count": 148,
      "outputs": [
        {
          "output_type": "execute_result",
          "data": {
            "text/plain": [
              "0.8922922252010724"
            ]
          },
          "metadata": {},
          "execution_count": 148
        }
      ]
    },
    {
      "cell_type": "code",
      "source": [
        "ConfusionMatrixDisplay.from_predictions(y_test, y_pred)\n",
        "plt.show()"
      ],
      "metadata": {
        "execution": {
          "iopub.status.busy": "2022-09-08T17:31:52.104720Z",
          "iopub.execute_input": "2022-09-08T17:31:52.105040Z",
          "iopub.status.idle": "2022-09-08T17:31:52.263081Z",
          "shell.execute_reply.started": "2022-09-08T17:31:52.105000Z",
          "shell.execute_reply": "2022-09-08T17:31:52.262185Z"
        },
        "trusted": true,
        "colab": {
          "base_uri": "https://localhost:8080/",
          "height": 285
        },
        "id": "emOhSY1Gegph",
        "outputId": "2611429b-9a69-4251-8123-caafaca5766c"
      },
      "execution_count": 149,
      "outputs": [
        {
          "output_type": "display_data",
          "data": {
            "text/plain": [
              "<Figure size 432x288 with 2 Axes>"
            ],
            "image/png": "[encoded data removed]"
          },
          "metadata": {}
        }
      ]
    },
    {
      "cell_type": "markdown",
      "source": [
        "\n",
        "  <div dir=rtl id=\"stacking\">\n",
        "  <font face=\"XB Zar\" size=4>\n",
        "      <font color=\"red\" size=5>\n",
        "        روش\n",
        "        <font face=\"Roboto\">\n",
        "          Stacking\n",
        "        </font>\n",
        "      </font>\n",
        "      <br />\n",
        "      </font>\n",
        "    </div>"
      ],
      "metadata": {
        "id": "2LYEgOSImGp8"
      }
    },
    {
      "cell_type": "code",
      "source": [
        "#staking\n",
        "from sklearn.ensemble import StackingClassifier\n",
        "from sklearn.ensemble import RandomForestClassifier\n",
        "\n",
        "rf_clf = RandomForestClassifier(n_estimators=10, random_state=42)\n",
        "svm_clf = SVC(random_state=42)\n",
        "stacking_clf = StackingClassifier(estimators=[('rf', rf_clf), ('svc', svm_clf)], final_estimator=LogisticRegression())\n",
        "stacking_clf.fit(x_train, y_train)\n",
        "y_pred = stacking_clf.predict(x_test)\n",
        "accuracy_score(y_test, y_pred)"
      ],
      "metadata": {
        "execution": {
          "iopub.status.busy": "2022-09-08T17:31:52.264337Z",
          "iopub.execute_input": "2022-09-08T17:31:52.265143Z",
          "iopub.status.idle": "2022-09-08T17:32:58.056712Z",
          "shell.execute_reply.started": "2022-09-08T17:31:52.265113Z",
          "shell.execute_reply": "2022-09-08T17:32:58.055890Z"
        },
        "trusted": true,
        "colab": {
          "base_uri": "https://localhost:8080/"
        },
        "id": "hFLPL0sUegpi",
        "outputId": "bfc0f490-5394-4712-90b3-0f8c596dc037"
      },
      "execution_count": 150,
      "outputs": [
        {
          "output_type": "execute_result",
          "data": {
            "text/plain": [
              "0.8988605898123324"
            ]
          },
          "metadata": {},
          "execution_count": 150
        }
      ]
    }
  ]
}